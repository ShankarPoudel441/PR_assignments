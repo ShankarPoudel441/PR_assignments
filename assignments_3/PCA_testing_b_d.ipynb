{
 "cells": [
  {
   "cell_type": "code",
   "execution_count": 1,
   "id": "46d33504",
   "metadata": {},
   "outputs": [],
   "source": [
    "import numpy as np\n",
    "import matplotlib.pyplot as plt\n",
    "\n",
    "from pathlib import Path\n",
    "import os\n",
    "import cv2\n",
    "import random\n",
    "random.seed(42)\n",
    "from sklearn.preprocessing import normalize\n",
    "import pickle\n",
    "\n",
    "from scipy.spatial import distance"
   ]
  },
  {
   "cell_type": "code",
   "execution_count": 2,
   "id": "7a78e6b8",
   "metadata": {},
   "outputs": [],
   "source": [
    "HOME=\"./Faces_FA_FB/\"\n",
    "fa_H=\"fa_H\"\n",
    "fa_L=\"fa_L\"\n",
    "fb_H=\"fb_H\"\n",
    "fb_L=\"fb_L\"\n",
    "\n",
    "training_location_H=HOME+\"/\"+fa_H\n",
    "testing_location_H=HOME+\"/\"+fb_H\n",
    "training_location_L=HOME+\"/\"+fa_L\n",
    "testing_location_L=HOME+\"/\"+fb_L"
   ]
  },
  {
   "cell_type": "code",
   "execution_count": 3,
   "id": "f3485b9c",
   "metadata": {},
   "outputs": [],
   "source": [
    "def get_images_id(location):\n",
    "    images_name=[]\n",
    "    for file in os.listdir(location):\n",
    "        if file.endswith(\".pgm\"):\n",
    "            images_name.append(file)\n",
    "\n",
    "    data_id=np.array([x[:5] for x in images_name])\n",
    "    images=np.array([cv2.imread(location+\"/\"+x) for x in images_name])\n",
    "    return images,data_id\n",
    "\n",
    "# training_images_H,training_data_id_H=get_images_id(training_location_H)\n",
    "testing_images_H,testing_data_id_H=get_images_id(testing_location_H)\n",
    "# training_images_L,training_data_id_L=get_images_id(training_location_L)\n",
    "testing_images_L,testing_data_id_L=get_images_id(testing_location_L)\n"
   ]
  },
  {
   "cell_type": "code",
   "execution_count": 4,
   "id": "acda67e5",
   "metadata": {},
   "outputs": [
    {
     "data": {
      "text/plain": [
       "84"
      ]
     },
     "execution_count": 4,
     "metadata": {},
     "output_type": "execute_result"
    }
   ],
   "source": [
    "np.sum(np.array([1 for a in testing_data_id_L if int(a)<=140]))"
   ]
  },
  {
   "cell_type": "code",
   "execution_count": 5,
   "id": "6352f53f",
   "metadata": {},
   "outputs": [],
   "source": [
    "def show_multiple_images_10(images,title=None):\n",
    "    rows=int(len(images)/5)\n",
    "    if rows%1>0:\n",
    "        rows=rows+1\n",
    "    columns=5\n",
    "    fig = plt.figure(figsize=(1.5*columns,1.5*rows))\n",
    "    if title:\n",
    "        fig.suptitle(title,fontsize=10)\n",
    "    \n",
    "    for i in range(len(images)):\n",
    "        # Adds a subplot at the 1st position\n",
    "        fig.add_subplot(rows, columns, i+1)\n",
    "        # showing image\n",
    "        plt.imshow(images[i],cmap='gray')\n",
    "        plt.axis('off')\n",
    "        plt.savefig(\"a_I_largest_10.svg\",dpi=300,format='svg')\n",
    "        "
   ]
  },
  {
   "cell_type": "code",
   "execution_count": null,
   "id": "a52b6b2b",
   "metadata": {},
   "outputs": [],
   "source": []
  },
  {
   "cell_type": "code",
   "execution_count": 6,
   "id": "d0c0197c",
   "metadata": {},
   "outputs": [],
   "source": [
    "class MyPCA_testing:\n",
    "    \n",
    "    def __init__(self, read_pickle_model, information=100):\n",
    "        self.read_pickle_model=read_pickle_model\n",
    "        self.information=information\n",
    "        self.find_components()\n",
    "        \n",
    "    def find_components(self):        \n",
    "        with open(self.read_pickle_model,'rb') as filehandler:\n",
    "            object_file = pickle.load(filehandler)\n",
    "        self.projections,self.mean,self.eig_vals_sorted,self.eig_vecs_sorted,self.data_id=object_file\n",
    "        \n",
    "        image_shape=np.array(self.mean).shape\n",
    "#         self.mean=np.array(self.mean).flatten()\n",
    "        #Finding n_components from teh amount of information to take\n",
    "        if self.information>1:\n",
    "            self.information=self.information/100\n",
    "        if self.information!=None:\n",
    "            info_cumsum=np.cumsum(self.eig_vals_sorted)\n",
    "            \n",
    "            info_cumsum_percent=np.array(info_cumsum)/info_cumsum[-1]\n",
    "            for i in range(len(info_cumsum)):\n",
    "                if info_cumsum_percent[i]>=self.information:\n",
    "                    self.n_components=i\n",
    "                    break\n",
    "                    \n",
    "        self.components =self. eig_vecs_sorted[:self.n_components]\n",
    "        self.eign_val_components = self.eig_vals_sorted[:self.n_components]\n",
    "        self.projections=self.projections[:,:self.n_components]\n",
    "    \n",
    "    def distance_with_faces(self,x):\n",
    "        inverse_eigen_val_matrix=np.diag(1/self.eign_val_components)\n",
    "        distances=[distance.mahalanobis(x,a,inverse_eigen_val_matrix) for a in self.projections]\n",
    "        return distances\n",
    "        \n",
    "    def predict_a_face(self, item, r):\n",
    "        P = item[:,:,0].copy()\n",
    "        P = (P - self.mean).flatten()\n",
    "        P_proj=self.components.dot(P)\n",
    "        \n",
    "        distances=self.distance_with_faces(P_proj)\n",
    "        sorted_arg=np.argsort(distances)\n",
    "        args_to_see=sorted_arg[:r]\n",
    "        np.array([self.data_id[x] for x in args_to_see])\n",
    "        \n",
    "    def predict_intrusion(self,item,threshold):\n",
    "        P = item[:,:,0].copy()\n",
    "        P = (P - self.mean).flatten()\n",
    "        P_proj=self.components.dot(P)\n",
    "        \n",
    "        distance=self.distance_with_faces(P_proj)\n",
    "        if distance>threshold:\n",
    "            return 0\n",
    "        else:\n",
    "            return 1\n",
    "\n",
    "\n",
    "    def predict_intrusion_distance(self,item):\n",
    "        P = item[:,:,0].copy()\n",
    "        P = (P - self.mean).flatten()\n",
    "        P_proj=self.components.dot(P)\n",
    "        \n",
    "        distances=self.distance_with_faces(P_proj)\n",
    "        sorted_distance=np.sort(distances)\n",
    "        return sorted_distance[0]\n",
    "        \n",
    "    \n",
    "    def getMean(self):\n",
    "        return self.mean\n",
    "    \n",
    "    def getComponents(self):\n",
    "        return self.components\n",
    "    \n",
    "    def getProjections(self):\n",
    "        return self.projections\n",
    "    \n",
    "    def getDataId(self):\n",
    "        return self.data_id"
   ]
  },
  {
   "cell_type": "code",
   "execution_count": null,
   "id": "99ed2cd9",
   "metadata": {},
   "outputs": [],
   "source": []
  },
  {
   "cell_type": "code",
   "execution_count": 7,
   "id": "20d3c499",
   "metadata": {},
   "outputs": [],
   "source": [
    "def TPR_FPR_given_threshold(truth_value, prediction_distances, threshold):\n",
    "    prediction=[1 if dist<threshold else 0 for dist in prediction_distances]\n",
    "    \n",
    "    intruders_predicted_set=np.array([e for i ,e in enumerate(prediction) if truth_value[i]==0])\n",
    "    FPR=np.sum(intruders_predicted_set)/len(intruders_predicted_set)\n",
    "    non_intruders_predicted_set=[e for i ,e in enumerate(prediction) if truth_value[i]==1]\n",
    "    TPR=np.sum(np.array(non_intruders_predicted_set))/len(non_intruders_predicted_set)\n",
    "#     print(len(non_intruders_predicted_set),len(intruders_predicted_set))\n",
    "    \n",
    "    return TPR,FPR\n"
   ]
  },
  {
   "cell_type": "code",
   "execution_count": 8,
   "id": "d9fde6d0",
   "metadata": {},
   "outputs": [
    {
     "name": "stdout",
     "output_type": "stream",
     "text": [
      "84 1119 1196\n"
     ]
    },
    {
     "data": {
      "text/plain": [
       "Text(0.5, 1.0, 'ROC curve when using high resolution images')"
      ]
     },
     "execution_count": 8,
     "metadata": {},
     "output_type": "execute_result"
    },
    {
     "data": {
      "image/png": "[encoded data removed]",
      "text/plain": [
       "<Figure size 432x288 with 1 Axes>"
      ]
     },
     "metadata": {
      "needs_background": "light"
     },
     "output_type": "display_data"
    }
   ],
   "source": [
    "PCA1=MyPCA_testing(read_pickle_model=\"High_50_images.pickle\",information=95)\n",
    "\n",
    "prediction_dis=[PCA1.predict_intrusion_distance(testing_images_H[i]) for i in range(len(testing_data_id_H))]\n",
    "# print(prediction_dis)\n",
    "non_intruders=PCA1.getDataId()\n",
    "truth_value=np.array([1 if testing_data_id_H[i] in non_intruders else 0 for i in range(len(testing_data_id_H)) ])\n",
    "intruders=[x for x in testing_data_id_H if x not in non_intruders]\n",
    "\n",
    "\n",
    "print(len(intruders),len(non_intruders),len(truth_value))\n",
    "\n",
    "rates_h=[TPR_FPR_given_threshold(truth_value=truth_value,\n",
    "                                 prediction_distances=prediction_dis,\n",
    "                                 threshold=t\n",
    "                                ) for t in np.arange(0,1,.0001)]\n"
   ]
  },
  {
   "cell_type": "code",
   "execution_count": 17,
   "id": "f11b6b37",
   "metadata": {},
   "outputs": [
    {
     "data": {
      "text/plain": [
       "Text(0.5, 1.0, 'ROC curve when using high resolution images')"
      ]
     },
     "execution_count": 17,
     "metadata": {},
     "output_type": "execute_result"
    },
    {
     "data": {
      "image/png": "[encoded data removed]",
      "text/plain": [
       "<Figure size 720x720 with 1 Axes>"
      ]
     },
     "metadata": {
      "needs_background": "light"
     },
     "output_type": "display_data"
    }
   ],
   "source": [
    "fig=plt.figure(figsize=(10,10))\n",
    "plt.plot(np.array(rates_h).T[1],np.array(rates_h).T[0])\n",
    "plt.title(\"ROC curve when using high resolution images\")"
   ]
  },
  {
   "cell_type": "code",
   "execution_count": null,
   "id": "27bd59ab",
   "metadata": {},
   "outputs": [],
   "source": []
  },
  {
   "cell_type": "code",
   "execution_count": 9,
   "id": "671ec07d",
   "metadata": {},
   "outputs": [
    {
     "data": {
      "text/plain": [
       "Text(0.5, 1.0, 'ROC curve when using low resolution images')"
      ]
     },
     "execution_count": 9,
     "metadata": {},
     "output_type": "execute_result"
    },
    {
     "data": {
      "image/png": "[encoded data removed]",
      "text/plain": [
       "<Figure size 432x288 with 1 Axes>"
      ]
     },
     "metadata": {
      "needs_background": "light"
     },
     "output_type": "display_data"
    }
   ],
   "source": [
    "PCA2=MyPCA_testing(read_pickle_model=\"Low_50_images.pickle\",information=95)\n",
    "\n",
    "prediction_dis=[PCA2.predict_intrusion_distance(testing_images_L[i]) for i in range(len(testing_data_id_L))]\n",
    "# print(prediction_dis)\n",
    "non_intruders=PCA1.getDataId()\n",
    "truth_value=np.array([1 if testing_data_id_L[i] in non_intruders else 0 for i in range(len(testing_data_id_L)) ])\n",
    "intruders=[x for x in testing_data_id_H if x not in non_intruders]\n",
    "\n",
    "rates_l=[TPR_FPR_given_threshold(truth_value,\n",
    "                                 prediction_distances=prediction_dis,\n",
    "                                 threshold=t\n",
    "                                ) for t in np.arange(0,5,.0001)]\n",
    "\n",
    "plt.plot(np.array(rates_l).T[1],np.array(rates_l).T[0])\n",
    "plt.title(\"ROC curve when using low resolution images\")"
   ]
  },
  {
   "cell_type": "code",
   "execution_count": 21,
   "id": "18f6f05f",
   "metadata": {},
   "outputs": [
    {
     "data": {
      "text/plain": [
       "Text(0.5, 1.0, 'ROC curve when using low resolution images')"
      ]
     },
     "execution_count": 21,
     "metadata": {},
     "output_type": "execute_result"
    },
    {
     "data": {
      "image/png": "[encoded data removed]",
      "text/plain": [
       "<Figure size 720x720 with 1 Axes>"
      ]
     },
     "metadata": {
      "needs_background": "light"
     },
     "output_type": "display_data"
    }
   ],
   "source": [
    "fig=plt.figure(figsize=(10,10))\n",
    "plt.plot(np.array(rates_l).T[1],np.array(rates_l).T[0])\n",
    "plt.title(\"ROC curve when using low resolution images\")"
   ]
  },
  {
   "cell_type": "code",
   "execution_count": 20,
   "id": "1e8673df",
   "metadata": {},
   "outputs": [
    {
     "data": {
      "image/png": "[encoded data removed]",
      "text/plain": [
       "<Figure size 720x720 with 1 Axes>"
      ]
     },
     "metadata": {
      "needs_background": "light"
     },
     "output_type": "display_data"
    }
   ],
   "source": [
    "fig=plt.figure(figsize=(10,10))\n",
    "plt.plot(np.array(rates_h).T[1],np.array(rates_h).T[0])\n",
    "plt.plot(np.array(rates_l).T[1],np.array(rates_l).T[0])\n",
    "plt.legend(['High Resolution', 'Low Resolution'])\n",
    "plt.xlabel('FPR')\n",
    "plt.ylabel('TPR')\n",
    "plt.title(f\"ROC for high and low resolution\")\n",
    "plt.show()"
   ]
  },
  {
   "cell_type": "code",
   "execution_count": null,
   "id": "876d75b8",
   "metadata": {},
   "outputs": [],
   "source": []
  },
  {
   "cell_type": "code",
   "execution_count": null,
   "id": "c8e5d1da",
   "metadata": {},
   "outputs": [],
   "source": []
  },
  {
   "cell_type": "code",
   "execution_count": null,
   "id": "a006040e",
   "metadata": {},
   "outputs": [],
   "source": []
  },
  {
   "cell_type": "code",
   "execution_count": null,
   "id": "469872f4",
   "metadata": {},
   "outputs": [],
   "source": []
  },
  {
   "cell_type": "code",
   "execution_count": null,
   "id": "b417bc7a",
   "metadata": {},
   "outputs": [],
   "source": []
  },
  {
   "cell_type": "code",
   "execution_count": null,
   "id": "10628892",
   "metadata": {},
   "outputs": [],
   "source": []
  },
  {
   "cell_type": "code",
   "execution_count": null,
   "id": "c1cd97e9",
   "metadata": {},
   "outputs": [],
   "source": []
  },
  {
   "cell_type": "code",
   "execution_count": 11,
   "id": "671e7294",
   "metadata": {},
   "outputs": [],
   "source": [
    "# non_intruders=PCA1.getDataId()\n",
    "# # truth_value=np.array([1 if testing_data_id_H[i] in non_intruders else 0 for i in range(len(testing_data_id_H)) ])\n",
    "# intruders_predicted_set=np.array([e for i ,e in enumerate(prediction) if truth_value[i]==0])\n",
    "# # FPR=np.sum(1-intruders_predicted_set)/len(intruders_predicted_set)\n",
    "# non_intruders_predicted_set=[e for i ,e in enumerate(prediction) if truth_value[i]==1]\n"
   ]
  },
  {
   "cell_type": "code",
   "execution_count": 12,
   "id": "0c89eaa1",
   "metadata": {},
   "outputs": [],
   "source": [
    "# PCA1=MyPCA_testing(read_pickle_model=\"High_50_images.pickle\",information=95)\n",
    "# prediction=[PCA1.predict_intrusion(testing_images_H[i],0.1) for i in range(len(testing_data_id_H))]\n",
    "# non_intruders=PCA1.getDataId()\n",
    "# truth_value=np.array([1 if testing_data_id_H[i] in non_intruders else 0 for i in range(len(testing_data_id_H)) ])\n",
    "# intruders_predicted_set=np.array([e for i ,e in enumerate(prediction) if truth_value[i]==0])\n",
    "# FPR=np.sum(1-intruders_predicted_set)/len(intruders_predicted_set)\n",
    "# non_intruders_predicted_set=[e for i ,e in enumerate(prediction) if truth_value[i]==1]\n",
    "# TPR=np.sum(np.array(non_intruders_predicted_set))/len(non_intruders)\n",
    "# FPR,TPR"
   ]
  },
  {
   "cell_type": "code",
   "execution_count": 13,
   "id": "0e9a365e",
   "metadata": {},
   "outputs": [],
   "source": [
    "# PCA1=MyPCA_testing(read_pickle_model=\"High_50_images.pickle\",information=80)\n",
    "# prediction=[PCA1.predict_intrusion(testing_images_H[i],0.1) for i in range(len(testing_data_id_H))]\n",
    "# non_intruders=PCA1.getDataId()\n",
    "# truth_value=np.array([1 if testing_data_id_H[i] in non_intruders else 0 for i in range(len(testing_data_id_H)) ])\n",
    "# intruders_predicted_set=np.array([e for i ,e in enumerate(prediction) if truth_value[i]==0])\n",
    "# FPR=np.sum(1-intruders_predicted_set)/len(intruders_predicted_set)\n",
    "# non_intruders_predicted_set=[e for i ,e in enumerate(prediction) if truth_value[i]==1]\n",
    "# TPR=np.sum(np.array(non_intruders_predicted_set))/len(non_intruders)\n",
    "# FPR,TPR"
   ]
  },
  {
   "cell_type": "code",
   "execution_count": null,
   "id": "8ad23c9d",
   "metadata": {},
   "outputs": [],
   "source": []
  },
  {
   "cell_type": "code",
   "execution_count": null,
   "id": "8ef252cc",
   "metadata": {},
   "outputs": [],
   "source": []
  },
  {
   "cell_type": "code",
   "execution_count": null,
   "id": "0852c9eb",
   "metadata": {},
   "outputs": [],
   "source": []
  },
  {
   "cell_type": "code",
   "execution_count": 14,
   "id": "f8b071b9",
   "metadata": {},
   "outputs": [],
   "source": [
    "# def create_ROC(model,testing_images,testing_data_id,title):\n",
    "#     non_intruders=PCA1.getDataId()\n",
    "#     truth_value=np.array([1 if testing_data_id[i] in non_intruders else 0 for i in range(len(testing_data_id))])\n",
    "#     FPR=[]\n",
    "#     TPR=[]\n",
    "#     for threshold in np.arange(0.3,0.8,0.02):\n",
    "#         prediction=[PCA1.predict_intrusion(testing_images[i],threshold) for i in range(len(testing_data_id))]\n",
    "#         intruders_predicted_set=np.array([e for i ,e in enumerate(prediction) if truth_value[i]==0])\n",
    "#         FPRx=np.sum(intruders_predicted_set)/len(intruders_predicted_set)\n",
    "#         non_intruders_predicted_set=[e for i ,e in enumerate(prediction) if truth_value[i]==1]\n",
    "#         TPRx=np.sum(np.array(non_intruders_predicted_set))/len(non_intruders)\n",
    "#         FPR.append(FPRx)\n",
    "#         TPR.append(TPRx)\n",
    "#     print(FPR,TPR)\n",
    "#     plt.plot(FPR,TPR)\n",
    "#     plt.xlim(0,1)\n",
    "#     plt.ylim(0,1)\n",
    "#     plt.xlabel('False Positive Rate')\n",
    "#     plt.ylabel('True Positive Rate')\n",
    "#     plt.title(title)\n",
    "#     plt.show()\n",
    "#     return  TPR,FPR\n",
    "        \n"
   ]
  },
  {
   "cell_type": "code",
   "execution_count": 15,
   "id": "f4be4f14",
   "metadata": {},
   "outputs": [],
   "source": [
    "# PCA1=MyPCA_testing(read_pickle_model=\"High_50_images.pickle\",information=95)       \n",
    "# TPR_h,FPR_h=create_ROC(model=PCA1,\n",
    "#            testing_images=testing_images_H,\n",
    "#            testing_data_id=testing_data_id_H,\n",
    "#            title=\"ROC curve for high resolution images\"\n",
    "#           )       "
   ]
  },
  {
   "cell_type": "code",
   "execution_count": 16,
   "id": "688fb448",
   "metadata": {},
   "outputs": [],
   "source": [
    "# PCA1=MyPCA_testing(read_pickle_model=\"Low_50_images.pickle\",information=95)       \n",
    "# TPR_l,FPR_l=create_ROC(model=PCA1,\n",
    "#            testing_images=testing_images_L,\n",
    "#            testing_data_id=testing_data_id_L,\n",
    "#            title=\"ROC curve for high resolution images\"\n",
    "#           )       "
   ]
  },
  {
   "cell_type": "code",
   "execution_count": null,
   "id": "eaf8146c",
   "metadata": {},
   "outputs": [],
   "source": []
  },
  {
   "cell_type": "code",
   "execution_count": null,
   "id": "3a9d42b6",
   "metadata": {},
   "outputs": [],
   "source": []
  },
  {
   "cell_type": "code",
   "execution_count": null,
   "id": "db4de1db",
   "metadata": {},
   "outputs": [],
   "source": []
  }
 ],
 "metadata": {
  "kernelspec": {
   "display_name": "Python 3",
   "language": "python",
   "name": "python3"
  },
  "language_info": {
   "codemirror_mode": {
    "name": "ipython",
    "version": 3
   },
   "file_extension": ".py",
   "mimetype": "text/x-python",
   "name": "python",
   "nbconvert_exporter": "python",
   "pygments_lexer": "ipython3",
   "version": "3.7.0"
  }
 },
 "nbformat": 4,
 "nbformat_minor": 5
}
