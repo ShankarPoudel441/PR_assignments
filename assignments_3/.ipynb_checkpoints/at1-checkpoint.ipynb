{
 "cells": [
  {
   "cell_type": "code",
   "execution_count": 1,
   "id": "06b603ef-9467-47f3-b19d-e5de14f7d752",
   "metadata": {},
   "outputs": [],
   "source": [
    "import numpy as np\n",
    "import matplotlib.pyplot as plt"
   ]
  },
  {
   "cell_type": "code",
   "execution_count": 2,
   "id": "745af927-c94b-447a-b70e-d13a001846ee",
   "metadata": {},
   "outputs": [],
   "source": [
    "class MyPCA:\n",
    "    \n",
    "    def __init__(self, n_components):\n",
    "        self.n_components = n_components   \n",
    "        \n",
    "    def fit(self, X):\n",
    "        # Standardize data \n",
    "        X = X.copy()\n",
    "        self.mean = np.mean(X, axis = 0)\n",
    "        self.scale = np.std(X, axis = 0)\n",
    "        X_std = (X - self.mean) / self.scale\n",
    "        \n",
    "        # Eigendecomposition of covariance matrix       \n",
    "        cov_mat = np.cov(X_std.T)\n",
    "        eig_vals, eig_vecs = np.linalg.eig(cov_mat) \n",
    "        \n",
    "        # Adjusting the eigenvectors that are largest in absolute value to be positive    \n",
    "        max_abs_idx = np.argmax(np.abs(eig_vecs), axis=0)\n",
    "        signs = np.sign(eig_vecs[max_abs_idx, range(eig_vecs.shape[0])])\n",
    "        eig_vecs = eig_vecs*signs[np.newaxis,:]\n",
    "        eig_vecs = eig_vecs.T\n",
    "       \n",
    "        eig_pairs = [(np.abs(eig_vals[i]), eig_vecs[i,:]) for i in range(len(eig_vals))]\n",
    "        eig_pairs.sort(key=lambda x: x[0], reverse=True)\n",
    "        eig_vals_sorted = np.array([x[0] for x in eig_pairs])\n",
    "        eig_vecs_sorted = np.array([x[1] for x in eig_pairs])\n",
    "        \n",
    "        self.components = eig_vecs_sorted[:self.n_components,:]\n",
    "        \n",
    "        # Explained variance ratio\n",
    "        self.explained_variance_ratio = [i/np.sum(eig_vals) for i in eig_vals_sorted[:self.n_components]]\n",
    "        \n",
    "        self.cum_explained_variance = np.cumsum(self.explained_variance_ratio)\n",
    "        \n",
    "#         cum_sum = 0\n",
    "#         for i in range(len(eig_vals_sorted)):\n",
    "#             if cum_var <= per_info:\n",
    "#                 cum_var += eig_vals_sorted[:i]/np.sum(eig_vals)\n",
    "        \n",
    "        return self\n",
    "\n",
    "    def transform(self, X):\n",
    "        X = X.copy()\n",
    "        X_std = (X - self.mean) / self.scale\n",
    "        X_proj = X_std.dot(self.components.T)\n",
    "        \n",
    "        return X_proj\n",
    "    \n",
    "    def getMean(self):\n",
    "        return self.mean\n",
    "    \n",
    "    def getComponents(self):\n",
    "        return self.components"
   ]
  },
  {
   "cell_type": "code",
   "execution_count": 3,
   "id": "8c7227c3-9d98-4c06-92b6-ef417eafdcb6",
   "metadata": {},
   "outputs": [
    {
     "name": "stdout",
     "output_type": "stream",
     "text": [
      "Number of samples: 150\n",
      "Number of features: 4\n",
      "Components:\n",
      " [[ 0.52106591 -0.26934744  0.5804131   0.56485654]\n",
      " [ 0.37741762  0.92329566  0.02449161  0.06694199]]\n",
      "Explained variance ratio from scratch:\n",
      " [0.7296244541329989, 0.22850761786701754]\n",
      "Cumulative explained variance from scratch:\n",
      " [0.72962445 0.95813207]\n",
      "Transformed data shape from scratch: (150, 2)\n",
      "Components:\n",
      " [[ 0.52106591 -0.26934744  0.5804131   0.56485654]\n",
      " [ 0.37741762  0.92329566  0.02449161  0.06694199]]\n",
      "Explained variance ratio:\n",
      " [0.72962445 0.22850762]\n",
      "Cumulative explained variance:\n",
      " [0.72962445 0.95813207]\n",
      "Transformed data shape: (150, 2)\n"
     ]
    }
   ],
   "source": [
    "\n",
    "from sklearn.datasets import load_iris\n",
    "\n",
    "iris = load_iris()\n",
    "X = iris['data']\n",
    "y = iris['target']\n",
    "\n",
    "n_samples, n_features = X.shape\n",
    "\n",
    "print('Number of samples:', n_samples)\n",
    "print('Number of features:', n_features)\n",
    "\n",
    "# ---------------------------------------------------------\n",
    "my_pca = MyPCA(n_components = 2).fit(X)\n",
    "\n",
    "print('Components:\\n', my_pca.components)\n",
    "print('Explained variance ratio from scratch:\\n', my_pca.explained_variance_ratio)\n",
    "print('Cumulative explained variance from scratch:\\n', my_pca.cum_explained_variance)\n",
    "\n",
    "X_proj = my_pca.transform(X)\n",
    "print('Transformed data shape from scratch:', X_proj.shape)\n",
    "\n",
    "# ------------------------------------------------------------\n",
    "\n",
    "\n",
    "from sklearn.preprocessing import StandardScaler\n",
    "X_std = StandardScaler().fit_transform(X)\n",
    "\n",
    "from sklearn.decomposition import PCA\n",
    "pca = PCA(n_components = 2).fit(X_std)\n",
    "\n",
    "print('Components:\\n', pca.components_)\n",
    "print('Explained variance ratio:\\n', pca.explained_variance_ratio_)\n",
    "\n",
    "cum_explained_variance = np.cumsum(pca.explained_variance_ratio_)\n",
    "print('Cumulative explained variance:\\n', cum_explained_variance)\n",
    "\n",
    "X_pca = pca.transform(X_std) # Apply dimensionality reduction to X.\n",
    "print('Transformed data shape:', X_pca.shape)"
   ]
  },
  {
   "cell_type": "code",
   "execution_count": null,
   "id": "c9150543-4a9e-483a-a60b-31347c603b95",
   "metadata": {},
   "outputs": [],
   "source": []
  },
  {
   "cell_type": "code",
   "execution_count": null,
   "id": "d0fac8d0-2bc3-43e9-b576-b4e0c1d32ce1",
   "metadata": {},
   "outputs": [],
   "source": []
  },
  {
   "cell_type": "code",
   "execution_count": null,
   "id": "85722fff-2131-4015-88d1-0c15a52f4f2d",
   "metadata": {},
   "outputs": [],
   "source": []
  },
  {
   "cell_type": "code",
   "execution_count": 4,
   "id": "0ef8931e-b898-47c1-ac87-44527791eaeb",
   "metadata": {},
   "outputs": [],
   "source": [
    "import numpy as np\n",
    "import matplotlib.pyplot as plt\n",
    "\n",
    "from pathlib import Path\n",
    "import os\n",
    "import cv2\n",
    "\n",
    "\n",
    "HOME=\"/home/spoudel/PR_assignments/assignments_3/Faces_FA_FB/\"\n",
    "fa_H=\"fa_H\"\n",
    "fa_L=\"fa_L\"\n",
    "fb_H=\"fb_H\"\n",
    "fa_L=\"fa_L\"\n",
    "\n",
    "training_location=HOME+\"/\"+fa_H\n",
    "testing_location=HOME+\"/\"+fb_H\n",
    "\n",
    "training_images_name=[]\n",
    "for file in os.listdir(training_location):\n",
    "    if file.endswith(\".pgm\"):\n",
    "        training_images_name.append(file)\n",
    "\n",
    "len(training_images_name),training_images_name\n",
    "\n",
    "training_images=np.array([cv2.imread(training_location+\"/\"+x) for x in training_images_name])"
   ]
  },
  {
   "cell_type": "code",
   "execution_count": 5,
   "id": "f1d9450e-e81a-4169-873d-1d319db378a3",
   "metadata": {},
   "outputs": [
    {
     "data": {
      "text/plain": [
       "<matplotlib.image.AxesImage at 0x7f69abdcb940>"
      ]
     },
     "execution_count": 5,
     "metadata": {},
     "output_type": "execute_result"
    },
    {
     "data": {
      "image/png": "[encoded data removed]",
      "text/plain": [
       "<Figure size 432x288 with 1 Axes>"
      ]
     },
     "metadata": {
      "needs_background": "light"
     },
     "output_type": "display_data"
    }
   ],
   "source": [
    "plt.imshow(training_images[0].flatten().reshape(60,48,3))"
   ]
  },
  {
   "cell_type": "code",
   "execution_count": null,
   "id": "83031ce5-c886-46a6-958a-b1b6e5c9567f",
   "metadata": {},
   "outputs": [],
   "source": []
  },
  {
   "cell_type": "code",
   "execution_count": null,
   "id": "677fb6de-0ce6-4c89-b9b2-0996d23a9b9e",
   "metadata": {},
   "outputs": [],
   "source": []
  },
  {
   "cell_type": "code",
   "execution_count": null,
   "id": "180312e7-0db3-4ae2-bc61-856d30b10d63",
   "metadata": {},
   "outputs": [],
   "source": []
  },
  {
   "cell_type": "code",
   "execution_count": null,
   "id": "fd3d98ec-5468-4452-bb5f-0b5c9ce6d54a",
   "metadata": {},
   "outputs": [],
   "source": []
  },
  {
   "cell_type": "code",
   "execution_count": null,
   "id": "cab7ee87-e0c6-4e55-b615-b382003fd7e1",
   "metadata": {},
   "outputs": [],
   "source": []
  },
  {
   "cell_type": "code",
   "execution_count": null,
   "id": "fccda3e4-6f55-40e3-8c44-818a8d5422c1",
   "metadata": {},
   "outputs": [],
   "source": []
  }
 ],
 "metadata": {
  "kernelspec": {
   "display_name": "Python 3",
   "language": "python",
   "name": "python3"
  },
  "language_info": {
   "codemirror_mode": {
    "name": "ipython",
    "version": 3
   },
   "file_extension": ".py",
   "mimetype": "text/x-python",
   "name": "python",
   "nbconvert_exporter": "python",
   "pygments_lexer": "ipython3",
   "version": "3.7.0"
  }
 },
 "nbformat": 4,
 "nbformat_minor": 5
}
