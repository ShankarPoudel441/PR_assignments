{
 "cells": [
  {
   "cell_type": "code",
   "execution_count": null,
   "id": "7923272d",
   "metadata": {},
   "outputs": [],
   "source": []
  },
  {
   "cell_type": "code",
   "execution_count": null,
   "id": "b56ac06e",
   "metadata": {},
   "outputs": [],
   "source": [
    "sigma = matrix([[2.3, 0, 0, 0],\n",
    "           [0, 1.5, 0, 0],\n",
    "           [0, 0, 1.7, 0],\n",
    "           [0, 0,   0, 2]\n",
    "          ])\n",
    "# mean vector\n",
    "mu = array([2,3,8,10])\n",
    "\n",
    "# input\n",
    "x = array([2.1,3.5,8, 9.5])\n",
    "\n",
    "def norm_pdf_multivariate(x, mu, sigma):\n",
    "    size = len(x)\n",
    "    if size == len(mu) and (size, size) == sigma.shape:\n",
    "        det = linalg.det(sigma)\n",
    "        if det == 0:\n",
    "            raise NameError(\"The covariance matrix can't be singular\")\n",
    "\n",
    "        norm_const = 1.0/ ( math.pow((2*pi),float(size)/2) * math.pow(det,1.0/2) )\n",
    "        x_mu = matrix(x - mu)\n",
    "        inv = sigma.I        \n",
    "        result = math.pow(math.e, -0.5 * (x_mu * inv * x_mu.T))\n",
    "        return norm_const * result\n",
    "    else:\n",
    "        raise NameError(\"The dimensions of the input don't match\")\n",
    "\n",
    "print norm_pdf_multivariate(x, mu, sigma)\n"
   ]
  },
  {
   "cell_type": "code",
   "execution_count": null,
   "id": "e9f87fd6",
   "metadata": {},
   "outputs": [],
   "source": []
  },
  {
   "cell_type": "code",
   "execution_count": null,
   "id": "7b84c509",
   "metadata": {},
   "outputs": [],
   "source": []
  },
  {
   "cell_type": "code",
   "execution_count": 17,
   "id": "b5641d40",
   "metadata": {},
   "outputs": [
    {
     "data": {
      "text/plain": [
       "9"
      ]
     },
     "execution_count": 17,
     "metadata": {},
     "output_type": "execute_result"
    }
   ],
   "source": []
  },
  {
   "cell_type": "code",
   "execution_count": null,
   "id": "22d853c6",
   "metadata": {},
   "outputs": [],
   "source": []
  },
  {
   "cell_type": "code",
   "execution_count": null,
   "id": "055ebf28",
   "metadata": {},
   "outputs": [],
   "source": []
  },
  {
   "cell_type": "code",
   "execution_count": null,
   "id": "72564cac",
   "metadata": {},
   "outputs": [],
   "source": []
  },
  {
   "cell_type": "code",
   "execution_count": null,
   "id": "dfb7659e",
   "metadata": {},
   "outputs": [],
   "source": []
  },
  {
   "cell_type": "code",
   "execution_count": null,
   "id": "07d7668d",
   "metadata": {},
   "outputs": [],
   "source": []
  },
  {
   "cell_type": "code",
   "execution_count": null,
   "id": "a9a1fcf2",
   "metadata": {},
   "outputs": [],
   "source": []
  },
  {
   "cell_type": "code",
   "execution_count": null,
   "id": "586948ef",
   "metadata": {},
   "outputs": [],
   "source": []
  },
  {
   "cell_type": "code",
   "execution_count": null,
   "id": "a6613fb3",
   "metadata": {},
   "outputs": [],
   "source": []
  },
  {
   "cell_type": "code",
   "execution_count": null,
   "id": "342a88fd",
   "metadata": {},
   "outputs": [],
   "source": []
  },
  {
   "cell_type": "code",
   "execution_count": null,
   "id": "80fa8ce8",
   "metadata": {},
   "outputs": [],
   "source": []
  },
  {
   "cell_type": "code",
   "execution_count": null,
   "id": "8226550a",
   "metadata": {},
   "outputs": [],
   "source": []
  },
  {
   "cell_type": "code",
   "execution_count": null,
   "id": "69039f8d",
   "metadata": {},
   "outputs": [],
   "source": []
  },
  {
   "cell_type": "code",
   "execution_count": null,
   "id": "76564fff",
   "metadata": {},
   "outputs": [],
   "source": []
  },
  {
   "cell_type": "code",
   "execution_count": null,
   "id": "bb2df75a",
   "metadata": {},
   "outputs": [],
   "source": []
  },
  {
   "cell_type": "code",
   "execution_count": null,
   "id": "ba6fe61d",
   "metadata": {},
   "outputs": [],
   "source": []
  },
  {
   "cell_type": "code",
   "execution_count": 15,
   "id": "9166429c",
   "metadata": {},
   "outputs": [
    {
     "data": {
      "text/plain": [
       "1.0"
      ]
     },
     "execution_count": 15,
     "metadata": {},
     "output_type": "execute_result"
    }
   ],
   "source": [
    "sigma=np.array([[1,2],[4,5]])\n",
    "mu=np.array([1,1])\n",
    "x=np.array([2,3])\n",
    "inver=np.linalg.inv(sigma)\n",
    "\n",
    "np.matmul(np.matmul((x-mu).T,inver),(x-mu))"
   ]
  },
  {
   "cell_type": "code",
   "execution_count": 23,
   "id": "ae722401",
   "metadata": {},
   "outputs": [],
   "source": [
    "import numpy as np\n",
    "import pandas as pd\n",
    "\n",
    "import math"
   ]
  },
  {
   "cell_type": "code",
   "execution_count": 39,
   "id": "f756c951",
   "metadata": {},
   "outputs": [],
   "source": [
    "# sigma=np.array([[1,2],[4,5]])\n",
    "# mu=[1,1]\n",
    "# x=[1,1]\n",
    "\n",
    "# def multivariate_gaussian(x,mu,sigma):\n",
    "#     deter=np.linalg.det(sigma)\n",
    "#     if deter==0:\n",
    "#         print(\"Determinant of the system is zero\")\n",
    "#         return False\n",
    "    \n",
    "    \n",
    "#     inver=np.linalg.inv(sigma)\n",
    "#     dimension=len(mu)\n",
    "    \n",
    "#     const=1/((2*math.pi)**(dimension/2)*deter**0.5)\n",
    "#     exponent=-1/2*np.matmul(np.matmul((x-mu).T,inver),(x-mu))\n",
    "#     return const*math.exp(exponent)\n",
    "\n",
    "def calculate_gaussian_prob(x,mu,sigma):\n",
    "    dimension=len(x)\n",
    "    if dimension == len(mu) and (dimension,dimension)== sigma.shape:\n",
    "        deter=np.linalg.det(sigma)\n",
    "        if deter==0:\n",
    "            raise NameError(\"The covariance matrix can't be singular\")\n",
    "        inver=np.linalg.inv(sigma)\n",
    "        const=1/((2*math.pi)**(float(dimension)/2)*deter**0.5)\n",
    "        exponent=-1/2*np.matmul(np.matmul((x-mu).T,inver),(x-mu))\n",
    "        return const*math.exp(exponent)\n",
    "    else:\n",
    "        raise NameError(\"The dimension of input doesnot match\")"
   ]
  },
  {
   "cell_type": "code",
   "execution_count": 40,
   "id": "0c01fa41",
   "metadata": {},
   "outputs": [
    {
     "name": "stdout",
     "output_type": "stream",
     "text": [
      "0.15915494309189535\n"
     ]
    }
   ],
   "source": [
    "x = np.array([0,0])\n",
    "mu  = np.array([0,0])\n",
    "cov = np.array([[1,0],[0,1]] )\n",
    "\n",
    "print(calculate_gaussian_prob(x, mu, cov))\n",
    "\n",
    "# prints 0.15915494309189535"
   ]
  },
  {
   "cell_type": "code",
   "execution_count": 41,
   "id": "bde13341",
   "metadata": {},
   "outputs": [
    {
     "data": {
      "text/plain": [
       "(array([13.89148773, 15.13296575]), array([0.72221364, 0.95296759]))"
      ]
     },
     "execution_count": 41,
     "metadata": {},
     "output_type": "execute_result"
    }
   ],
   "source": [
    "import numpy as np\n",
    "X = np.array([[13.04681517, 14.74115241],[13.40852019, 13.7632696 ],[14.19591481, 15.85318113],[14.91470077, 16.17425987]])\n",
    "\n",
    "def est_gaus_par(X):\n",
    "    mu = np.mean(X,axis=0)\n",
    "    sig = np.std(X,axis=0)\n",
    "    return mu,sig\n",
    "\n",
    "mu,sigma = est_gaus_par(X)\n",
    "mu,sigma"
   ]
  },
  {
   "cell_type": "code",
   "execution_count": 42,
   "id": "ce19e94c",
   "metadata": {},
   "outputs": [],
   "source": [
    "d= np.array([[1,2,1],[2,1,3],[4,5,4],[2,2,1]])"
   ]
  },
  {
   "cell_type": "code",
   "execution_count": 48,
   "id": "096f39f8",
   "metadata": {},
   "outputs": [
    {
     "name": "stdout",
     "output_type": "stream",
     "text": [
      "[[1.5625 0.625  1.5625]\n",
      " [0.625  0.25   0.625 ]\n",
      " [1.5625 0.625  1.5625]]\n",
      "[[ 1.625  1.     1.375]\n",
      " [ 1.     2.5   -0.5  ]\n",
      " [ 1.375 -0.5    2.125]]\n",
      "[[4.6875 5.375  4.4375]\n",
      " [5.375  8.75   3.875 ]\n",
      " [4.4375 3.875  5.1875]]\n",
      "[[4.75 5.5  4.75]\n",
      " [5.5  9.   4.5 ]\n",
      " [4.75 4.5  6.75]]\n"
     ]
    },
    {
     "data": {
      "text/plain": [
       "(3, 3)"
      ]
     },
     "execution_count": 48,
     "metadata": {},
     "output_type": "execute_result"
    }
   ],
   "source": [
    "mean = np.average(d , axis=0)\n",
    "\n",
    "# OR\n",
    "# mean=np.average(d , axis=0)\n",
    "# mean.shape\n",
    "\n",
    "cov = 0\n",
    "for e in d:\n",
    "    cov += np.dot((e-mean).reshape(len(e), 1), (e-mean).reshape(1, len(e)))\n",
    "    print(cov)\n",
    "if len(d)<30:\n",
    "    cov /= (len(d)-1)\n",
    "else:\n",
    "    cov /= len(d)\n",
    "cov.shape"
   ]
  },
  {
   "cell_type": "code",
   "execution_count": null,
   "id": "ec6d22c3",
   "metadata": {},
   "outputs": [],
   "source": []
  },
  {
   "cell_type": "code",
   "execution_count": null,
   "id": "3b452afd",
   "metadata": {},
   "outputs": [],
   "source": []
  },
  {
   "cell_type": "code",
   "execution_count": null,
   "id": "1bb54ba4",
   "metadata": {},
   "outputs": [],
   "source": []
  },
  {
   "cell_type": "code",
   "execution_count": null,
   "id": "401e8741",
   "metadata": {},
   "outputs": [],
   "source": []
  },
  {
   "cell_type": "code",
   "execution_count": null,
   "id": "5a5fbb3b",
   "metadata": {},
   "outputs": [],
   "source": []
  },
  {
   "cell_type": "code",
   "execution_count": null,
   "id": "87b7c6b2",
   "metadata": {},
   "outputs": [],
   "source": []
  },
  {
   "cell_type": "code",
   "execution_count": null,
   "id": "44fd3897",
   "metadata": {},
   "outputs": [],
   "source": []
  },
  {
   "cell_type": "code",
   "execution_count": null,
   "id": "c8fef949",
   "metadata": {},
   "outputs": [],
   "source": []
  },
  {
   "cell_type": "code",
   "execution_count": null,
   "id": "59244e97",
   "metadata": {},
   "outputs": [],
   "source": []
  },
  {
   "cell_type": "code",
   "execution_count": null,
   "id": "e0011888",
   "metadata": {},
   "outputs": [],
   "source": []
  },
  {
   "cell_type": "code",
   "execution_count": null,
   "id": "0ea707d2",
   "metadata": {},
   "outputs": [],
   "source": []
  },
  {
   "cell_type": "code",
   "execution_count": null,
   "id": "7b709afd",
   "metadata": {},
   "outputs": [],
   "source": []
  },
  {
   "cell_type": "code",
   "execution_count": null,
   "id": "af1ce3c5",
   "metadata": {},
   "outputs": [],
   "source": []
  },
  {
   "cell_type": "code",
   "execution_count": null,
   "id": "522d45dd",
   "metadata": {},
   "outputs": [],
   "source": []
  },
  {
   "cell_type": "code",
   "execution_count": null,
   "id": "d6b05ce1",
   "metadata": {},
   "outputs": [],
   "source": []
  },
  {
   "cell_type": "code",
   "execution_count": 143,
   "id": "a4155b61",
   "metadata": {},
   "outputs": [
    {
     "name": "stdout",
     "output_type": "stream",
     "text": [
      "(60000, 2) (140000, 2)\n",
      "0.3 0.7\n"
     ]
    },
    {
     "data": {
      "image/png": "[encoded data removed]",
      "text/plain": [
       "<Figure size 432x288 with 1 Axes>"
      ]
     },
     "metadata": {
      "needs_background": "light"
     },
     "output_type": "display_data"
    },
    {
     "name": "stdout",
     "output_type": "stream",
     "text": [
      "[[1 1]\n",
      " [4 4]] [[[1 0]\n",
      "  [0 1]]\n",
      "\n",
      " [[1 0]\n",
      "  [0 1]]] [0.3 0.7]\n"
     ]
    }
   ],
   "source": [
    "# mus=np.array([[1,1],[4,4]])\n",
    "# sigmas=np.array([[[1,0],[0,1]],[[4,0],[0,8]]])\n",
    "# numbers=np.array([100,200])\n",
    "# total_data=np.sum(numbers)\n",
    "# priors=numbers/total_data\n",
    "# priors\n",
    "\n",
    "\n",
    "mean1 = [1,1]\n",
    "cov1 = [[1,0],[0,1]]\n",
    "mean2 = [4,4]\n",
    "cov2 = [[1,0],[0,1]]\n",
    "data1 = np.random.multivariate_normal(mean1, cov1, 60000)\n",
    "y1 = np.zeros(60000)\n",
    "data2 = np.random.multivariate_normal(mean2, cov2, 140000)\n",
    "y2 = np.ones(140000)\n",
    "X =np.vstack((data1,data2))\n",
    "y =np.hstack((y1,y2))\n",
    "# sort data into classes\n",
    "Xy0 = X[y == 0]\n",
    "Xy1 = X[y == 1]\n",
    "print(Xy0.shape, Xy1.shape)\n",
    "# calculate priors\n",
    "priory0 = len(Xy0) / len(X)\n",
    "priory1 = len(Xy1) / len(X)\n",
    "print(priory0, priory1)\n",
    "### code for plotting\n",
    "plt.plot(data2[:, 0], data2[:, 1], '.', alpha=0.5, markersize=1)\n",
    "plt.plot(data1[:, 0], data1[:, 1], '.', alpha=0.5, markersize=1)\n",
    "plt.axis('equal')\n",
    "plt.grid()\n",
    "plt.show()\n",
    "\n",
    "mus=np.array([mean1,mean2])\n",
    "sigmas=np.array([cov1,cov2])\n",
    "priors=np.array([priory0,priory1])\n",
    "print(mus,sigmas,priors)"
   ]
  },
  {
   "cell_type": "code",
   "execution_count": 144,
   "id": "d64a37b5",
   "metadata": {},
   "outputs": [],
   "source": [
    "class multi_case_1():\n",
    "    def __init__ (self,mus,sigmas,priors):\n",
    "        self.mus=mus\n",
    "        self.sigmas=sigmas\n",
    "        self.priors=priors\n",
    "        values=self.calculate_case_1()\n",
    "        print(f\"Paramter Values calculated: \", values)\n",
    "        return None\n",
    "    \n",
    "    def calculate_case_1(self):\n",
    "        mu_diff=(self.mus[0]-self.mus[1])\n",
    "        self.w= mu_diff\n",
    "        self.x0= 1/2 * (self.mus[0]+self.mus[1]) - (self.sigmas[0][0]**2)/(np.linalg.norm(mu_diff))*(math.log(prior[0]/prior[1])*mu_diff)\n",
    "        return self.w,self.x0\n",
    "    \n",
    "    def decision_boundry_fn(self,x):\n",
    "        return np.matmul(self.w.T, (x-self.x0))\n",
    "    \n",
    "    def predict(self,X):\n",
    "        op_data=[np.matmul(self.w.T, (x-self.x0)) for x in X]\n",
    "        to_ret=[1 if x>0 else 0 for x in op_data]\n",
    "        return to_ret\n",
    "\n",
    "\n",
    "\n",
    "# def calculate_case_1(mus,sigma,priors):\n",
    "#     dimension=len(mus[0])\n",
    "#     if (dimension,dimension) != sigma.shape:\n",
    "#         return NameError(\"Dimension mismatch\")\n",
    "#     mu_dff=(mus[0]-mus[1])\n",
    "#     w= mu_diff\n",
    "#     x0= 1/2 * (mus[0]+mus[1]) - (sigma[0][0]**2)/(np.linalg.norm(mu_diff))*(math.ln(prior[0]/prior[1])**mu_diff)\n",
    "#     return w,x0\n"
   ]
  },
  {
   "cell_type": "code",
   "execution_count": 142,
   "id": "26776ecd",
   "metadata": {},
   "outputs": [
    {
     "ename": "AttributeError",
     "evalue": "'multi_case_1' object has no attribute 'sigma'",
     "output_type": "error",
     "traceback": [
      "\u001b[0;31m---------------------------------------------------------------------------\u001b[0m",
      "\u001b[0;31mAttributeError\u001b[0m                            Traceback (most recent call last)",
      "\u001b[0;32m<ipython-input-142-9012e0314454>\u001b[0m in \u001b[0;36m<module>\u001b[0;34m\u001b[0m\n\u001b[0;32m----> 1\u001b[0;31m \u001b[0mmodel1\u001b[0m\u001b[0;34m=\u001b[0m\u001b[0mmulti_case_1\u001b[0m\u001b[0;34m(\u001b[0m\u001b[0mmus\u001b[0m\u001b[0;34m,\u001b[0m\u001b[0msigmas\u001b[0m\u001b[0;34m,\u001b[0m\u001b[0mpriors\u001b[0m\u001b[0;34m)\u001b[0m\u001b[0;34m\u001b[0m\u001b[0m\n\u001b[0m",
      "\u001b[0;32m<ipython-input-140-a727fb171d11>\u001b[0m in \u001b[0;36m__init__\u001b[0;34m(self, mus, sigmas, priors)\u001b[0m\n\u001b[1;32m      4\u001b[0m         \u001b[0mself\u001b[0m\u001b[0;34m.\u001b[0m\u001b[0msigmas\u001b[0m\u001b[0;34m=\u001b[0m\u001b[0msigmas\u001b[0m\u001b[0;34m\u001b[0m\u001b[0m\n\u001b[1;32m      5\u001b[0m         \u001b[0mself\u001b[0m\u001b[0;34m.\u001b[0m\u001b[0mpriors\u001b[0m\u001b[0;34m=\u001b[0m\u001b[0mpriors\u001b[0m\u001b[0;34m\u001b[0m\u001b[0m\n\u001b[0;32m----> 6\u001b[0;31m         \u001b[0mvalues\u001b[0m\u001b[0;34m=\u001b[0m\u001b[0mself\u001b[0m\u001b[0;34m.\u001b[0m\u001b[0mcalculate_case_1\u001b[0m\u001b[0;34m(\u001b[0m\u001b[0;34m)\u001b[0m\u001b[0;34m\u001b[0m\u001b[0m\n\u001b[0m\u001b[1;32m      7\u001b[0m         \u001b[0mprint\u001b[0m\u001b[0;34m(\u001b[0m\u001b[0;34mf\"Paramter Values calculated: \"\u001b[0m\u001b[0;34m,\u001b[0m \u001b[0mvalues\u001b[0m\u001b[0;34m)\u001b[0m\u001b[0;34m\u001b[0m\u001b[0m\n\u001b[1;32m      8\u001b[0m         \u001b[0;32mreturn\u001b[0m \u001b[0;32mNone\u001b[0m\u001b[0;34m\u001b[0m\u001b[0m\n",
      "\u001b[0;32m<ipython-input-140-a727fb171d11>\u001b[0m in \u001b[0;36mcalculate_case_1\u001b[0;34m(self)\u001b[0m\n\u001b[1;32m     11\u001b[0m         \u001b[0mmu_diff\u001b[0m\u001b[0;34m=\u001b[0m\u001b[0;34m(\u001b[0m\u001b[0mself\u001b[0m\u001b[0;34m.\u001b[0m\u001b[0mmus\u001b[0m\u001b[0;34m[\u001b[0m\u001b[0;36m0\u001b[0m\u001b[0;34m]\u001b[0m\u001b[0;34m-\u001b[0m\u001b[0mself\u001b[0m\u001b[0;34m.\u001b[0m\u001b[0mmus\u001b[0m\u001b[0;34m[\u001b[0m\u001b[0;36m1\u001b[0m\u001b[0;34m]\u001b[0m\u001b[0;34m)\u001b[0m\u001b[0;34m\u001b[0m\u001b[0m\n\u001b[1;32m     12\u001b[0m         \u001b[0mself\u001b[0m\u001b[0;34m.\u001b[0m\u001b[0mw\u001b[0m\u001b[0;34m=\u001b[0m \u001b[0mmu_diff\u001b[0m\u001b[0;34m\u001b[0m\u001b[0m\n\u001b[0;32m---> 13\u001b[0;31m         \u001b[0mself\u001b[0m\u001b[0;34m.\u001b[0m\u001b[0mx0\u001b[0m\u001b[0;34m=\u001b[0m \u001b[0;36m1\u001b[0m\u001b[0;34m/\u001b[0m\u001b[0;36m2\u001b[0m \u001b[0;34m*\u001b[0m \u001b[0;34m(\u001b[0m\u001b[0mself\u001b[0m\u001b[0;34m.\u001b[0m\u001b[0mmus\u001b[0m\u001b[0;34m[\u001b[0m\u001b[0;36m0\u001b[0m\u001b[0;34m]\u001b[0m\u001b[0;34m+\u001b[0m\u001b[0mself\u001b[0m\u001b[0;34m.\u001b[0m\u001b[0mmus\u001b[0m\u001b[0;34m[\u001b[0m\u001b[0;36m1\u001b[0m\u001b[0;34m]\u001b[0m\u001b[0;34m)\u001b[0m \u001b[0;34m-\u001b[0m \u001b[0;34m(\u001b[0m\u001b[0mself\u001b[0m\u001b[0;34m.\u001b[0m\u001b[0msigma\u001b[0m\u001b[0;34m[\u001b[0m\u001b[0;36m0\u001b[0m\u001b[0;34m]\u001b[0m\u001b[0;34m[\u001b[0m\u001b[0;36m0\u001b[0m\u001b[0;34m]\u001b[0m\u001b[0;34m**\u001b[0m\u001b[0;36m2\u001b[0m\u001b[0;34m)\u001b[0m\u001b[0;34m/\u001b[0m\u001b[0;34m(\u001b[0m\u001b[0mnp\u001b[0m\u001b[0;34m.\u001b[0m\u001b[0mlinalg\u001b[0m\u001b[0;34m.\u001b[0m\u001b[0mnorm\u001b[0m\u001b[0;34m(\u001b[0m\u001b[0mmu_diff\u001b[0m\u001b[0;34m)\u001b[0m\u001b[0;34m)\u001b[0m\u001b[0;34m*\u001b[0m\u001b[0;34m(\u001b[0m\u001b[0mmath\u001b[0m\u001b[0;34m.\u001b[0m\u001b[0mlog\u001b[0m\u001b[0;34m(\u001b[0m\u001b[0mprior\u001b[0m\u001b[0;34m[\u001b[0m\u001b[0;36m0\u001b[0m\u001b[0;34m]\u001b[0m\u001b[0;34m/\u001b[0m\u001b[0mprior\u001b[0m\u001b[0;34m[\u001b[0m\u001b[0;36m1\u001b[0m\u001b[0;34m]\u001b[0m\u001b[0;34m)\u001b[0m\u001b[0;34m*\u001b[0m\u001b[0mmu_diff\u001b[0m\u001b[0;34m)\u001b[0m\u001b[0;34m\u001b[0m\u001b[0m\n\u001b[0m\u001b[1;32m     14\u001b[0m         \u001b[0;32mreturn\u001b[0m \u001b[0mself\u001b[0m\u001b[0;34m.\u001b[0m\u001b[0mw\u001b[0m\u001b[0;34m,\u001b[0m\u001b[0mself\u001b[0m\u001b[0;34m.\u001b[0m\u001b[0mx0\u001b[0m\u001b[0;34m\u001b[0m\u001b[0m\n\u001b[1;32m     15\u001b[0m \u001b[0;34m\u001b[0m\u001b[0m\n",
      "\u001b[0;31mAttributeError\u001b[0m: 'multi_case_1' object has no attribute 'sigma'"
     ]
    }
   ],
   "source": [
    "model1=multi_case_1(mus,sigmas,priors)"
   ]
  },
  {
   "cell_type": "code",
   "execution_count": null,
   "id": "0ce65fa7",
   "metadata": {},
   "outputs": [],
   "source": [
    "def plot_decision_boundary(model, X, y):\n",
    "    # Define the axis boundaries of the plot and create a meshgrid\n",
    "    \n",
    "    x_min, x_max = X[:, 0].min() - 0.1, X[:, 0].max() + 0.1\n",
    "    y_min, y_max = X[:, 1].min() - 0.1, X[:, 1].max() + 0.1\n",
    "    xx, yy = np.meshgrid(np.linspace(x_min, x_max, 100),\n",
    "                         np.linspace(y_min, y_max, 100))\n",
    "    \n",
    "    # Create X values (we're going to predict on all of these)\n",
    "    x_in = np.c_[xx.ravel(), yy.ravel()] \n",
    "    \n",
    "    # Make predictions using the trained model\n",
    "    print(f\"shape of x_in, {x_in.shape}\")\n",
    "    y_pred = model.predict(x_in)\n",
    "    y_pred=[[x] for x in y_pred]\n",
    "    # Check for multi-class\n",
    "    if len(y_pred[0]) > 1:\n",
    "        print(\"doing multiclass classification...\")\n",
    "        # We have to reshape our predictions to get them ready for plotting\n",
    "        y_pred = np.argmax(y_pred, axis=1).reshape(xx.shape)\n",
    "    else:\n",
    "        print(\"doing binary classifcation...\")\n",
    "        y_pred = np.round(y_pred).reshape(xx.shape)\n",
    "        \n",
    "    # Plot decision boundary\n",
    "    plt.contourf(xx, yy, y_pred, cmap=plt.cm.RdYlBu, alpha=0.7)\n",
    "    plt.scatter(X[:, 0], X[:, 1], c=y, s=40, cmap=plt.cm.RdYlBu)\n",
    "    plt.xlim(xx.min(), xx.max())\n",
    "    plt.ylim(yy.min(), yy.max())\n",
    "    \n",
    "plot_decision_boundary(classifier,X,y)"
   ]
  },
  {
   "cell_type": "code",
   "execution_count": null,
   "id": "af8a140a",
   "metadata": {},
   "outputs": [],
   "source": []
  },
  {
   "cell_type": "code",
   "execution_count": null,
   "id": "e62024f0",
   "metadata": {},
   "outputs": [],
   "source": []
  },
  {
   "cell_type": "code",
   "execution_count": 95,
   "id": "828b57be",
   "metadata": {},
   "outputs": [],
   "source": [
    "# mean = [0, 0]\n",
    "\n",
    "# cov = [[1, 0], [0, 100]] \n",
    "# import matplotlib.pyplot as plt\n",
    "\n",
    "# x, y = np.random.multivariate_normal(mean, cov, 5000).T\n",
    "\n",
    "# plt.plot(x, y, 'x')\n",
    "\n",
    "# plt.axis('equal')\n",
    "\n",
    "# plt.show()\n"
   ]
  },
  {
   "cell_type": "code",
   "execution_count": null,
   "id": "540586a7",
   "metadata": {},
   "outputs": [],
   "source": []
  },
  {
   "cell_type": "code",
   "execution_count": null,
   "id": "67ada3b2",
   "metadata": {},
   "outputs": [],
   "source": []
  },
  {
   "cell_type": "code",
   "execution_count": null,
   "id": "bc2874b8",
   "metadata": {},
   "outputs": [],
   "source": []
  },
  {
   "cell_type": "code",
   "execution_count": null,
   "id": "5cab8391",
   "metadata": {},
   "outputs": [],
   "source": []
  },
  {
   "cell_type": "code",
   "execution_count": null,
   "id": "0bf095dc",
   "metadata": {},
   "outputs": [],
   "source": []
  },
  {
   "cell_type": "code",
   "execution_count": null,
   "id": "1b558dfe",
   "metadata": {},
   "outputs": [],
   "source": []
  },
  {
   "cell_type": "code",
   "execution_count": null,
   "id": "e3ad9bf4",
   "metadata": {},
   "outputs": [],
   "source": []
  },
  {
   "cell_type": "code",
   "execution_count": null,
   "id": "287f520a",
   "metadata": {},
   "outputs": [],
   "source": []
  },
  {
   "cell_type": "code",
   "execution_count": null,
   "id": "c8ecf5e4",
   "metadata": {},
   "outputs": [],
   "source": []
  },
  {
   "cell_type": "code",
   "execution_count": null,
   "id": "f6e95897",
   "metadata": {},
   "outputs": [],
   "source": []
  },
  {
   "cell_type": "code",
   "execution_count": null,
   "id": "c4394998",
   "metadata": {},
   "outputs": [],
   "source": []
  },
  {
   "cell_type": "code",
   "execution_count": null,
   "id": "f6586d76",
   "metadata": {},
   "outputs": [],
   "source": []
  },
  {
   "cell_type": "code",
   "execution_count": null,
   "id": "9c18002b",
   "metadata": {},
   "outputs": [],
   "source": []
  },
  {
   "cell_type": "code",
   "execution_count": null,
   "id": "252af08d",
   "metadata": {},
   "outputs": [],
   "source": []
  },
  {
   "cell_type": "code",
   "execution_count": null,
   "id": "b2f2c9b2",
   "metadata": {},
   "outputs": [],
   "source": []
  },
  {
   "cell_type": "code",
   "execution_count": null,
   "id": "fb338186",
   "metadata": {},
   "outputs": [],
   "source": []
  },
  {
   "cell_type": "code",
   "execution_count": null,
   "id": "a9885342",
   "metadata": {},
   "outputs": [],
   "source": []
  },
  {
   "cell_type": "code",
   "execution_count": null,
   "id": "bcb6bf30",
   "metadata": {},
   "outputs": [],
   "source": []
  },
  {
   "cell_type": "code",
   "execution_count": null,
   "id": "818b6621",
   "metadata": {},
   "outputs": [],
   "source": []
  },
  {
   "cell_type": "code",
   "execution_count": null,
   "id": "1eae6540",
   "metadata": {},
   "outputs": [],
   "source": []
  },
  {
   "cell_type": "code",
   "execution_count": 127,
   "id": "feb19099",
   "metadata": {},
   "outputs": [],
   "source": [
    "class multi_case_3():\n",
    "    def __init__ (self,mus,sigmas,priors):\n",
    "        self.mus=mus\n",
    "        self.sigmas=sigmas\n",
    "        self.priors=priors\n",
    "        values=self.calculate_case_3_constants()\n",
    "        print(f\"Paramter Values calculated: \", values)\n",
    "        \n",
    "        return None\n",
    "    \n",
    "    def calculate_case_3_constants(self):\n",
    "        dimension=len(self.mus[0])\n",
    "        print(self.sigmas.shape)\n",
    "        if (dimension,dimension) != self.sigmas[0].shape:\n",
    "            return NameError(\"Dimension mismatch\")\n",
    "        mu1=self.mus[0]\n",
    "        mu2=self.mus[1]\n",
    "        sigma1=self.sigmas[0]\n",
    "        sigma2=self.sigmas[1]\n",
    "        sigma1_inv=np.linalg.inv(sigma1)\n",
    "        sigma2_inv=np.linalg.inv(sigma2)\n",
    "        prior1=self.priors[0]\n",
    "        prior2=self.priors[1]\n",
    "        self.W12=-1/2*sigma1_inv\n",
    "        self.W22=-1/2*sigma2_inv\n",
    "        self.w11=np.matmul(sigma1_inv,mu1)\n",
    "        self.w21=np.matmul(sigma2_inv,mu2)\n",
    "        self.w10=-1/2*np.matmul(np.matmul(mu1.T,sigma1_inv),mu1) - 1/2*np.log(np.linalg.det(sigma1)) + np.log(priors[0])\n",
    "        self.w20=-1/2*np.matmul(np.matmul(mu1.T,sigma1_inv),mu1) - 1/2*np.log(np.linalg.det(sigma1)) + np.log(priors[0])\n",
    "        return self.W12,self.W22,self.w11,self.w21,self.w10,self.w20\n",
    "    \n",
    "    def decision_boundry_fn(self,x):\n",
    "        return np.matmul(np.matmul(x.T,(self.W12-self.W22)), x) + np.matmul((self.w11.T-self.w21.T),x) + (self.w10-self.w20) \n",
    "    \n",
    "    def predict(self,X):\n",
    "        op_data=[np.matmul(np.matmul(x.T,(self.W12-self.W22)), x) + np.matmul((self.w11.T-self.w21.T),x) + (self.w10-self.w20) for x in X]\n",
    "        to_ret=[1 if x>0 else 0 for x in op_data]\n",
    "        return to_ret\n",
    "        \n",
    "        \n",
    "        "
   ]
  },
  {
   "cell_type": "code",
   "execution_count": 128,
   "id": "9b943735",
   "metadata": {},
   "outputs": [
    {
     "name": "stdout",
     "output_type": "stream",
     "text": [
      "(60000, 2) (140000, 2)\n",
      "0.3 0.7\n"
     ]
    },
    {
     "data": {
      "image/png": "[encoded data removed]",
      "text/plain": [
       "<Figure size 432x288 with 1 Axes>"
      ]
     },
     "metadata": {
      "needs_background": "light"
     },
     "output_type": "display_data"
    }
   ],
   "source": [
    "# mus=np.array([[1,1],[4,4]])\n",
    "# sigmas=np.array([[[1,0],[0,1]],[[4,0],[0,8]]])\n",
    "# numbers=np.array([100,200])\n",
    "# total_data=np.sum(numbers)\n",
    "# priors=numbers/total_data\n",
    "# priors\n",
    "\n",
    "\n",
    "mean1 = [1,1]\n",
    "cov1 = [[1,0],[0,1]]\n",
    "mean2 = [4,4]\n",
    "cov2 = [[4,0],[0,8]]\n",
    "data1 = np.random.multivariate_normal(mean1, cov1, 60000)\n",
    "y1 = np.zeros(60000)\n",
    "data2 = np.random.multivariate_normal(mean2, cov2, 140000)\n",
    "y2 = np.ones(140000)\n",
    "X =np.vstack((data1,data2))\n",
    "y =np.hstack((y1,y2))\n",
    "# sort data into classes\n",
    "Xy0 = X[y == 0]\n",
    "Xy1 = X[y == 1]\n",
    "print(Xy0.shape, Xy1.shape)\n",
    "# calculate priors\n",
    "priory0 = len(Xy0) / len(X)\n",
    "priory1 = len(Xy1) / len(X)\n",
    "print(priory0, priory1)\n",
    "### code for plotting\n",
    "plt.plot(data2[:, 0], data2[:, 1], '.', alpha=0.5, markersize=1)\n",
    "plt.plot(data1[:, 0], data1[:, 1], '.', alpha=0.5, markersize=1)\n",
    "plt.axis('equal')\n",
    "plt.grid()\n",
    "plt.show()"
   ]
  },
  {
   "cell_type": "code",
   "execution_count": 129,
   "id": "4abe3f4a",
   "metadata": {
    "scrolled": true
   },
   "outputs": [
    {
     "name": "stdout",
     "output_type": "stream",
     "text": [
      "(2, 2, 2)\n",
      "Paramter Values calculated:  (array([[-0.5, -0. ],\n",
      "       [-0. , -0.5]]), array([[-0.125 , -0.    ],\n",
      "       [-0.    , -0.0625]]), array([1., 1.]), array([1. , 0.5]), -2.09861228866811, -2.09861228866811)\n"
     ]
    },
    {
     "data": {
      "text/plain": [
       "-0.3125"
      ]
     },
     "execution_count": 129,
     "metadata": {},
     "output_type": "execute_result"
    }
   ],
   "source": [
    "model3=multi_case_3(mus,sigmas,priors)\n",
    "val=model3.decision_boundry_fn(np.array([1,1]))\n",
    "val"
   ]
  },
  {
   "cell_type": "code",
   "execution_count": 130,
   "id": "88d344ef",
   "metadata": {},
   "outputs": [],
   "source": [
    "classifier=model3"
   ]
  },
  {
   "cell_type": "code",
   "execution_count": 131,
   "id": "6bbe8d4f",
   "metadata": {},
   "outputs": [
    {
     "name": "stdout",
     "output_type": "stream",
     "text": [
      "shape of x_in, (10000, 2)\n",
      "doing binary classifcation...\n"
     ]
    },
    {
     "data": {
      "image/png": "[encoded data removed]",
      "text/plain": [
       "<Figure size 432x288 with 1 Axes>"
      ]
     },
     "metadata": {
      "needs_background": "light"
     },
     "output_type": "display_data"
    }
   ],
   "source": [
    "def plot_decision_boundary(model, X, y):\n",
    "    # Define the axis boundaries of the plot and create a meshgrid\n",
    "    \n",
    "    x_min, x_max = X[:, 0].min() - 0.1, X[:, 0].max() + 0.1\n",
    "    y_min, y_max = X[:, 1].min() - 0.1, X[:, 1].max() + 0.1\n",
    "    xx, yy = np.meshgrid(np.linspace(x_min, x_max, 100),\n",
    "                         np.linspace(y_min, y_max, 100))\n",
    "    \n",
    "    # Create X values (we're going to predict on all of these)\n",
    "    x_in = np.c_[xx.ravel(), yy.ravel()] \n",
    "    \n",
    "    # Make predictions using the trained model\n",
    "    print(f\"shape of x_in, {x_in.shape}\")\n",
    "    y_pred = model.predict(x_in)\n",
    "    y_pred=[[x] for x in y_pred]\n",
    "    # Check for multi-class\n",
    "    if len(y_pred[0]) > 1:\n",
    "        print(\"doing multiclass classification...\")\n",
    "        # We have to reshape our predictions to get them ready for plotting\n",
    "        y_pred = np.argmax(y_pred, axis=1).reshape(xx.shape)\n",
    "    else:\n",
    "        print(\"doing binary classifcation...\")\n",
    "        y_pred = np.round(y_pred).reshape(xx.shape)\n",
    "        \n",
    "    # Plot decision boundary\n",
    "    plt.contourf(xx, yy, y_pred, cmap=plt.cm.RdYlBu, alpha=0.7)\n",
    "    plt.scatter(X[:, 0], X[:, 1], c=y, s=40, cmap=plt.cm.RdYlBu)\n",
    "    plt.xlim(xx.min(), xx.max())\n",
    "    plt.ylim(yy.min(), yy.max())\n",
    "    \n",
    "plot_decision_boundary(classifier,X,y)"
   ]
  },
  {
   "cell_type": "code",
   "execution_count": null,
   "id": "e88ce871",
   "metadata": {},
   "outputs": [],
   "source": []
  },
  {
   "cell_type": "code",
   "execution_count": null,
   "id": "bffeefaf",
   "metadata": {},
   "outputs": [],
   "source": []
  }
 ],
 "metadata": {
  "kernelspec": {
   "display_name": "Python 3",
   "language": "python",
   "name": "python3"
  },
  "language_info": {
   "codemirror_mode": {
    "name": "ipython",
    "version": 3
   },
   "file_extension": ".py",
   "mimetype": "text/x-python",
   "name": "python",
   "nbconvert_exporter": "python",
   "pygments_lexer": "ipython3",
   "version": "3.7.0"
  }
 },
 "nbformat": 4,
 "nbformat_minor": 5
}
