{
 "cells": [
  {
   "cell_type": "code",
   "execution_count": 3,
   "id": "1ac14e7f",
   "metadata": {},
   "outputs": [],
   "source": [
    "import numpy as np\n",
    "\n",
    "def generate_nd_normal_uncorrleated(number, mus, sigmas):\n",
    "    print(number,mus,sigmas)\n",
    "    data=np.array([np.random.normal(m,s,number) for m,s in zip(mus,sigmas)])\n",
    "    return data.T"
   ]
  },
  {
   "cell_type": "code",
   "execution_count": 6,
   "id": "ae4dc9bd",
   "metadata": {},
   "outputs": [
    {
     "name": "stdout",
     "output_type": "stream",
     "text": [
      "10 [10, 10] [5, 5]\n",
      "5 [1, 1] [1, 1]\n"
     ]
    },
    {
     "data": {
      "text/plain": [
       "array([[11.86839591, 13.27257288,  0.        ],\n",
       "       [ 4.41829246,  6.33939191,  0.        ],\n",
       "       [14.94522391, 16.92266168,  0.        ],\n",
       "       [ 8.82843383, 16.66442532,  0.        ],\n",
       "       [ 7.94352543, 11.78870657,  0.        ],\n",
       "       [14.22125055, 16.9446241 ,  0.        ],\n",
       "       [ 9.52425777,  8.1904491 ,  0.        ],\n",
       "       [16.18896072, 16.5176773 ,  0.        ],\n",
       "       [12.05114267,  9.96767169,  0.        ],\n",
       "       [ 8.73002775, -3.96617259,  0.        ],\n",
       "       [ 1.93575976,  1.90856937,  1.        ],\n",
       "       [ 0.17360394,  1.0087207 ,  1.        ],\n",
       "       [ 1.83614415,  2.84407557,  1.        ],\n",
       "       [ 2.79434249,  0.52091688,  1.        ],\n",
       "       [ 1.99195741,  0.55147248,  1.        ]])"
      ]
     },
     "execution_count": 6,
     "metadata": {},
     "output_type": "execute_result"
    }
   ],
   "source": [
    "mus=[[10,10],[1,1]]\n",
    "sigmas=[[5,5],[1,1]]\n",
    "numbers=[10,5]\n",
    "\n",
    "def generate_data(numbers,mus,sigmas):\n",
    "    data=[]\n",
    "    for idx,mu in enumerate(mus):\n",
    "        a=generate_nd_normal_uncorrleated(numbers[idx],mu,sigmas[idx])\n",
    "        b=np.hstack((a,[[idx]]*len(a)))\n",
    "        try:\n",
    "            data=np.concatenate((data,b))\n",
    "        except:\n",
    "            data=b\n",
    "    return data\n",
    "\n",
    "generate_data(numbers,mus,sigmas)"
   ]
  },
  {
   "cell_type": "code",
   "execution_count": null,
   "id": "4e001138",
   "metadata": {},
   "outputs": [],
   "source": []
  },
  {
   "cell_type": "code",
   "execution_count": null,
   "id": "7bbe6b81",
   "metadata": {},
   "outputs": [],
   "source": []
  }
 ],
 "metadata": {
  "kernelspec": {
   "display_name": "Python 3 (ipykernel)",
   "language": "python",
   "name": "python3"
  },
  "language_info": {
   "codemirror_mode": {
    "name": "ipython",
    "version": 3
   },
   "file_extension": ".py",
   "mimetype": "text/x-python",
   "name": "python",
   "nbconvert_exporter": "python",
   "pygments_lexer": "ipython3",
   "version": "3.9.12"
  }
 },
 "nbformat": 4,
 "nbformat_minor": 5
}
