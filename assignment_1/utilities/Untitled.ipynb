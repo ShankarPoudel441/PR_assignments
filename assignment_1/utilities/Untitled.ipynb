{
 "cells": [
  {
   "cell_type": "code",
   "execution_count": null,
   "id": "7923272d",
   "metadata": {},
   "outputs": [],
   "source": []
  },
  {
   "cell_type": "code",
   "execution_count": null,
   "id": "d81fe0a0",
   "metadata": {},
   "outputs": [],
   "source": [
    "sigma = matrix([[2.3, 0, 0, 0],\n",
    "           [0, 1.5, 0, 0],\n",
    "           [0, 0, 1.7, 0],\n",
    "           [0, 0,   0, 2]\n",
    "          ])\n",
    "# mean vector\n",
    "mu = array([2,3,8,10])\n",
    "\n",
    "# input\n",
    "x = array([2.1,3.5,8, 9.5])\n",
    "\n",
    "def norm_pdf_multivariate(x, mu, sigma):\n",
    "    size = len(x)\n",
    "    if size == len(mu) and (size, size) == sigma.shape:\n",
    "        det = linalg.det(sigma)\n",
    "        if det == 0:\n",
    "            raise NameError(\"The covariance matrix can't be singular\")\n",
    "\n",
    "        norm_const = 1.0/ ( math.pow((2*pi),float(size)/2) * math.pow(det,1.0/2) )\n",
    "        x_mu = matrix(x - mu)\n",
    "        inv = sigma.I        \n",
    "        result = math.pow(math.e, -0.5 * (x_mu * inv * x_mu.T))\n",
    "        return norm_const * result\n",
    "    else:\n",
    "        raise NameError(\"The dimensions of the input don't match\")\n",
    "\n",
    "print norm_pdf_multivariate(x, mu, sigma)\n"
   ]
  },
  {
   "cell_type": "code",
   "execution_count": null,
   "id": "e030a932",
   "metadata": {},
   "outputs": [],
   "source": []
  },
  {
   "cell_type": "code",
   "execution_count": null,
   "id": "53f5b3ff",
   "metadata": {},
   "outputs": [],
   "source": []
  },
  {
   "cell_type": "code",
   "execution_count": 17,
   "id": "34868bca",
   "metadata": {},
   "outputs": [
    {
     "data": {
      "text/plain": [
       "9"
      ]
     },
     "execution_count": 17,
     "metadata": {},
     "output_type": "execute_result"
    }
   ],
   "source": []
  },
  {
   "cell_type": "code",
   "execution_count": null,
   "id": "f7b59a61",
   "metadata": {},
   "outputs": [],
   "source": []
  },
  {
   "cell_type": "code",
   "execution_count": null,
   "id": "9a46dcdb",
   "metadata": {},
   "outputs": [],
   "source": []
  },
  {
   "cell_type": "code",
   "execution_count": null,
   "id": "196e0322",
   "metadata": {},
   "outputs": [],
   "source": []
  },
  {
   "cell_type": "code",
   "execution_count": null,
   "id": "b01edbd7",
   "metadata": {},
   "outputs": [],
   "source": []
  },
  {
   "cell_type": "code",
   "execution_count": null,
   "id": "535b7555",
   "metadata": {},
   "outputs": [],
   "source": []
  },
  {
   "cell_type": "code",
   "execution_count": null,
   "id": "0d163b42",
   "metadata": {},
   "outputs": [],
   "source": []
  },
  {
   "cell_type": "code",
   "execution_count": null,
   "id": "bceef530",
   "metadata": {},
   "outputs": [],
   "source": []
  },
  {
   "cell_type": "code",
   "execution_count": null,
   "id": "c11eccf8",
   "metadata": {},
   "outputs": [],
   "source": []
  },
  {
   "cell_type": "code",
   "execution_count": null,
   "id": "eef3ca8e",
   "metadata": {},
   "outputs": [],
   "source": []
  },
  {
   "cell_type": "code",
   "execution_count": null,
   "id": "6e0bff7c",
   "metadata": {},
   "outputs": [],
   "source": []
  },
  {
   "cell_type": "code",
   "execution_count": null,
   "id": "61499e84",
   "metadata": {},
   "outputs": [],
   "source": []
  },
  {
   "cell_type": "code",
   "execution_count": null,
   "id": "ad9b911f",
   "metadata": {},
   "outputs": [],
   "source": []
  },
  {
   "cell_type": "code",
   "execution_count": null,
   "id": "faf573f6",
   "metadata": {},
   "outputs": [],
   "source": []
  },
  {
   "cell_type": "code",
   "execution_count": null,
   "id": "b5ad7745",
   "metadata": {},
   "outputs": [],
   "source": []
  },
  {
   "cell_type": "code",
   "execution_count": null,
   "id": "56222b65",
   "metadata": {},
   "outputs": [],
   "source": []
  },
  {
   "cell_type": "code",
   "execution_count": 15,
   "id": "9c653eec",
   "metadata": {},
   "outputs": [
    {
     "data": {
      "text/plain": [
       "1.0"
      ]
     },
     "execution_count": 15,
     "metadata": {},
     "output_type": "execute_result"
    }
   ],
   "source": [
    "sigma=np.array([[1,2],[4,5]])\n",
    "mu=np.array([1,1])\n",
    "x=np.array([2,3])\n",
    "inver=np.linalg.inv(sigma)\n",
    "\n",
    "np.matmul(np.matmul((x-mu).T,inver),(x-mu))"
   ]
  },
  {
   "cell_type": "code",
   "execution_count": 23,
   "id": "e34f68ec",
   "metadata": {},
   "outputs": [],
   "source": [
    "import numpy as np\n",
    "import pandas as pd\n",
    "\n",
    "import math"
   ]
  },
  {
   "cell_type": "code",
   "execution_count": 39,
   "id": "ac8bcb11",
   "metadata": {},
   "outputs": [],
   "source": [
    "# sigma=np.array([[1,2],[4,5]])\n",
    "# mu=[1,1]\n",
    "# x=[1,1]\n",
    "\n",
    "# def multivariate_gaussian(x,mu,sigma):\n",
    "#     deter=np.linalg.det(sigma)\n",
    "#     if deter==0:\n",
    "#         print(\"Determinant of the system is zero\")\n",
    "#         return False\n",
    "    \n",
    "    \n",
    "#     inver=np.linalg.inv(sigma)\n",
    "#     dimension=len(mu)\n",
    "    \n",
    "#     const=1/((2*math.pi)**(dimension/2)*deter**0.5)\n",
    "#     exponent=-1/2*np.matmul(np.matmul((x-mu).T,inver),(x-mu))\n",
    "#     return const*math.exp(exponent)\n",
    "\n",
    "def calculate_gaussian_prob(x,mu,sigma):\n",
    "    dimension=len(x)\n",
    "    if dimension == len(mu) and (dimension,dimension)== sigma.shape:\n",
    "        deter=np.linalg.det(sigma)\n",
    "        if deter==0:\n",
    "            raise NameError(\"The covariance matrix can't be singular\")\n",
    "        inver=np.linalg.inv(sigma)\n",
    "        const=1/((2*math.pi)**(float(dimension)/2)*deter**0.5)\n",
    "        exponent=-1/2*np.matmul(np.matmul((x-mu).T,inver),(x-mu))\n",
    "        return const*math.exp(exponent)\n",
    "    else:\n",
    "        raise NameError(\"The dimension of input doesnot match\")"
   ]
  },
  {
   "cell_type": "code",
   "execution_count": 40,
   "id": "dacbee5d",
   "metadata": {},
   "outputs": [
    {
     "name": "stdout",
     "output_type": "stream",
     "text": [
      "0.15915494309189535\n"
     ]
    }
   ],
   "source": [
    "x = np.array([0,0])\n",
    "mu  = np.array([0,0])\n",
    "cov = np.array([[1,0],[0,1]] )\n",
    "\n",
    "print(calculate_gaussian_prob(x, mu, cov))\n",
    "\n",
    "# prints 0.15915494309189535"
   ]
  },
  {
   "cell_type": "code",
   "execution_count": 41,
   "id": "b49f32a6",
   "metadata": {},
   "outputs": [
    {
     "data": {
      "text/plain": [
       "(array([13.89148773, 15.13296575]), array([0.72221364, 0.95296759]))"
      ]
     },
     "execution_count": 41,
     "metadata": {},
     "output_type": "execute_result"
    }
   ],
   "source": [
    "import numpy as np\n",
    "X = np.array([[13.04681517, 14.74115241],[13.40852019, 13.7632696 ],[14.19591481, 15.85318113],[14.91470077, 16.17425987]])\n",
    "\n",
    "def est_gaus_par(X):\n",
    "    mu = np.mean(X,axis=0)\n",
    "    sig = np.std(X,axis=0)\n",
    "    return mu,sig\n",
    "\n",
    "mu,sigma = est_gaus_par(X)\n",
    "mu,sigma"
   ]
  },
  {
   "cell_type": "code",
   "execution_count": 42,
   "id": "c48ffa51",
   "metadata": {},
   "outputs": [],
   "source": [
    "d= np.array([[1,2,1],[2,1,3],[4,5,4],[2,2,1]])"
   ]
  },
  {
   "cell_type": "code",
   "execution_count": 48,
   "id": "02363a0d",
   "metadata": {},
   "outputs": [
    {
     "name": "stdout",
     "output_type": "stream",
     "text": [
      "[[1.5625 0.625  1.5625]\n",
      " [0.625  0.25   0.625 ]\n",
      " [1.5625 0.625  1.5625]]\n",
      "[[ 1.625  1.     1.375]\n",
      " [ 1.     2.5   -0.5  ]\n",
      " [ 1.375 -0.5    2.125]]\n",
      "[[4.6875 5.375  4.4375]\n",
      " [5.375  8.75   3.875 ]\n",
      " [4.4375 3.875  5.1875]]\n",
      "[[4.75 5.5  4.75]\n",
      " [5.5  9.   4.5 ]\n",
      " [4.75 4.5  6.75]]\n"
     ]
    },
    {
     "data": {
      "text/plain": [
       "(3, 3)"
      ]
     },
     "execution_count": 48,
     "metadata": {},
     "output_type": "execute_result"
    }
   ],
   "source": [
    "mean = np.average(d , axis=0)\n",
    "\n",
    "# OR\n",
    "# mean=np.average(d , axis=0)\n",
    "# mean.shape\n",
    "\n",
    "cov = 0\n",
    "for e in d:\n",
    "    cov += np.dot((e-mean).reshape(len(e), 1), (e-mean).reshape(1, len(e)))\n",
    "    print(cov)\n",
    "if len(d)<30:\n",
    "    cov /= (len(d)-1)\n",
    "else:\n",
    "    cov /= len(d)\n",
    "cov.shape"
   ]
  },
  {
   "cell_type": "code",
   "execution_count": null,
   "id": "25b63789",
   "metadata": {},
   "outputs": [],
   "source": []
  },
  {
   "cell_type": "code",
   "execution_count": null,
   "id": "79f8fab4",
   "metadata": {},
   "outputs": [],
   "source": []
  },
  {
   "cell_type": "code",
   "execution_count": null,
   "id": "c82f3a74",
   "metadata": {},
   "outputs": [],
   "source": []
  },
  {
   "cell_type": "code",
   "execution_count": null,
   "id": "f3a77fc5",
   "metadata": {},
   "outputs": [],
   "source": []
  },
  {
   "cell_type": "code",
   "execution_count": null,
   "id": "22184ae7",
   "metadata": {},
   "outputs": [],
   "source": []
  },
  {
   "cell_type": "code",
   "execution_count": null,
   "id": "59368d70",
   "metadata": {},
   "outputs": [],
   "source": []
  },
  {
   "cell_type": "code",
   "execution_count": null,
   "id": "9c3d5a9d",
   "metadata": {},
   "outputs": [],
   "source": []
  },
  {
   "cell_type": "code",
   "execution_count": null,
   "id": "87c603af",
   "metadata": {},
   "outputs": [],
   "source": []
  },
  {
   "cell_type": "code",
   "execution_count": null,
   "id": "b1c6dfde",
   "metadata": {},
   "outputs": [],
   "source": []
  },
  {
   "cell_type": "code",
   "execution_count": null,
   "id": "d0a6212f",
   "metadata": {},
   "outputs": [],
   "source": []
  },
  {
   "cell_type": "code",
   "execution_count": null,
   "id": "dc6af9f7",
   "metadata": {},
   "outputs": [],
   "source": []
  },
  {
   "cell_type": "code",
   "execution_count": null,
   "id": "99492f46",
   "metadata": {},
   "outputs": [],
   "source": []
  },
  {
   "cell_type": "code",
   "execution_count": null,
   "id": "f7d6ff1b",
   "metadata": {},
   "outputs": [],
   "source": []
  },
  {
   "cell_type": "code",
   "execution_count": null,
   "id": "fb0878f1",
   "metadata": {},
   "outputs": [],
   "source": []
  },
  {
   "cell_type": "code",
   "execution_count": null,
   "id": "a0e7b316",
   "metadata": {},
   "outputs": [],
   "source": []
  },
  {
   "cell_type": "code",
   "execution_count": 143,
   "id": "e7b94e8f",
   "metadata": {},
   "outputs": [
    {
     "name": "stdout",
     "output_type": "stream",
     "text": [
      "(60000, 2) (140000, 2)\n",
      "0.3 0.7\n"
     ]
    },
    {
     "data": {
      "image/png": "[encoded data removed]",
      "text/plain": [
       "<Figure size 432x288 with 1 Axes>"
      ]
     },
     "metadata": {
      "needs_background": "light"
     },
     "output_type": "display_data"
    },
    {
     "name": "stdout",
     "output_type": "stream",
     "text": [
      "[[1 1]\n",
      " [4 4]] [[[1 0]\n",
      "  [0 1]]\n",
      "\n",
      " [[1 0]\n",
      "  [0 1]]] [0.3 0.7]\n"
     ]
    }
   ],
   "source": [
    "# mus=np.array([[1,1],[4,4]])\n",
    "# sigmas=np.array([[[1,0],[0,1]],[[4,0],[0,8]]])\n",
    "# numbers=np.array([100,200])\n",
    "# total_data=np.sum(numbers)\n",
    "# priors=numbers/total_data\n",
    "# priors\n",
    "\n",
    "\n",
    "mean1 = [1,1]\n",
    "cov1 = [[1,0],[0,1]]\n",
    "mean2 = [4,4]\n",
    "cov2 = [[1,0],[0,1]]\n",
    "data1 = np.random.multivariate_normal(mean1, cov1, 60000)\n",
    "y1 = np.zeros(60000)\n",
    "data2 = np.random.multivariate_normal(mean2, cov2, 140000)\n",
    "y2 = np.ones(140000)\n",
    "X =np.vstack((data1,data2))\n",
    "y =np.hstack((y1,y2))\n",
    "# sort data into classes\n",
    "Xy0 = X[y == 0]\n",
    "Xy1 = X[y == 1]\n",
    "print(Xy0.shape, Xy1.shape)\n",
    "# calculate priors\n",
    "priory0 = len(Xy0) / len(X)\n",
    "priory1 = len(Xy1) / len(X)\n",
    "print(priory0, priory1)\n",
    "### code for plotting\n",
    "plt.plot(data2[:, 0], data2[:, 1], '.', alpha=0.5, markersize=1)\n",
    "plt.plot(data1[:, 0], data1[:, 1], '.', alpha=0.5, markersize=1)\n",
    "plt.axis('equal')\n",
    "plt.grid()\n",
    "plt.show()\n",
    "\n",
    "mus=np.array([mean1,mean2])\n",
    "sigmas=np.array([cov1,cov2])\n",
    "priors=np.array([priory0,priory1])\n",
    "print(mus,sigmas,priors)"
   ]
  },
  {
   "cell_type": "code",
   "execution_count": 154,
   "id": "502172f3",
   "metadata": {},
   "outputs": [],
   "source": [
    "class multi_case_1():\n",
    "    def __init__ (self,mus,sigmas,priors):\n",
    "        self.mus=mus\n",
    "        self.sigmas=sigmas\n",
    "        self.priors=priors\n",
    "        values=self.calculate_case_1()\n",
    "        print(f\"Paramter Values calculated: \", values)\n",
    "        return None\n",
    "    \n",
    "    def calculate_case_1(self):\n",
    "        mu_diff=(self.mus[0]-self.mus[1])\n",
    "        self.w= mu_diff\n",
    "        self.x0= 1/2 * (self.mus[0]+self.mus[1]) - (self.sigmas[0][0]**2)/(np.linalg.norm(mu_diff))*(math.log(priors[0]/priors[1])*mu_diff)\n",
    "        return self.w,self.x0\n",
    "    \n",
    "    def decision_boundry_fn(self,x):\n",
    "        return np.matmul(self.w.T, (x-self.x0))\n",
    "    \n",
    "    def predict(self,X):\n",
    "        op_data=[np.matmul(self.w.T, (x-self.x0)) for x in X]\n",
    "        to_ret=[0 if x>0 else 1 for x in op_data]\n",
    "        return to_ret\n",
    "\n",
    "\n",
    "\n",
    "# def calculate_case_1(mus,sigma,priors):\n",
    "#     dimension=len(mus[0])\n",
    "#     if (dimension,dimension) != sigma.shape:\n",
    "#         return NameError(\"Dimension mismatch\")\n",
    "#     mu_dff=(mus[0]-mus[1])\n",
    "#     w= mu_diff\n",
    "#     x0= 1/2 * (mus[0]+mus[1]) - (sigma[0][0]**2)/(np.linalg.norm(mu_diff))*(math.ln(prior[0]/prior[1])**mu_diff)\n",
    "#     return w,x0\n"
   ]
  },
  {
   "cell_type": "code",
   "execution_count": 155,
   "id": "c435aec0",
   "metadata": {},
   "outputs": [
    {
     "name": "stdout",
     "output_type": "stream",
     "text": [
      "Paramter Values calculated:  (array([-3, -3]), array([1.90086994, 2.5       ]))\n"
     ]
    }
   ],
   "source": [
    "model1=multi_case_1(mus,sigmas,priors)"
   ]
  },
  {
   "cell_type": "code",
   "execution_count": 165,
   "id": "b735a53e",
   "metadata": {},
   "outputs": [
    {
     "name": "stdout",
     "output_type": "stream",
     "text": [
      "shape of x_in, (1000000, 2)\n",
      "doing binary classifcation...\n"
     ]
    },
    {
     "data": {
      "image/png": "[encoded data removed]",
      "text/plain": [
       "<Figure size 432x288 with 1 Axes>"
      ]
     },
     "metadata": {
      "needs_background": "light"
     },
     "output_type": "display_data"
    }
   ],
   "source": [
    "def plot_decision_boundary(model, X, y):\n",
    "    # Define the axis boundaries of the plot and create a meshgrid\n",
    "    \n",
    "    x_min, x_max = X[:, 0].min() - 0.1, X[:, 0].max() + 0.1\n",
    "    y_min, y_max = X[:, 1].min() - 0.1, X[:, 1].max() + 0.1\n",
    "    xx, yy = np.meshgrid(np.linspace(x_min, x_max, 1000),\n",
    "                         np.linspace(y_min, y_max, 1000))\n",
    "    \n",
    "    # Create X values (we're going to predict on all of these)\n",
    "    x_in = np.c_[xx.ravel(), yy.ravel()] \n",
    "    \n",
    "    # Make predictions using the trained model\n",
    "    print(f\"shape of x_in, {x_in.shape}\")\n",
    "    y_pred = model.predict(x_in)\n",
    "    y_pred=[[x] for x in y_pred]\n",
    "    # Check for multi-class\n",
    "    if len(y_pred[0]) > 1:\n",
    "        print(\"doing multiclass classification...\")\n",
    "        # We have to reshape our predictions to get them ready for plotting\n",
    "        y_pred = np.argmax(y_pred, axis=1).reshape(xx.shape)\n",
    "    else:\n",
    "        print(\"doing binary classifcation...\")\n",
    "        y_pred = np.round(y_pred).reshape(xx.shape)\n",
    "        \n",
    "    # Plot decision boundary\n",
    "    plt.contourf(xx, yy, y_pred, cmap=plt.cm.RdYlBu, alpha=0.7)\n",
    "    plt.scatter(X[:, 0], X[:, 1], c=y, s=40, cmap=plt.cm.RdYlBu, alpha=0.3)\n",
    "    plt.xlim(xx.min(), xx.max())\n",
    "    plt.ylim(yy.min(), yy.max())\n",
    "    \n",
    "plot_decision_boundary(model1,X,y)"
   ]
  },
  {
   "cell_type": "code",
   "execution_count": null,
   "id": "d746e6c5",
   "metadata": {},
   "outputs": [],
   "source": []
  },
  {
   "cell_type": "code",
   "execution_count": null,
   "id": "ded889cc",
   "metadata": {},
   "outputs": [],
   "source": []
  },
  {
   "cell_type": "code",
   "execution_count": 95,
   "id": "b16c88f8",
   "metadata": {},
   "outputs": [],
   "source": [
    "# mean = [0, 0]\n",
    "\n",
    "# cov = [[1, 0], [0, 100]] \n",
    "# import matplotlib.pyplot as plt\n",
    "\n",
    "# x, y = np.random.multivariate_normal(mean, cov, 5000).T\n",
    "\n",
    "# plt.plot(x, y, 'x')\n",
    "\n",
    "# plt.axis('equal')\n",
    "\n",
    "# plt.show()\n"
   ]
  },
  {
   "cell_type": "code",
   "execution_count": null,
   "id": "c1d6ace7",
   "metadata": {},
   "outputs": [],
   "source": []
  },
  {
   "cell_type": "code",
   "execution_count": null,
   "id": "4912249d",
   "metadata": {},
   "outputs": [],
   "source": []
  },
  {
   "cell_type": "code",
   "execution_count": null,
   "id": "b65ec5a6",
   "metadata": {},
   "outputs": [],
   "source": []
  },
  {
   "cell_type": "code",
   "execution_count": null,
   "id": "d16822f2",
   "metadata": {},
   "outputs": [],
   "source": []
  },
  {
   "cell_type": "code",
   "execution_count": null,
   "id": "72661af5",
   "metadata": {},
   "outputs": [],
   "source": []
  },
  {
   "cell_type": "code",
   "execution_count": null,
   "id": "da535f49",
   "metadata": {},
   "outputs": [],
   "source": []
  },
  {
   "cell_type": "code",
   "execution_count": null,
   "id": "32273239",
   "metadata": {},
   "outputs": [],
   "source": []
  },
  {
   "cell_type": "code",
   "execution_count": null,
   "id": "358fea35",
   "metadata": {},
   "outputs": [],
   "source": []
  },
  {
   "cell_type": "code",
   "execution_count": null,
   "id": "6c8900e3",
   "metadata": {},
   "outputs": [],
   "source": []
  },
  {
   "cell_type": "code",
   "execution_count": null,
   "id": "8ba4f3f0",
   "metadata": {},
   "outputs": [],
   "source": []
  },
  {
   "cell_type": "code",
   "execution_count": null,
   "id": "c7c6a3fe",
   "metadata": {},
   "outputs": [],
   "source": []
  },
  {
   "cell_type": "code",
   "execution_count": null,
   "id": "89e19750",
   "metadata": {},
   "outputs": [],
   "source": []
  },
  {
   "cell_type": "code",
   "execution_count": null,
   "id": "f3b02c62",
   "metadata": {},
   "outputs": [],
   "source": []
  },
  {
   "cell_type": "code",
   "execution_count": null,
   "id": "db9a6825",
   "metadata": {},
   "outputs": [],
   "source": []
  },
  {
   "cell_type": "code",
   "execution_count": null,
   "id": "d4bb7e60",
   "metadata": {},
   "outputs": [],
   "source": []
  },
  {
   "cell_type": "code",
   "execution_count": null,
   "id": "dc8c12ef",
   "metadata": {},
   "outputs": [],
   "source": []
  },
  {
   "cell_type": "code",
   "execution_count": null,
   "id": "cdff11ce",
   "metadata": {},
   "outputs": [],
   "source": []
  },
  {
   "cell_type": "code",
   "execution_count": null,
   "id": "aa205718",
   "metadata": {},
   "outputs": [],
   "source": []
  },
  {
   "cell_type": "code",
   "execution_count": null,
   "id": "12834596",
   "metadata": {},
   "outputs": [],
   "source": []
  },
  {
   "cell_type": "code",
   "execution_count": null,
   "id": "c077258d",
   "metadata": {},
   "outputs": [],
   "source": []
  },
  {
   "cell_type": "code",
   "execution_count": 127,
   "id": "d81b554f",
   "metadata": {},
   "outputs": [],
   "source": [
    "class multi_case_3():\n",
    "    def __init__ (self,mus,sigmas,priors):\n",
    "        self.mus=mus\n",
    "        self.sigmas=sigmas\n",
    "        self.priors=priors\n",
    "        values=self.calculate_case_3_constants()\n",
    "        print(f\"Paramter Values calculated: \", values)\n",
    "        \n",
    "        return None\n",
    "    \n",
    "    def calculate_case_3_constants(self):\n",
    "        dimension=len(self.mus[0])\n",
    "        print(self.sigmas.shape)\n",
    "        if (dimension,dimension) != self.sigmas[0].shape:\n",
    "            return NameError(\"Dimension mismatch\")\n",
    "        mu1=self.mus[0]\n",
    "        mu2=self.mus[1]\n",
    "        sigma1=self.sigmas[0]\n",
    "        sigma2=self.sigmas[1]\n",
    "        sigma1_inv=np.linalg.inv(sigma1)\n",
    "        sigma2_inv=np.linalg.inv(sigma2)\n",
    "        prior1=self.priors[0]\n",
    "        prior2=self.priors[1]\n",
    "        self.W12=-1/2*sigma1_inv\n",
    "        self.W22=-1/2*sigma2_inv\n",
    "        self.w11=np.matmul(sigma1_inv,mu1)\n",
    "        self.w21=np.matmul(sigma2_inv,mu2)\n",
    "        self.w10=-1/2*np.matmul(np.matmul(mu1.T,sigma1_inv),mu1) - 1/2*np.log(np.linalg.det(sigma1)) + np.log(priors[0])\n",
    "        self.w20=-1/2*np.matmul(np.matmul(mu1.T,sigma1_inv),mu1) - 1/2*np.log(np.linalg.det(sigma1)) + np.log(priors[0])\n",
    "        return self.W12,self.W22,self.w11,self.w21,self.w10,self.w20\n",
    "    \n",
    "    def decision_boundry_fn(self,x):\n",
    "        return np.matmul(np.matmul(x.T,(self.W12-self.W22)), x) + np.matmul((self.w11.T-self.w21.T),x) + (self.w10-self.w20) \n",
    "    \n",
    "    def predict(self,X):\n",
    "        op_data=[np.matmul(np.matmul(x.T,(self.W12-self.W22)), x) + np.matmul((self.w11.T-self.w21.T),x) + (self.w10-self.w20) for x in X]\n",
    "        to_ret=[1 if x>0 else 0 for x in op_data]\n",
    "        return to_ret\n",
    "        \n",
    "        \n",
    "        "
   ]
  },
  {
   "cell_type": "code",
   "execution_count": 166,
   "id": "21f00246",
   "metadata": {},
   "outputs": [
    {
     "name": "stdout",
     "output_type": "stream",
     "text": [
      "(60000, 2) (140000, 2)\n",
      "0.3 0.7\n"
     ]
    },
    {
     "data": {
      "image/png": "[encoded data removed]",
      "text/plain": [
       "<Figure size 432x288 with 1 Axes>"
      ]
     },
     "metadata": {
      "needs_background": "light"
     },
     "output_type": "display_data"
    },
    {
     "name": "stdout",
     "output_type": "stream",
     "text": [
      "[[1 1]\n",
      " [4 4]] [[[1 0]\n",
      "  [0 1]]\n",
      "\n",
      " [[4 0]\n",
      "  [0 8]]] [0.3 0.7]\n"
     ]
    }
   ],
   "source": [
    "# mus=np.array([[1,1],[4,4]])\n",
    "# sigmas=np.array([[[1,0],[0,1]],[[4,0],[0,8]]])\n",
    "# numbers=np.array([100,200])\n",
    "# total_data=np.sum(numbers)\n",
    "# priors=numbers/total_data\n",
    "# priors\n",
    "\n",
    "\n",
    "mean1 = [1,1]\n",
    "cov1 = [[1,0],[0,1]]\n",
    "mean2 = [4,4]\n",
    "cov2 = [[4,0],[0,8]]\n",
    "data1 = np.random.multivariate_normal(mean1, cov1, 60000)\n",
    "y1 = np.zeros(60000)\n",
    "data2 = np.random.multivariate_normal(mean2, cov2, 140000)\n",
    "y2 = np.ones(140000)\n",
    "X =np.vstack((data1,data2))\n",
    "y =np.hstack((y1,y2))\n",
    "# sort data into classes\n",
    "Xy0 = X[y == 0]\n",
    "Xy1 = X[y == 1]\n",
    "print(Xy0.shape, Xy1.shape)\n",
    "# calculate priors\n",
    "priory0 = len(Xy0) / len(X)\n",
    "priory1 = len(Xy1) / len(X)\n",
    "print(priory0, priory1)\n",
    "### code for plotting\n",
    "plt.plot(data2[:, 0], data2[:, 1], '.', alpha=0.5, markersize=1)\n",
    "plt.plot(data1[:, 0], data1[:, 1], '.', alpha=0.5, markersize=1)\n",
    "plt.axis('equal')\n",
    "plt.grid()\n",
    "plt.show()\n",
    "\n",
    "mus=np.array([mean1,mean2])\n",
    "sigmas=np.array([cov1,cov2])\n",
    "priors=np.array([priory0,priory1])\n",
    "print(mus,sigmas,priors)"
   ]
  },
  {
   "cell_type": "code",
   "execution_count": 169,
   "id": "beb5099f",
   "metadata": {
    "scrolled": true
   },
   "outputs": [
    {
     "name": "stdout",
     "output_type": "stream",
     "text": [
      "(2, 2, 2)\n",
      "Paramter Values calculated:  (array([[-0.5, -0. ],\n",
      "       [-0. , -0.5]]), array([[-0.125 , -0.    ],\n",
      "       [-0.    , -0.0625]]), array([1., 1.]), array([1. , 0.5]), -2.203972804325936, -2.203972804325936)\n"
     ]
    },
    {
     "data": {
      "text/plain": [
       "-0.3125"
      ]
     },
     "execution_count": 169,
     "metadata": {},
     "output_type": "execute_result"
    }
   ],
   "source": [
    "model3=multi_case_3(mus,sigmas,priors)\n",
    "val=model3.decision_boundry_fn(np.array([1,1]))\n",
    "classifier=model3\n",
    "val"
   ]
  },
  {
   "cell_type": "code",
   "execution_count": 172,
   "id": "33e122a2",
   "metadata": {},
   "outputs": [
    {
     "name": "stdout",
     "output_type": "stream",
     "text": [
      "shape of x_in, (1000000, 2)\n",
      "doing binary classifcation...\n"
     ]
    },
    {
     "data": {
      "image/png": "[encoded data removed]",
      "text/plain": [
       "<Figure size 432x288 with 1 Axes>"
      ]
     },
     "metadata": {
      "needs_background": "light"
     },
     "output_type": "display_data"
    }
   ],
   "source": [
    "def plot_decision_boundary(model, X, y):\n",
    "    # Define the axis boundaries of the plot and create a meshgrid\n",
    "    \n",
    "    x_min, x_max = X[:, 0].min() - 0.1, X[:, 0].max() + 0.1\n",
    "    y_min, y_max = X[:, 1].min() - 0.1, X[:, 1].max() + 0.1\n",
    "    xx, yy = np.meshgrid(np.linspace(x_min, x_max, 1000),\n",
    "                         np.linspace(y_min, y_max, 1000))\n",
    "    \n",
    "    # Create X values (we're going to predict on all of these)\n",
    "    x_in = np.c_[xx.ravel(), yy.ravel()] \n",
    "    \n",
    "    # Make predictions using the trained model\n",
    "    print(f\"shape of x_in, {x_in.shape}\")\n",
    "    y_pred = model.predict(x_in)\n",
    "    y_pred=[[x] for x in y_pred]\n",
    "    # Check for multi-class\n",
    "    if len(y_pred[0]) > 1:\n",
    "        print(\"doing multiclass classification...\")\n",
    "        # We have to reshape our predictions to get them ready for plotting\n",
    "        y_pred = np.argmax(y_pred, axis=1).reshape(xx.shape)\n",
    "    else:\n",
    "        print(\"doing binary classifcation...\")\n",
    "        y_pred = np.round(y_pred).reshape(xx.shape)\n",
    "        \n",
    "    # Plot decision boundary\n",
    "    plt.scatter(X[:, 0], X[:, 1], c=y, s=40, cmap=plt.cm.RdYlBu)\n",
    "    plt.contourf(xx, yy, y_pred, cmap=plt.cm.RdYlBu, alpha=0.7)\n",
    "    plt.xlim(xx.min(), xx.max())\n",
    "    plt.ylim(yy.min(), yy.max())\n",
    "    \n",
    "plot_decision_boundary(classifier,X,y)"
   ]
  },
  {
   "cell_type": "code",
   "execution_count": null,
   "id": "aba28494",
   "metadata": {},
   "outputs": [],
   "source": []
  },
  {
   "cell_type": "code",
   "execution_count": null,
   "id": "23eb68f1",
   "metadata": {},
   "outputs": [],
   "source": []
  }
 ],
 "metadata": {
  "kernelspec": {
   "display_name": "Python 3",
   "language": "python",
   "name": "python3"
  },
  "language_info": {
   "codemirror_mode": {
    "name": "ipython",
    "version": 3
   },
   "file_extension": ".py",
   "mimetype": "text/x-python",
   "name": "python",
   "nbconvert_exporter": "python",
   "pygments_lexer": "ipython3",
   "version": "3.7.0"
  }
 },
 "nbformat": 4,
 "nbformat_minor": 5
}
