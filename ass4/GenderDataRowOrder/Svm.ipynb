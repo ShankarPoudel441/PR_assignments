{
 "cells": [
  {
   "cell_type": "code",
   "execution_count": 1,
   "id": "1d501495",
   "metadata": {},
   "outputs": [],
   "source": [
    "import pandas as pd\n",
    "import numpy as np\n",
    "\n",
    "from sklearn.svm import SVC \n",
    "import pickle\n",
    "from sklearn.preprocessing import StandardScaler\n",
    "\n",
    "from sklearn.metrics import confusion_matrix\n",
    "\n",
    "import itertools"
   ]
  },
  {
   "cell_type": "code",
   "execution_count": null,
   "id": "7c983b9a",
   "metadata": {},
   "outputs": [],
   "source": []
  },
  {
   "cell_type": "code",
   "execution_count": null,
   "id": "43360a9a",
   "metadata": {},
   "outputs": [],
   "source": []
  },
  {
   "cell_type": "code",
   "execution_count": 2,
   "id": "f73a329d",
   "metadata": {},
   "outputs": [],
   "source": [
    "def getdata(feature_file_path,label_file_path):\n",
    "    with open(feature_file_path) as f:\n",
    "        f1_tx = f.readlines()\n",
    "    \n",
    "    with open(label_file_path) as f:\n",
    "        f1_ty = f.read()\n",
    "    \n",
    "    a = []\n",
    "\n",
    "    for i in range(len(f1_tx)):\n",
    "        d = f1_tx[i]\n",
    "        b = [float(j) for j in d.split()]\n",
    "        b = b[:30]\n",
    "        a.append(np.array(b))\n",
    "\n",
    "    f1_train_x = np.array(a)\n",
    "    f1_train_y = np.array([int(i) for i in f1_ty.split()])\n",
    "    \n",
    "    return f1_train_x,f1_train_y\n",
    "    \n",
    "#     with open(file_name+'.pkl', 'wb') as f:\n",
    "#         pickle.dump([f1_train_x,f1_train_y], f)\n",
    "    "
   ]
  },
  {
   "cell_type": "code",
   "execution_count": null,
   "id": "7c87741c",
   "metadata": {},
   "outputs": [],
   "source": []
  },
  {
   "cell_type": "code",
   "execution_count": 3,
   "id": "5551d076",
   "metadata": {},
   "outputs": [],
   "source": [
    "# train1_x,train1_y=getdata('/home/shankar/PR_assignments/ass4/GenderDataRowOrder/48_60/trPCA_01.txt',\n",
    "#             '/home/shankar/PR_assignments/ass4/GenderDataRowOrder/48_60/TtrPCA_01.txt')\n",
    "# val1_x,val1_y=getdata('/home/shankar/PR_assignments/ass4/GenderDataRowOrder/48_60/valPCA_01.txt',\n",
    "#             '/home/shankar/PR_assignments/ass4/GenderDataRowOrder/48_60/TvalPCA_01.txt')\n",
    "# test1_x,test1_y=getdata('/home/shankar/PR_assignments/ass4/GenderDataRowOrder/48_60/tsPCA_01.txt',\n",
    "#             '/home/shankar/PR_assignments/ass4/GenderDataRowOrder/48_60/TtsPCA_01.txt')\n",
    "\n",
    "\n",
    "# train2_x,train2_y=getdata('/home/shankar/PR_assignments/ass4/GenderDataRowOrder/48_60/trPCA_02.txt',\n",
    "#             '/home/shankar/PR_assignments/ass4/GenderDataRowOrder/48_60/TtrPCA_02.txt')\n",
    "# val2_x,val2_y=getdata('/home/shankar/PR_assignments/ass4/GenderDataRowOrder/48_60/valPCA_02.txt',\n",
    "#             '/home/shankar/PR_assignments/ass4/GenderDataRowOrder/48_60/TvalPCA_02.txt')\n",
    "# test2_x,test2_y=getdata('/home/shankar/PR_assignments/ass4/GenderDataRowOrder/48_60/tsPCA_02.txt',\n",
    "#             '/home/shankar/PR_assignments/ass4/GenderDataRowOrder/48_60/TtsPCA_02.txt')\n",
    "\n",
    "# train3_x,train3_y=getdata('/home/shankar/PR_assignments/ass4/GenderDataRowOrder/48_60/trPCA_02.txt',\n",
    "#             '/home/shankar/PR_assignments/ass4/GenderDataRowOrder/48_60/TtrPCA_02.txt')\n",
    "# val3_x,val3_y=getdata('/home/shankar/PR_assignments/ass4/GenderDataRowOrder/48_60/valPCA_02.txt',\n",
    "#             '/home/shankar/PR_assignments/ass4/GenderDataRowOrder/48_60/TvalPCA_02.txt')\n",
    "# test3_x,test3_y=getdata('/home/shankar/PR_assignments/ass4/GenderDataRowOrder/48_60/tsPCA_02.txt',\n",
    "#             '/home/shankar/PR_assignments/ass4/GenderDataRowOrder/48_60/TtsPCA_02.txt')\n",
    "\n",
    "\n",
    "train1_x,train1_y=getdata('/home/shankar/PR_assignments/ass4/GenderDataRowOrder/16_20/trPCA_01.txt',\n",
    "            '/home/shankar/PR_assignments/ass4/GenderDataRowOrder/16_20/TtrPCA_01.txt')\n",
    "val1_x,val1_y=getdata('/home/shankar/PR_assignments/ass4/GenderDataRowOrder/16_20/valPCA_01.txt',\n",
    "            '/home/shankar/PR_assignments/ass4/GenderDataRowOrder/16_20/TvalPCA_01.txt')\n",
    "test1_x,test1_y=getdata('/home/shankar/PR_assignments/ass4/GenderDataRowOrder/16_20/tsPCA_01.txt',\n",
    "            '/home/shankar/PR_assignments/ass4/GenderDataRowOrder/16_20/TtsPCA_01.txt')\n",
    "\n",
    "\n",
    "train2_x,train2_y=getdata('/home/shankar/PR_assignments/ass4/GenderDataRowOrder/16_20/trPCA_02.txt',\n",
    "            '/home/shankar/PR_assignments/ass4/GenderDataRowOrder/16_20/TtrPCA_02.txt')\n",
    "val2_x,val2_y=getdata('/home/shankar/PR_assignments/ass4/GenderDataRowOrder/16_20/valPCA_02.txt',\n",
    "            '/home/shankar/PR_assignments/ass4/GenderDataRowOrder/16_20/TvalPCA_02.txt')\n",
    "test2_x,test2_y=getdata('/home/shankar/PR_assignments/ass4/GenderDataRowOrder/16_20/tsPCA_02.txt',\n",
    "            '/home/shankar/PR_assignments/ass4/GenderDataRowOrder/16_20/TtsPCA_02.txt')\n",
    "\n",
    "train3_x,train3_y=getdata('/home/shankar/PR_assignments/ass4/GenderDataRowOrder/16_20/trPCA_02.txt',\n",
    "            '/home/shankar/PR_assignments/ass4/GenderDataRowOrder/16_20/TtrPCA_02.txt')\n",
    "val3_x,val3_y=getdata('/home/shankar/PR_assignments/ass4/GenderDataRowOrder/16_20/valPCA_02.txt',\n",
    "            '/home/shankar/PR_assignments/ass4/GenderDataRowOrder/16_20/TvalPCA_02.txt')\n",
    "test3_x,test3_y=getdata('/home/shankar/PR_assignments/ass4/GenderDataRowOrder/16_20/tsPCA_02.txt',\n",
    "            '/home/shankar/PR_assignments/ass4/GenderDataRowOrder/16_20/TtsPCA_02.txt')\n"
   ]
  },
  {
   "cell_type": "code",
   "execution_count": 4,
   "id": "b7e4c325",
   "metadata": {},
   "outputs": [
    {
     "data": {
      "text/plain": [
       "array([0.10526315789473684, 0.12030075187969924, 0.12030075187969924],\n",
       "      dtype=object)"
      ]
     },
     "execution_count": 4,
     "metadata": {},
     "output_type": "execute_result"
    }
   ],
   "source": [
    "def misclf_rate(y_true, y_pred):\n",
    "    y_true=list(y_true)\n",
    "    y_pred=list(y_pred)\n",
    "    total_class1 = y_true.count(1)\n",
    "    total_class2 = y_true.count(2)\n",
    "    misclf_class1 = 0\n",
    "    misclf_class2 = 0    \n",
    "    \n",
    "    # print(y_pred)\n",
    "    \n",
    "    tn, fp, fn, tp = confusion_matrix(y_true,y_pred).ravel()   \n",
    "        \n",
    "    total_misclassification_rate = (fp+fn)/(tn+fp+fn+tp)   \n",
    "    for i in range(len(y_true)):\n",
    "        if y_true[i] != y_pred[i]:\n",
    "            if y_true[i] == 1:\n",
    "                misclf_class1 += 1\n",
    "            elif y_true[i] == 2:\n",
    "                misclf_class2 += 1   \n",
    "            \n",
    "    class1_misclf_rate = misclf_class1/total_class1\n",
    "    class2_misclf_rate = misclf_class2/total_class2    \n",
    "    return class1_misclf_rate,class2_misclf_rate,total_misclassification_rate\n",
    "\n",
    "def apply_and_result(train_x,train_y, val_x,val_y, kernel, d, C, gamma):\n",
    "    sc = StandardScaler()\n",
    "    X_train = sc.fit_transform(train_x)\n",
    "    X_val = sc.transform(val_x)\n",
    "    if kernel==\"poly\":\n",
    "        classifier = SVC(kernel = 'poly', random_state = 42, degree=d, coef0=0, gamma=gamma, C=C)\n",
    "    else:\n",
    "        classifier = SVC(kernel = 'rbf', random_state = 42, gamma=gamma, C=C)\n",
    "    classifier.fit(X_train, train_y)\n",
    "    y_val_pred=classifier.predict(X_val)\n",
    "    mis_c1,mis_c2,mis_to=misclf_rate(val_y,y_val_pred)\n",
    "    return sc,classifier,mis_c1,mis_c2,mis_to\n",
    "    \n",
    "data_list=[[train1_x,train1_y, val1_x,val1_y],\n",
    "          [train2_x,train2_y, val2_x,val2_y],\n",
    "          [train3_x,train3_y, val3_x,val3_y]]\n",
    "three_fold_result=[apply_and_result(x[0],x[1],x[2],x[3],\"poly\", d=1,C=100,gamma=1) for x in data_list]\n",
    "sc,classifier,mis_c1,mis_c2,mis_to=np.array(three_fold_result).T\n",
    "mis_to\n",
    "# X_test=sc.transform(test1_x)\n",
    "# misclf_rate(test1_y,classifier.predict(X_test))"
   ]
  },
  {
   "cell_type": "code",
   "execution_count": 5,
   "id": "140e3f7d",
   "metadata": {
    "scrolled": true
   },
   "outputs": [
    {
     "name": "stdout",
     "output_type": "stream",
     "text": [
      "Total_misclassification for kernel,gamma,C,degree rbf 0.1 0.1 1 is 0.44110275689223055\n",
      "Total_misclassification for kernel,gamma,C,degree rbf 0.1 0.1 2 is 0.44110275689223055\n",
      "Total_misclassification for kernel,gamma,C,degree rbf 0.1 0.1 3 is 0.44110275689223055\n",
      "Total_misclassification for kernel,gamma,C,degree rbf 0.1 1 1 is 0.10776942355889724\n",
      "Total_misclassification for kernel,gamma,C,degree rbf 0.1 1 2 is 0.10776942355889724\n",
      "Total_misclassification for kernel,gamma,C,degree rbf 0.1 1 3 is 0.10776942355889724\n",
      "Total_misclassification for kernel,gamma,C,degree rbf 0.1 10 1 is 0.09273182957393483\n",
      "Total_misclassification for kernel,gamma,C,degree rbf 0.1 10 2 is 0.09273182957393483\n",
      "Total_misclassification for kernel,gamma,C,degree rbf 0.1 10 3 is 0.09273182957393483\n",
      "Total_misclassification for kernel,gamma,C,degree rbf 0.1 100 1 is 0.09273182957393483\n",
      "Total_misclassification for kernel,gamma,C,degree rbf 0.1 100 2 is 0.09273182957393483\n",
      "Total_misclassification for kernel,gamma,C,degree rbf 0.1 100 3 is 0.09273182957393483\n",
      "Total_misclassification for kernel,gamma,C,degree rbf 1 0.1 1 is 0.44110275689223055\n",
      "Total_misclassification for kernel,gamma,C,degree rbf 1 0.1 2 is 0.44110275689223055\n",
      "Total_misclassification for kernel,gamma,C,degree rbf 1 0.1 3 is 0.44110275689223055\n",
      "Total_misclassification for kernel,gamma,C,degree rbf 1 1 1 is 0.44110275689223055\n",
      "Total_misclassification for kernel,gamma,C,degree rbf 1 1 2 is 0.44110275689223055\n",
      "Total_misclassification for kernel,gamma,C,degree rbf 1 1 3 is 0.44110275689223055\n",
      "Total_misclassification for kernel,gamma,C,degree rbf 1 10 1 is 0.44110275689223055\n",
      "Total_misclassification for kernel,gamma,C,degree rbf 1 10 2 is 0.44110275689223055\n",
      "Total_misclassification for kernel,gamma,C,degree rbf 1 10 3 is 0.44110275689223055\n",
      "Total_misclassification for kernel,gamma,C,degree rbf 1 100 1 is 0.44110275689223055\n",
      "Total_misclassification for kernel,gamma,C,degree rbf 1 100 2 is 0.44110275689223055\n",
      "Total_misclassification for kernel,gamma,C,degree rbf 1 100 3 is 0.44110275689223055\n",
      "Total_misclassification for kernel,gamma,C,degree rbf 10 0.1 1 is 0.44110275689223055\n",
      "Total_misclassification for kernel,gamma,C,degree rbf 10 0.1 2 is 0.44110275689223055\n",
      "Total_misclassification for kernel,gamma,C,degree rbf 10 0.1 3 is 0.44110275689223055\n",
      "Total_misclassification for kernel,gamma,C,degree rbf 10 1 1 is 0.44110275689223055\n",
      "Total_misclassification for kernel,gamma,C,degree rbf 10 1 2 is 0.44110275689223055\n",
      "Total_misclassification for kernel,gamma,C,degree rbf 10 1 3 is 0.44110275689223055\n",
      "Total_misclassification for kernel,gamma,C,degree rbf 10 10 1 is 0.44110275689223055\n",
      "Total_misclassification for kernel,gamma,C,degree rbf 10 10 2 is 0.44110275689223055\n",
      "Total_misclassification for kernel,gamma,C,degree rbf 10 10 3 is 0.44110275689223055\n",
      "Total_misclassification for kernel,gamma,C,degree rbf 10 100 1 is 0.44110275689223055\n",
      "Total_misclassification for kernel,gamma,C,degree rbf 10 100 2 is 0.44110275689223055\n",
      "Total_misclassification for kernel,gamma,C,degree rbf 10 100 3 is 0.44110275689223055\n",
      "Total_misclassification for kernel,gamma,C,degree rbf 100 0.1 1 is 0.44110275689223055\n",
      "Total_misclassification for kernel,gamma,C,degree rbf 100 0.1 2 is 0.44110275689223055\n",
      "Total_misclassification for kernel,gamma,C,degree rbf 100 0.1 3 is 0.44110275689223055\n",
      "Total_misclassification for kernel,gamma,C,degree rbf 100 1 1 is 0.44110275689223055\n",
      "Total_misclassification for kernel,gamma,C,degree rbf 100 1 2 is 0.44110275689223055\n",
      "Total_misclassification for kernel,gamma,C,degree rbf 100 1 3 is 0.44110275689223055\n",
      "Total_misclassification for kernel,gamma,C,degree rbf 100 10 1 is 0.44110275689223055\n",
      "Total_misclassification for kernel,gamma,C,degree rbf 100 10 2 is 0.44110275689223055\n",
      "Total_misclassification for kernel,gamma,C,degree rbf 100 10 3 is 0.44110275689223055\n",
      "Total_misclassification for kernel,gamma,C,degree rbf 100 100 1 is 0.44110275689223055\n",
      "Total_misclassification for kernel,gamma,C,degree rbf 100 100 2 is 0.44110275689223055\n",
      "Total_misclassification for kernel,gamma,C,degree rbf 100 100 3 is 0.44110275689223055\n",
      "Total_misclassification for kernel,gamma,C,degree poly 0.1 0.1 1 is 0.05513784461152882\n",
      "Total_misclassification for kernel,gamma,C,degree poly 0.1 0.1 2 is 0.20802005012531324\n",
      "Total_misclassification for kernel,gamma,C,degree poly 0.1 0.1 3 is 0.12030075187969924\n",
      "Total_misclassification for kernel,gamma,C,degree poly 0.1 1 1 is 0.08270676691729323\n",
      "Total_misclassification for kernel,gamma,C,degree poly 0.1 1 2 is 0.2581453634085213\n",
      "Total_misclassification for kernel,gamma,C,degree poly 0.1 1 3 is 0.12030075187969924\n",
      "Total_misclassification for kernel,gamma,C,degree poly 0.1 10 1 is 0.09774436090225563\n",
      "Total_misclassification for kernel,gamma,C,degree poly 0.1 10 2 is 0.2631578947368421\n",
      "Total_misclassification for kernel,gamma,C,degree poly 0.1 10 3 is 0.12030075187969924\n",
      "Total_misclassification for kernel,gamma,C,degree poly 0.1 100 1 is 0.12531328320802004\n",
      "Total_misclassification for kernel,gamma,C,degree poly 0.1 100 2 is 0.2631578947368421\n",
      "Total_misclassification for kernel,gamma,C,degree poly 0.1 100 3 is 0.12030075187969924\n",
      "Total_misclassification for kernel,gamma,C,degree poly 1 0.1 1 is 0.08270676691729323\n",
      "Total_misclassification for kernel,gamma,C,degree poly 1 0.1 2 is 0.2631578947368421\n",
      "Total_misclassification for kernel,gamma,C,degree poly 1 0.1 3 is 0.12030075187969924\n",
      "Total_misclassification for kernel,gamma,C,degree poly 1 1 1 is 0.09774436090225563\n",
      "Total_misclassification for kernel,gamma,C,degree poly 1 1 2 is 0.2631578947368421\n",
      "Total_misclassification for kernel,gamma,C,degree poly 1 1 3 is 0.12030075187969924\n",
      "Total_misclassification for kernel,gamma,C,degree poly 1 10 1 is 0.12531328320802004\n",
      "Total_misclassification for kernel,gamma,C,degree poly 1 10 2 is 0.2631578947368421\n",
      "Total_misclassification for kernel,gamma,C,degree poly 1 10 3 is 0.12030075187969924\n",
      "Total_misclassification for kernel,gamma,C,degree poly 1 100 1 is 0.11528822055137844\n",
      "Total_misclassification for kernel,gamma,C,degree poly 1 100 2 is 0.2631578947368421\n",
      "Total_misclassification for kernel,gamma,C,degree poly 1 100 3 is 0.12030075187969924\n",
      "Total_misclassification for kernel,gamma,C,degree poly 10 0.1 1 is 0.09774436090225563\n",
      "Total_misclassification for kernel,gamma,C,degree poly 10 0.1 2 is 0.2631578947368421\n",
      "Total_misclassification for kernel,gamma,C,degree poly 10 0.1 3 is 0.12030075187969924\n",
      "Total_misclassification for kernel,gamma,C,degree poly 10 1 1 is 0.12531328320802004\n",
      "Total_misclassification for kernel,gamma,C,degree poly 10 1 2 is 0.2631578947368421\n",
      "Total_misclassification for kernel,gamma,C,degree poly 10 1 3 is 0.12030075187969924\n",
      "Total_misclassification for kernel,gamma,C,degree poly 10 10 1 is 0.11528822055137844\n",
      "Total_misclassification for kernel,gamma,C,degree poly 10 10 2 is 0.2631578947368421\n",
      "Total_misclassification for kernel,gamma,C,degree poly 10 10 3 is 0.12030075187969924\n",
      "Total_misclassification for kernel,gamma,C,degree poly 10 100 1 is 0.10526315789473684\n",
      "Total_misclassification for kernel,gamma,C,degree poly 10 100 2 is 0.2631578947368421\n",
      "Total_misclassification for kernel,gamma,C,degree poly 10 100 3 is 0.12030075187969924\n",
      "Total_misclassification for kernel,gamma,C,degree poly 100 0.1 1 is 0.12531328320802004\n",
      "Total_misclassification for kernel,gamma,C,degree poly 100 0.1 2 is 0.2631578947368421\n",
      "Total_misclassification for kernel,gamma,C,degree poly 100 0.1 3 is 0.12030075187969924\n",
      "Total_misclassification for kernel,gamma,C,degree poly 100 1 1 is 0.11528822055137844\n",
      "Total_misclassification for kernel,gamma,C,degree poly 100 1 2 is 0.2631578947368421\n",
      "Total_misclassification for kernel,gamma,C,degree poly 100 1 3 is 0.12030075187969924\n",
      "Total_misclassification for kernel,gamma,C,degree poly 100 10 1 is 0.10526315789473684\n",
      "Total_misclassification for kernel,gamma,C,degree poly 100 10 2 is 0.2631578947368421\n",
      "Total_misclassification for kernel,gamma,C,degree poly 100 10 3 is 0.12030075187969924\n",
      "Total_misclassification for kernel,gamma,C,degree poly 100 100 1 is 0.10025062656641603\n",
      "Total_misclassification for kernel,gamma,C,degree poly 100 100 2 is 0.2631578947368421\n",
      "Total_misclassification for kernel,gamma,C,degree poly 100 100 3 is 0.12030075187969924\n"
     ]
    }
   ],
   "source": [
    "degree=[1,2,3]\n",
    "C=[0.1,1,10,100]\n",
    "gamma=[0.1,1,10,100]\n",
    "kernel=[\"rbf\",\"poly\"]\n",
    "\n",
    "data_list=[[train1_x,train1_y, val1_x,val1_y],\n",
    "          [train2_x,train2_y, val2_x,val2_y],\n",
    "          [train3_x,train3_y, val3_x,val3_y]]\n",
    "\n",
    "best_model_score=[None,None,1]\n",
    "all_val_results=[]\n",
    "\n",
    "for element in itertools.product(kernel,gamma,C,degree):\n",
    "    three_fold_result=[apply_and_result(x[0],x[1],x[2],x[3],\n",
    "                                        kernel=element[0],\n",
    "                                        gamma=element[1],\n",
    "                                        C=element[2],\n",
    "                                        d=element[3]\n",
    "                                       ) for x in data_list]\n",
    "    sc,classifier,mis_c1,mis_c2,mis_to=np.array(three_fold_result).T\n",
    "    average_mis=np.mean(mis_to)\n",
    "    all_val_results.append([element[0],element[1],element[2],element[3],average_mis,sc,classifier])\n",
    "    if average_mis<best_model_score[2]:\n",
    "        best_model_score=[sc,classifier,average_mis]\n",
    "    print(f\"Total_misclassification for kernel,gamma,C,degree {element[0]} {element[1]} {element[2]} {element[3]} is {average_mis}\")"
   ]
  },
  {
   "cell_type": "code",
   "execution_count": 6,
   "id": "4819eb04",
   "metadata": {},
   "outputs": [],
   "source": [
    "# # all_val_results[np.argmin(np.array(all_val_results).T[4])]\n",
    "# # 48,60\n",
    "\n",
    "# bestie=all_val_results[8]\n",
    "# bestie"
   ]
  },
  {
   "cell_type": "code",
   "execution_count": 12,
   "id": "0b27f559",
   "metadata": {},
   "outputs": [
    {
     "data": {
      "text/plain": [
       "['rbf',\n",
       " 0.1,\n",
       " 10,\n",
       " 2,\n",
       " 0.09273182957393483,\n",
       " array([StandardScaler(), StandardScaler(), StandardScaler()], dtype=object),\n",
       " array([SVC(C=10, gamma=0.1, random_state=42),\n",
       "        SVC(C=10, gamma=0.1, random_state=42),\n",
       "        SVC(C=10, gamma=0.1, random_state=42)], dtype=object)]"
      ]
     },
     "execution_count": 12,
     "metadata": {},
     "output_type": "execute_result"
    }
   ],
   "source": [
    "# all_val_results[np.argmin(np.array(all_val_results).T[4])]\n",
    "# 16 20\n",
    "\n",
    "# bestie=all_val_results[60]\n",
    "# bestie\n",
    "\n",
    "bestie=all_val_results[7]\n",
    "bestie"
   ]
  },
  {
   "cell_type": "code",
   "execution_count": 13,
   "id": "aa356150",
   "metadata": {},
   "outputs": [
    {
     "data": {
      "text/plain": [
       "(0.09273182957393483,\n",
       " [0.09774436090225563, 0.09022556390977443, 0.09022556390977443])"
      ]
     },
     "execution_count": 13,
     "metadata": {},
     "output_type": "execute_result"
    }
   ],
   "source": [
    "##Bestie\n",
    "\n",
    "test_misclassification=[]\n",
    "test_data_list=[[test1_x,test1_y],\n",
    "               [test2_x,test2_y],\n",
    "               [test3_x,test3_y]]\n",
    "best_models=np.array(best_model_score[-3:-1]).T\n",
    "\n",
    "for element in zip(test_data_list,best_models) :\n",
    "    test_x=element[0][0]\n",
    "    test_y=element[0][1]\n",
    "    sc=element[1][0]\n",
    "    classifier=element[1][1]\n",
    "    X_test=sc.transform(test_x)\n",
    "    y_test_pres=classifier.predict(X_test)\n",
    "    mis_c1,mis_c2,mis_to=misclf_rate(test_y,y_test_pres)\n",
    "    test_misclassification.append(mis_to)\n",
    "    \n",
    "np.mean(test_misclassification),test_misclassification"
   ]
  },
  {
   "cell_type": "code",
   "execution_count": 7,
   "id": "03b8f29e",
   "metadata": {},
   "outputs": [
    {
     "data": {
      "text/plain": [
       "(0.08020050125313283,\n",
       " [0.10526315789473684, 0.06766917293233082, 0.06766917293233082])"
      ]
     },
     "execution_count": 7,
     "metadata": {},
     "output_type": "execute_result"
    }
   ],
   "source": [
    "#Overall (In space of all degree=[1,2,3] C=[0.1,1,10,100] gamma=[0.1,1,10,100] kernel=[\"rbf\",\"poly\"] )\n",
    "\n",
    "test_misclassification=[]\n",
    "test_data_list=[[test1_x,test1_y],\n",
    "               [test2_x,test2_y],\n",
    "               [test3_x,test3_y]]\n",
    "best_models=np.array(best_model_score[:2]).T\n",
    "for element in zip(test_data_list,best_models) :\n",
    "    test_x=element[0][0]\n",
    "    test_y=element[0][1]\n",
    "    sc=element[1][0]\n",
    "    classifier=element[1][1]\n",
    "    X_test=sc.transform(test_x)\n",
    "    y_test_pres=classifier.predict(X_test)\n",
    "    mis_c1,mis_c2,mis_to=misclf_rate(test_y,y_test_pres)\n",
    "    test_misclassification.append(mis_to)\n",
    "    \n",
    "np.mean(test_misclassification),test_misclassification"
   ]
  },
  {
   "cell_type": "code",
   "execution_count": 8,
   "id": "3aa5019d",
   "metadata": {},
   "outputs": [
    {
     "data": {
      "text/plain": [
       "([[0.1, 0.1, 0.44110275689223055],\n",
       "  [0.1, 1, 0.08020050125313283],\n",
       "  [0.1, 10, 0.07769423558897243],\n",
       "  [0.1, 100, 0.07769423558897243],\n",
       "  [1, 0.1, 0.44110275689223055],\n",
       "  [1, 1, 0.44110275689223055],\n",
       "  [1, 10, 0.44110275689223055],\n",
       "  [1, 100, 0.44110275689223055],\n",
       "  [10, 0.1, 0.44110275689223055],\n",
       "  [10, 1, 0.44110275689223055],\n",
       "  [10, 10, 0.44110275689223055],\n",
       "  [10, 100, 0.44110275689223055],\n",
       "  [100, 0.1, 0.44110275689223055],\n",
       "  [100, 1, 0.44110275689223055],\n",
       "  [100, 10, 0.44110275689223055],\n",
       "  [100, 100, 0.44110275689223055]],\n",
       " [0.44110275689223055,\n",
       "  0.08020050125313283,\n",
       "  0.07769423558897243,\n",
       "  0.07769423558897243,\n",
       "  0.44110275689223055,\n",
       "  0.44110275689223055,\n",
       "  0.44110275689223055,\n",
       "  0.44110275689223055,\n",
       "  0.44110275689223055,\n",
       "  0.44110275689223055,\n",
       "  0.44110275689223055,\n",
       "  0.44110275689223055,\n",
       "  0.44110275689223055,\n",
       "  0.44110275689223055,\n",
       "  0.44110275689223055,\n",
       "  0.44110275689223055])"
      ]
     },
     "execution_count": 8,
     "metadata": {},
     "output_type": "execute_result"
    }
   ],
   "source": [
    "rbf=[[x[1],x[2],x[4]] for x in all_val_results if (x[0]==\"rbf\" and x[3]==1)]\n",
    "rbf\n",
    "rbf1=[x[4] for x in all_val_results if (x[0]==\"rbf\" and x[3]==1)]\n",
    "rbf1\n",
    "rbf , rbf1"
   ]
  },
  {
   "cell_type": "code",
   "execution_count": 9,
   "id": "a3ec6d82",
   "metadata": {},
   "outputs": [
    {
     "data": {
      "text/plain": [
       "[0.05764411027568922,\n",
       " 0.08521303258145363,\n",
       " 0.08771929824561403,\n",
       " 0.11779448621553884,\n",
       " 0.08521303258145363,\n",
       " 0.08771929824561403,\n",
       " 0.11779448621553884,\n",
       " 0.12280701754385964,\n",
       " 0.08771929824561403,\n",
       " 0.11779448621553884,\n",
       " 0.12280701754385964,\n",
       " 0.12280701754385964,\n",
       " 0.11779448621553884,\n",
       " 0.12280701754385964,\n",
       " 0.12280701754385964,\n",
       " 0.12280701754385964]"
      ]
     },
     "execution_count": 9,
     "metadata": {},
     "output_type": "execute_result"
    }
   ],
   "source": [
    "poly_data_deg_1=[x[4] for x in all_val_results if (x[0]==\"poly\" and x[3]==1)]\n",
    "poly_data_deg_1"
   ]
  },
  {
   "cell_type": "code",
   "execution_count": 10,
   "id": "06aae812",
   "metadata": {
    "scrolled": false
   },
   "outputs": [
    {
     "data": {
      "text/plain": [
       "[0.21052631578947367,\n",
       " 0.23057644110275688,\n",
       " 0.23057644110275688,\n",
       " 0.23057644110275688,\n",
       " 0.23057644110275688,\n",
       " 0.23057644110275688,\n",
       " 0.23057644110275688,\n",
       " 0.23057644110275688,\n",
       " 0.23057644110275688,\n",
       " 0.23057644110275688,\n",
       " 0.23057644110275688,\n",
       " 0.23057644110275688,\n",
       " 0.23057644110275688,\n",
       " 0.23057644110275688,\n",
       " 0.23057644110275688,\n",
       " 0.23057644110275688]"
      ]
     },
     "execution_count": 10,
     "metadata": {},
     "output_type": "execute_result"
    }
   ],
   "source": [
    "poly_data_deg_2=[x[4] for x in all_val_results if (x[0]==\"poly\" and x[3]==2)]\n",
    "poly_data_deg_2"
   ]
  },
  {
   "cell_type": "code",
   "execution_count": 11,
   "id": "2175c499",
   "metadata": {
    "scrolled": false
   },
   "outputs": [
    {
     "data": {
      "text/plain": [
       "[0.11528822055137844,\n",
       " 0.14536340852130325,\n",
       " 0.14536340852130325,\n",
       " 0.14536340852130325,\n",
       " 0.14536340852130325,\n",
       " 0.14536340852130325,\n",
       " 0.14536340852130325,\n",
       " 0.14536340852130325,\n",
       " 0.14536340852130325,\n",
       " 0.14536340852130325,\n",
       " 0.14536340852130325,\n",
       " 0.14536340852130325,\n",
       " 0.14536340852130325,\n",
       " 0.14536340852130325,\n",
       " 0.14536340852130325,\n",
       " 0.14536340852130325]"
      ]
     },
     "execution_count": 11,
     "metadata": {},
     "output_type": "execute_result"
    }
   ],
   "source": [
    "poly_data_deg_3=[x[4] for x in all_val_results if (x[0]==\"poly\" and x[3]==3)]\n",
    "poly_data_deg_3"
   ]
  },
  {
   "cell_type": "code",
   "execution_count": null,
   "id": "7126bcf3",
   "metadata": {},
   "outputs": [],
   "source": []
  },
  {
   "cell_type": "code",
   "execution_count": null,
   "id": "386d2796",
   "metadata": {},
   "outputs": [],
   "source": []
  }
 ],
 "metadata": {
  "kernelspec": {
   "display_name": "Python 3 (ipykernel)",
   "language": "python",
   "name": "python3"
  },
  "language_info": {
   "codemirror_mode": {
    "name": "ipython",
    "version": 3
   },
   "file_extension": ".py",
   "mimetype": "text/x-python",
   "name": "python",
   "nbconvert_exporter": "python",
   "pygments_lexer": "ipython3",
   "version": "3.7.0"
  }
 },
 "nbformat": 4,
 "nbformat_minor": 5
}
