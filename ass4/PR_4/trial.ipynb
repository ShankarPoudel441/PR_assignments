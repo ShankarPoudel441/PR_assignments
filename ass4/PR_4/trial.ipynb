{
 "cells": [
  {
   "cell_type": "code",
   "execution_count": 35,
   "id": "b47e61ab-971e-4c4f-a676-750b86158f7c",
   "metadata": {},
   "outputs": [],
   "source": [
    "import numpy as np\n",
    "import pandas\n",
    "import os, random, pickle\n",
    "from sklearn.metrics import confusion_matrix\n",
    "random.seed(0)\n",
    "np.random.seed(0)"
   ]
  },
  {
   "cell_type": "code",
   "execution_count": 36,
   "id": "0797ca8e-e782-451d-92b5-693fcf3f30d1",
   "metadata": {},
   "outputs": [],
   "source": [
    "def getdata(feature_file_path,label_file_path, file_name):\n",
    "    with open(feature_file_path) as f:\n",
    "        f1_tx = f.readlines()\n",
    "    \n",
    "    with open(label_file_path) as f:\n",
    "        f1_ty = f.read()\n",
    "    \n",
    "    a = []\n",
    "\n",
    "    for i in range(len(f1_tx)):\n",
    "        d = f1_tx[i]\n",
    "        b = [float(j) for j in d.split()]\n",
    "        b = b[:30]\n",
    "        a.append(np.array(b))\n",
    "\n",
    "    f1_train_x = np.array(a)\n",
    "    f1_train_y = np.array([int(i) for i in f1_ty.split()])\n",
    "    \n",
    "    with open(file_name+'.pkl', 'wb') as f:\n",
    "        pickle.dump([f1_train_x,f1_train_y], f)"
   ]
  },
  {
   "cell_type": "code",
   "execution_count": 39,
   "id": "125d2af6-3956-4fd1-bb88-8ca7fbb03a66",
   "metadata": {},
   "outputs": [],
   "source": [
    "getdata('data/trPCA_03.txt', 'data/TtrPCA_03.txt', 'f3_train')"
   ]
  },
  {
   "cell_type": "code",
   "execution_count": 40,
   "id": "b2fbe439-dadf-4824-a6a7-c0b4c24e0e84",
   "metadata": {},
   "outputs": [],
   "source": [
    "getdata('data/tsPCA_03.txt', 'data/TtsPCA_03.txt', 'f3_test')"
   ]
  },
  {
   "cell_type": "code",
   "execution_count": 47,
   "id": "c94031cb-f07f-4fa5-bf84-4257d06db3c0",
   "metadata": {},
   "outputs": [],
   "source": [
    "with open('f3_train.pkl', 'rb') as handle:\n",
    "    b = pickle.load(handle)\n",
    "    X,y=b"
   ]
  },
  {
   "cell_type": "code",
   "execution_count": 48,
   "id": "f57bbcd3-f682-474f-9fd8-6e103a24db3f",
   "metadata": {},
   "outputs": [],
   "source": [
    "with open('f3_test.pkl', 'rb') as handle:\n",
    "    b = pickle.load(handle)\n",
    "    test_x,test_y=b"
   ]
  },
  {
   "cell_type": "code",
   "execution_count": null,
   "id": "5c4ab923-3e9a-4a1f-b78a-08e8461a76e6",
   "metadata": {},
   "outputs": [],
   "source": []
  },
  {
   "cell_type": "code",
   "execution_count": null,
   "id": "b949b7a8-2dbb-433b-b4d0-f0ce7cacdbe8",
   "metadata": {},
   "outputs": [],
   "source": []
  },
  {
   "cell_type": "code",
   "execution_count": 18,
   "id": "9b3cc875-4da6-49b7-ae75-c772a9d9ede0",
   "metadata": {},
   "outputs": [],
   "source": [
    "class multi_case_1():\n",
    "    def __init__ (self,mus,sigmas,priors):\n",
    "        self.mus=mus\n",
    "        self.sigmas=sigmas\n",
    "        self.priors=priors\n",
    "        values=self.calculate_case_1()\n",
    "        print(f\"Paramter Values calculated: \", values)\n",
    "        return None\n",
    "    \n",
    "    def calculate_case_1(self):\n",
    "        mu_diff=(self.mus[0]-self.mus[1])\n",
    "        self.w= mu_diff\n",
    "        self.x0= 1/2 * (self.mus[0]+self.mus[1]) - (self.sigmas[0][0]**2)/((np.linalg.norm(mu_diff))**2)*(math.log(priors[0]/priors[1])*mu_diff)\n",
    "        return self.w,self.x0\n",
    "    \n",
    "    def decision_boundry_fn(self,x):\n",
    "        return np.matmul(self.w.T, (x-self.x0))\n",
    "    \n",
    "    def predict(self,X):\n",
    "        op_data=[np.matmul(self.w.T, (x-self.x0)) for x in X]\n",
    "        to_ret=[1 if x>0 else 2 for x in op_data]\n",
    "        return np.array(to_ret)"
   ]
  },
  {
   "cell_type": "code",
   "execution_count": 19,
   "id": "e558ba45-4dcd-4b69-9427-51de982c7cd7",
   "metadata": {},
   "outputs": [],
   "source": [
    "class multi_case_2():\n",
    "    def __init__ (self,mus,sigmas,priors):\n",
    "        self.mus=mus\n",
    "        self.sigmas=sigmas\n",
    "        self.priors=priors\n",
    "        values=self.calculate_case_2()\n",
    "        print(f\"Paramter Values calculated: \", values)\n",
    "        return None\n",
    "    \n",
    "    def calculate_case_2(self):\n",
    "        sigma_inv=np.linalg.inv(self.sigmas[0])\n",
    "        mu_diff=self.mus[0]-self.mus[1]\n",
    "        self.w=np.dot(sigma_inv,mu_diff)\n",
    "        self.x0=((self.mus[0]+self.mus[1])/2)-np.log(self.priors[0]/priors[1])*mu_diff/(np.matmul(np.matmul(mu_diff.T,sigma_inv),mu_diff))\n",
    "        return self.w,self.x0\n",
    "    \n",
    "    def decision_boundry_fn(self,x):\n",
    "        return np.matmul(self.w.T, (x-self.x0))\n",
    "    \n",
    "    def predict(self,X):\n",
    "        op_data=[np.matmul(self.w.T, (x-self.x0)) for x in X]\n",
    "        to_ret=[1 if x>0 else 2 for x in op_data]\n",
    "        return np.array(to_ret)"
   ]
  },
  {
   "cell_type": "code",
   "execution_count": 26,
   "id": "c5ae4682-cc8a-4245-bf38-f7ed8787028e",
   "metadata": {},
   "outputs": [],
   "source": [
    "class multi_case_3():\n",
    "    def __init__ (self,mus,sigmas,priors):\n",
    "        self.mus=mus\n",
    "        self.sigmas=sigmas\n",
    "        self.priors=priors\n",
    "        values=self.calculate_case_3_constants()\n",
    "        # print(f\"Paramter Values calculated: {self.W12}\\n{self.W22}\\n{self.w11}\\n{self.w21}\\n{self.w10}\\n{self.w20}\")\n",
    "        \n",
    "        return None\n",
    "    \n",
    "    def calculate_case_3_constants(self):\n",
    "        dimension=len(self.mus[0])\n",
    "        # print(self.sigmas.shape)\n",
    "        if (dimension,dimension) != self.sigmas[0].shape:\n",
    "            return NameError(\"Dimension mismatch\")\n",
    "        mu1=self.mus[0]\n",
    "        mu2=self.mus[1]\n",
    "        sigma1=self.sigmas[0]\n",
    "        sigma2=self.sigmas[1]\n",
    "        sigma1_inv=np.linalg.inv(sigma1)\n",
    "        sigma2_inv=np.linalg.inv(sigma2)\n",
    "        prior1=self.priors[0]\n",
    "        prior2=self.priors[1]\n",
    "        self.W12=-1/2*sigma1_inv\n",
    "        self.W22=-1/2*sigma2_inv\n",
    "        self.w11=np.matmul(sigma1_inv,mu1)\n",
    "        self.w21=np.matmul(sigma2_inv,mu2)\n",
    "        self.w10=-1/2*np.matmul(np.matmul(mu1.T,sigma1_inv),mu1) - 1/2*np.log(np.linalg.det(sigma1)) + np.log(prior1)\n",
    "        self.w20=-1/2*np.matmul(np.matmul(mu2.T,sigma2_inv),mu2) - 1/2*np.log(np.linalg.det(sigma2)) + np.log(prior2)\n",
    "        return self.W12,self.W22,self.w11,self.w21,self.w10,self.w20\n",
    "    \n",
    "    def decision_boundry_fn(self,x):\n",
    "        return np.matmul(np.matmul(x.T,(self.W12-self.W22)), x) + np.matmul((self.w11.T-self.w21.T),x) + (self.w10-self.w20) \n",
    "    \n",
    "    def predict(self,X):\n",
    "        op_data=[np.matmul(np.matmul(x.T,(self.W12-self.W22)), x) + np.matmul((self.w11.T-self.w21.T),x) + (self.w10-self.w20) for x in X]\n",
    "        to_ret=[1 if x>0 else 2 for x in op_data]\n",
    "        return np.array(to_ret)\n",
    "    \n",
    "    def getparams(self):\n",
    "        return self.W12,self.W22,self.w11,self.w21,self.w10,self.w20\n",
    "    \n",
    "    def predict_with_params(self,X,W12,W22,w11,w21,w10,w20):\n",
    "        op_data=[np.matmul(np.matmul(x.T,(W12-W22)), x) + np.matmul((w11.T-w21.T),x) + (w10-w20) for x in X]\n",
    "        to_ret=[1 if x>0 else 2 for x in op_data]\n",
    "        return np.array(to_ret)\n",
    "        "
   ]
  },
  {
   "cell_type": "code",
   "execution_count": 27,
   "id": "7e50402f-3d91-4f04-afbc-a43c6443e564",
   "metadata": {},
   "outputs": [],
   "source": [
    "def calculate_cov(X):\n",
    "    X=np.array(X)\n",
    "    N, M = X.shape\n",
    "    # Calculate the covariance matrix\n",
    "    cov = np.zeros((M, M))\n",
    "    for i in range(M):\n",
    "        # Mean of column \"i\"\n",
    "        mean_i = np.sum(X[:, i]) / N\n",
    "        for j in range(M):\n",
    "            # Mean of column \"j\"\n",
    "            mean_j = np.sum(X[:, j]) / N\n",
    "            # Covariance between column \"i\" and column \"j\"\n",
    "            cov[i, j] = np.sum((X[:, i] - mean_i) * (X[:, j] - mean_j)) / N\n",
    "    return cov"
   ]
  },
  {
   "cell_type": "code",
   "execution_count": 28,
   "id": "f24a7ef0-863e-4c9f-b4c3-da58b824383d",
   "metadata": {},
   "outputs": [],
   "source": [
    "def max_likelihood(X):\n",
    "    mean=np.mean(X,axis=0)\n",
    "    cov=calculate_cov(X)\n",
    "    return mean,cov"
   ]
  },
  {
   "cell_type": "code",
   "execution_count": 29,
   "id": "d43b82bd-002b-40b3-a594-fdc3682caf1b",
   "metadata": {},
   "outputs": [],
   "source": [
    "def misclf_rate(y_true, y_pred):\n",
    "    y_true=list(y_true)\n",
    "    y_pred=list(y_pred)\n",
    "    total_class1 = y_true.count(1)\n",
    "    total_class2 = y_true.count(2)\n",
    "    misclf_class1 = 0\n",
    "    misclf_class2 = 0    \n",
    "    \n",
    "    # print(y_pred)\n",
    "    \n",
    "    tn, fp, fn, tp = confusion_matrix(y_true,y_pred).ravel()   \n",
    "        \n",
    "    total_misclassification_rate = (fp+fn)/(tn+fp+fn+tp)   \n",
    "    for i in range(len(y_true)):\n",
    "        if y_true[i] != y_pred[i]:\n",
    "            if y_true[i] == 1:\n",
    "                misclf_class1 += 1\n",
    "            elif y_true[i] == 2:\n",
    "                misclf_class2 += 1   \n",
    "            \n",
    "    class1_misclf_rate = misclf_class1/total_class1\n",
    "    class2_misclf_rate = misclf_class2/total_class2    \n",
    "    return class1_misclf_rate,class2_misclf_rate,total_misclassification_rate\n",
    "\n",
    "# c1_mis,c2_mis,tot_mis=misclf_rate(y_true,y_pred)\n",
    "# c1_mis,c2_mis,tot_mis"
   ]
  },
  {
   "cell_type": "code",
   "execution_count": 30,
   "id": "c16ef67d-c667-4409-90b1-774b60de5755",
   "metadata": {},
   "outputs": [],
   "source": [
    "def error_rate_for(percentage,X,y, test_x, test_y):\n",
    "    np.random.seed(35)\n",
    "       \n",
    "    X0_=np.array([list(X[i]) for i in range(len(y)) if y[i]==1])\n",
    "    X1_=np.array([list(X[i]) for i in range(len(y)) if y[i]==2])\n",
    "    # print(int(len(X0_)*0.01*percentage),int(len(X1_)*0.01*percentage))\n",
    "    \n",
    "    train_i0=np.random.choice(range(len(X0_)),int(len(X0_)*0.01*percentage),replace=False)\n",
    "    train_i1=np.random.choice(range(len(X1_)),int(len(X1_)*0.01*percentage),replace=False)\n",
    "    X0=[X0_[i] for i in train_i0]\n",
    "    X1=[X1_[i] for i in train_i1]\n",
    "    \n",
    "    prior0=0.5 #len(X0)/(len(X0)+len(X1))\n",
    "    prior1=0.5 #len(X1)/(len(X0)+len(X1))\n",
    "    \n",
    "    \n",
    "    mean0,cov0=max_likelihood(X0)\n",
    "    mean1,cov1=max_likelihood(X1)\n",
    "    \n",
    "\n",
    "    mus=np.array([mean0,mean1])\n",
    "    sigmas=np.array([cov0,cov1])\n",
    "    priors=np.array([prior0,prior1])\n",
    "    # print(f\"mus={mus}\\n\\n,sigmas={sigmas}\\n\\n,priors={priors}\")\n",
    "    \n",
    "    if np.array_equal(cov0,cov1):\n",
    "        if cov0[0][0]==cov0[1][1] and cov0[0][1]==0 and cov0[1][0]==0:\n",
    "            model=multi_case_1(mus,sigmas,priors)\n",
    "        else:\n",
    "            model=multi_case_2(mus,sigmas,priors)\n",
    "    else:\n",
    "        model=multi_case_3(mus,sigmas,priors)\n",
    "        \n",
    "    W12, W22, w11, w21, w10, w20 = model.getparams() \n",
    "    y_test_pred=model.predict_with_params(test_x, W12, W22, w11, w21, w10, w20)\n",
    "    # y_pred=model.predict(X)\n",
    "    \n",
    "    # print(\"prediction_shape vs y_true shape:\",y_pred.shape, \"   \", y.shape)\n",
    "    \n",
    "    c1_mis,c2_mis,tot_mis=misclf_rate(y_true=test_y,y_pred=y_test_pred)\n",
    "    \n",
    "    return c1_mis,c2_mis,tot_mis"
   ]
  },
  {
   "cell_type": "code",
   "execution_count": 51,
   "id": "2afc2b44-4ff6-4218-830a-88fbe2223176",
   "metadata": {
    "tags": []
   },
   "outputs": [],
   "source": [
    "c1_mis, c2_mis, tot_mis =error_rate_for(percentage=100,X=X,y=y, test_x= X, test_y= y)"
   ]
  },
  {
   "cell_type": "code",
   "execution_count": 52,
   "id": "7eb30bc5-cecd-49dc-8e9a-048b356ecb60",
   "metadata": {},
   "outputs": [
    {
     "data": {
      "text/plain": [
       "(0.0, 0.0, 0.0)"
      ]
     },
     "execution_count": 52,
     "metadata": {},
     "output_type": "execute_result"
    }
   ],
   "source": [
    "c1_mis, c2_mis, tot_mis"
   ]
  },
  {
   "cell_type": "code",
   "execution_count": null,
   "id": "0147a115-4d24-40dc-b9e3-285980d28766",
   "metadata": {},
   "outputs": [],
   "source": []
  },
  {
   "cell_type": "code",
   "execution_count": null,
   "id": "4b0946f9-73bd-4304-ab42-ab4588c26f7f",
   "metadata": {},
   "outputs": [],
   "source": []
  },
  {
   "cell_type": "code",
   "execution_count": null,
   "id": "e5ebe774-0b87-4efc-8953-bbec21fbf006",
   "metadata": {},
   "outputs": [],
   "source": []
  },
  {
   "cell_type": "code",
   "execution_count": null,
   "id": "703e130a-ba3f-41b3-ba36-39e1f6866166",
   "metadata": {},
   "outputs": [],
   "source": []
  },
  {
   "cell_type": "code",
   "execution_count": null,
   "id": "1f6b0b19-43fe-48e1-a775-b7b6d5082f7b",
   "metadata": {},
   "outputs": [],
   "source": []
  }
 ],
 "metadata": {
  "kernelspec": {
   "display_name": "Python 3 (ipykernel)",
   "language": "python",
   "name": "python3"
  },
  "language_info": {
   "codemirror_mode": {
    "name": "ipython",
    "version": 3
   },
   "file_extension": ".py",
   "mimetype": "text/x-python",
   "name": "python",
   "nbconvert_exporter": "python",
   "pygments_lexer": "ipython3",
   "version": "3.7.0"
  }
 },
 "nbformat": 4,
 "nbformat_minor": 5
}
