{
 "cells": [
  {
   "cell_type": "code",
   "execution_count": 1,
   "id": "19852a16",
   "metadata": {},
   "outputs": [],
   "source": [
    "import numpy as np\n",
    "import math\n",
    "import matplotlib.pyplot as plt \n",
    "import matplotlib.patches as mpatches\n",
    "from sklearn.metrics import confusion_matrix\n",
    "import pickle as pkl"
   ]
  },
  {
   "cell_type": "code",
   "execution_count": 2,
   "id": "98bf8212",
   "metadata": {},
   "outputs": [
    {
     "data": {
      "text/plain": [
       "140000"
      ]
     },
     "execution_count": 2,
     "metadata": {},
     "output_type": "execute_result"
    }
   ],
   "source": [
    "with open('q2.pickle', 'rb') as handle:\n",
    "    b = pkl.load(handle)\n",
    "    X,y=b\n",
    "    X=np.array(X)\n",
    "    y=np.array(y)\n",
    "\n",
    "X0=np.array([list(X[i]) for i in range(len(y)) if y[i]==0])\n",
    "X1=np.array([list(X[i]) for i in range(len(y)) if y[i]==1])\n",
    "\n",
    "prior0=len(X0)/len(X)\n",
    "prior1=len(X1)/len(X)\n",
    "\n",
    "# prior0,prior1\n",
    "len(X1)"
   ]
  },
  {
   "cell_type": "code",
   "execution_count": 3,
   "id": "083ccb8c",
   "metadata": {},
   "outputs": [
    {
     "data": {
      "text/plain": [
       "array([[ 3.99402911e+00, -8.41400879e-04],\n",
       "       [-8.41400879e-04,  7.97419232e+00]])"
      ]
     },
     "execution_count": 3,
     "metadata": {},
     "output_type": "execute_result"
    }
   ],
   "source": [
    "def calculate_cov(X):\n",
    "    X=np.array(X)\n",
    "    N, M = X.shape\n",
    "    # Calculate the covariance matrix\n",
    "    cov = np.zeros((M, M))\n",
    "    for i in range(M):\n",
    "        # Mean of column \"i\"\n",
    "        mean_i = np.sum(X[:, i]) / N\n",
    "        for j in range(M):\n",
    "            # Mean of column \"j\"\n",
    "            mean_j = np.sum(X[:, j]) / N\n",
    "            # Covariance between column \"i\" and column \"j\"\n",
    "            cov[i, j] = np.sum((X[:, i] - mean_i) * (X[:, j] - mean_j)) / N\n",
    "    return cov\n",
    "\n",
    "cov=calculate_cov(X1)\n",
    "cov"
   ]
  },
  {
   "cell_type": "code",
   "execution_count": 4,
   "id": "e7ae0786",
   "metadata": {},
   "outputs": [
    {
     "name": "stdout",
     "output_type": "stream",
     "text": [
      "[[1.0027023  1.00536381]\n",
      " [3.99859576 4.00311974]]\n",
      "\n",
      ",[[[ 9.99332505e-01  2.93812690e-03]\n",
      "  [ 2.93812690e-03  9.95403756e-01]]\n",
      "\n",
      " [[ 3.99402911e+00 -8.41400879e-04]\n",
      "  [-8.41400879e-04  7.97419232e+00]]]\n",
      "\n",
      ",[0.3 0.7],\n",
      "\n",
      "[2.57799777 2.93655184]\n"
     ]
    }
   ],
   "source": [
    "def max_likelihood(X):\n",
    "    mean=np.mean(X,axis=0)\n",
    "#     conv=np.cov(X,rowvar=False)\n",
    "    cov=calculate_cov(X)\n",
    "    return mean,cov\n",
    "\n",
    "\n",
    "mean0,cov0=max_likelihood(X0)\n",
    "mean1,cov1=max_likelihood(X1)\n",
    "\n",
    "\n",
    "mus=np.array([mean0,mean1])\n",
    "sigmas=np.array([cov0,cov1])\n",
    "priors=np.array([prior0,prior1])\n",
    "print(f\"{mus}\\n\\n,{sigmas}\\n\\n,{priors},\\n\\n{X[100]}\")"
   ]
  },
  {
   "cell_type": "code",
   "execution_count": 5,
   "id": "51cf7367",
   "metadata": {},
   "outputs": [],
   "source": [
    "class multi_case_1():\n",
    "    def __init__ (self,mus,sigmas,priors):\n",
    "        self.mus=mus\n",
    "        self.sigmas=sigmas\n",
    "        self.priors=priors\n",
    "        values=self.calculate_case_1()\n",
    "        print(f\"Paramter Values calculated: \", values)\n",
    "        return None\n",
    "    \n",
    "    def calculate_case_1(self):\n",
    "        mu_diff=(self.mus[0]-self.mus[1])\n",
    "        self.w= mu_diff\n",
    "        self.x0= 1/2 * (self.mus[0]+self.mus[1]) - (self.sigmas[0][0]**2)/((np.linalg.norm(mu_diff))**2)*(math.log(priors[0]/priors[1])*mu_diff)\n",
    "        return self.w,self.x0\n",
    "    \n",
    "    def decision_boundry_fn(self,x):\n",
    "        return np.matmul(self.w.T, (x-self.x0))\n",
    "    \n",
    "    def predict(self,X):\n",
    "        op_data=[np.matmul(self.w.T, (x-self.x0)) for x in X]\n",
    "        to_ret=[0 if x>0 else 1 for x in op_data]\n",
    "        return np.array(to_ret)"
   ]
  },
  {
   "cell_type": "code",
   "execution_count": 6,
   "id": "09683b42",
   "metadata": {
    "scrolled": true
   },
   "outputs": [
    {
     "name": "stdout",
     "output_type": "stream",
     "text": [
      "Paramter Values calculated:  (array([-2.99589346, -2.99775592]), array([2.35951564, 2.50424055]))\n"
     ]
    }
   ],
   "source": [
    "model1=multi_case_1(mus,sigmas,priors)"
   ]
  },
  {
   "cell_type": "code",
   "execution_count": 7,
   "id": "2551029d",
   "metadata": {},
   "outputs": [],
   "source": [
    "sigma_inv=np.linalg.inv(sigmas[0])\n",
    "mu_diff=mus[0]-mus[1]\n"
   ]
  },
  {
   "cell_type": "code",
   "execution_count": 8,
   "id": "0a689867",
   "metadata": {},
   "outputs": [],
   "source": [
    "class multi_case_2():\n",
    "    def __init__ (self,mus,sigmas,priors):\n",
    "        self.mus=mus\n",
    "        self.sigmas=sigmas\n",
    "        self.priors=priors\n",
    "        values=self.calculate_case_2()\n",
    "        print(f\"Paramter Values calculated: \", values)\n",
    "        return None\n",
    "    \n",
    "    def calculate_case_2(self):\n",
    "        sigma_inv=np.linalg.inv(self.sigmas[0])\n",
    "        mu_diff=self.mus[0]-self.mus[1]\n",
    "        self.w=np.dot(sigma_inv,mu_diff)\n",
    "        self.x0=((self.mus[0]+self.mus[1])/2)-np.log(self.priors[0]/priors[1])*mu_diff/(np.matmul(np.matmul(mu_diff.T,sigma_inv),mu_diff))\n",
    "        return self.w,self.x0\n",
    "    \n",
    "    def decision_boundry_fn(self,x):\n",
    "        return np.matmul(self.w.T, (x-self.x0))\n",
    "    \n",
    "    def predict(self,X):\n",
    "        op_data=[np.matmul(self.w.T, (x-self.x0)) for x in X]\n",
    "        to_ret=[0 if x>0 else 1 for x in op_data]\n",
    "        return np.array(to_ret)"
   ]
  },
  {
   "cell_type": "code",
   "execution_count": 9,
   "id": "cff3837f",
   "metadata": {},
   "outputs": [
    {
     "name": "stdout",
     "output_type": "stream",
     "text": [
      "Paramter Values calculated:  (array([-2.98906611, -3.00277515]), array([2.35928448, 2.36278934]))\n"
     ]
    }
   ],
   "source": [
    "model2=multi_case_2(mus,sigmas,priors)"
   ]
  },
  {
   "cell_type": "code",
   "execution_count": 10,
   "id": "b249a59b",
   "metadata": {},
   "outputs": [],
   "source": [
    "class multi_case_3():\n",
    "    def __init__ (self,mus,sigmas,priors):\n",
    "        self.mus=mus\n",
    "        self.sigmas=sigmas\n",
    "        self.priors=priors\n",
    "        values=self.calculate_case_3_constants()\n",
    "        print(f\"Paramter Values calculated: {self.W12}\\n{self.W22}\\n{self.w11}\\n{self.w21}\\n{self.w10}\\n{self.w20}\")\n",
    "        \n",
    "        return None\n",
    "    \n",
    "    def calculate_case_3_constants(self):\n",
    "        dimension=len(self.mus[0])\n",
    "        print(self.sigmas.shape)\n",
    "        if (dimension,dimension) != self.sigmas[0].shape:\n",
    "            return NameError(\"Dimension mismatch\")\n",
    "        mu1=self.mus[0]\n",
    "        mu2=self.mus[1]\n",
    "        sigma1=self.sigmas[0]\n",
    "        sigma2=self.sigmas[1]\n",
    "        sigma1_inv=np.linalg.inv(sigma1)\n",
    "        sigma2_inv=np.linalg.inv(sigma2)\n",
    "        prior1=self.priors[0]\n",
    "        prior2=self.priors[1]\n",
    "        self.W12=-1/2*sigma1_inv\n",
    "        self.W22=-1/2*sigma2_inv\n",
    "        self.w11=np.matmul(sigma1_inv,mu1)\n",
    "        self.w21=np.matmul(sigma2_inv,mu2)\n",
    "        self.w10=-1/2*np.matmul(np.matmul(mu1.T,sigma1_inv),mu1) - 1/2*np.log(np.linalg.det(sigma1)) + np.log(priors[0])\n",
    "        self.w20=-1/2*np.matmul(np.matmul(mu2.T,sigma2_inv),mu2) - 1/2*np.log(np.linalg.det(sigma2)) + np.log(priors[1])\n",
    "        return self.W12,self.W22,self.w11,self.w21,self.w10,self.w20\n",
    "    \n",
    "    def decision_boundry_fn(self,x):\n",
    "        return np.matmul(np.matmul(x.T,(self.W12-self.W22)), x) + np.matmul((self.w11.T-self.w21.T),x) + (self.w10-self.w20) \n",
    "    \n",
    "    def predict(self,X):\n",
    "        op_data=[np.matmul(np.matmul(x.T,(self.W12-self.W22)), x) + np.matmul((self.w11.T-self.w21.T),x) + (self.w10-self.w20) for x in X]\n",
    "        to_ret=[0 if x>0 else 1 for x in op_data]\n",
    "        return np.array(to_ret)\n",
    "        "
   ]
  },
  {
   "cell_type": "code",
   "execution_count": 11,
   "id": "08e45b6b",
   "metadata": {},
   "outputs": [
    {
     "name": "stdout",
     "output_type": "stream",
     "text": [
      "(2, 2, 2)\n",
      "Paramter Values calculated: [[-0.50033831  0.00147685]\n",
      " [ 0.00147685 -0.50231309]]\n",
      "[[-1.25186872e-01 -1.32091552e-05]\n",
      " [-1.32091552e-05 -6.27022764e-02]]\n",
      "[1.00041122 1.00705314]\n",
      "[1.00124915 0.50211508]\n",
      "-2.20911589833643\n",
      "-5.0939890629151146\n"
     ]
    }
   ],
   "source": [
    "model3=multi_case_3(mus,sigmas,priors)"
   ]
  },
  {
   "cell_type": "code",
   "execution_count": null,
   "id": "17fab2a6",
   "metadata": {},
   "outputs": [],
   "source": []
  },
  {
   "cell_type": "code",
   "execution_count": null,
   "id": "5582739f",
   "metadata": {},
   "outputs": [],
   "source": []
  },
  {
   "cell_type": "code",
   "execution_count": 12,
   "id": "5efb5a2f",
   "metadata": {},
   "outputs": [
    {
     "name": "stdout",
     "output_type": "stream",
     "text": [
      "(200000,)\n"
     ]
    },
    {
     "data": {
      "text/plain": [
       "(0.08348333333333334, 0.07414285714285715, 0.076945)"
      ]
     },
     "execution_count": 12,
     "metadata": {},
     "output_type": "execute_result"
    }
   ],
   "source": [
    "y_true=y\n",
    "y_pred=model3.predict(X)\n",
    "print(y_pred.shape)\n",
    "\n",
    "def misclf_rate(y_true, y_pred):\n",
    "    y_true=list(y_true)\n",
    "    y_pred=list(y_pred)\n",
    "    total_class1 = y_true.count(0)\n",
    "    total_class2 = y_true.count(1)\n",
    "    misclf_class1 = 0\n",
    "    misclf_class2 = 0    \n",
    "    tn, fp, fn, tp = confusion_matrix(y_true,y_pred).ravel()    \n",
    "    total_misclassification_rate = (fp+fn)/(tn+fp+fn+tp)   \n",
    "    for i in range(len(y_true)):\n",
    "        if y_true[i] != y_pred[i]:\n",
    "            if y_true[i] == 0:\n",
    "                misclf_class1 += 1\n",
    "            elif y_true[i] == 1:\n",
    "                misclf_class2 += 1   \n",
    "            \n",
    "    class1_misclf_rate = misclf_class1/total_class1\n",
    "    class2_misclf_rate = misclf_class2/total_class2    \n",
    "    return class1_misclf_rate,class2_misclf_rate,total_misclassification_rate\n",
    "\n",
    "c1_mis,c2_mis,tot_mis=misclf_rate(y_true,y_pred)\n",
    "c1_mis,c2_mis,tot_mis"
   ]
  },
  {
   "cell_type": "code",
   "execution_count": null,
   "id": "4e85d942",
   "metadata": {},
   "outputs": [],
   "source": []
  },
  {
   "cell_type": "code",
   "execution_count": null,
   "id": "6b6f62f4",
   "metadata": {},
   "outputs": [],
   "source": []
  },
  {
   "cell_type": "code",
   "execution_count": 15,
   "id": "37e63054",
   "metadata": {},
   "outputs": [],
   "source": [
    "def error_rate_for(percentage=0.01,X=X,y=y):\n",
    "    np.random.seed(35)\n",
    "    \n",
    "    train_i=np.random.choice(range(len(X)),int(len(X)*0.01*percentage),replace=False)\n",
    "    train_X=[X[i] for i in train_i]\n",
    "    train_y=[y[i] for i in train_i]\n",
    "    X0=np.array([list(train_X[i]) for i in range(len(train_y)) if train_y[i]==0])\n",
    "    X1=np.array([list(train_X[i]) for i in range(len(train_y)) if train_y[i]==1])\n",
    "\n",
    "    prior0=len(X0)/len(train_y)\n",
    "    prior1=len(X1)/len(train_y)\n",
    "    print(\"X0,X1,prior0,prior1\",len(X0),len(X1),prior0,prior1)\n",
    "    \n",
    "    mean0,cov0=max_likelihood(X0)\n",
    "    mean1,cov1=max_likelihood(X1)\n",
    "\n",
    "    mus=np.array([mean0,mean1])\n",
    "    sigmas=np.array([cov0,cov1])\n",
    "    priors=np.array([prior0,prior1])\n",
    "    print(f\"mus={mus}\\n\\n,sigmas={sigmas}\\n\\n,priors={priors}\")\n",
    "    \n",
    "    if np.array_equal(cov0,cov1):\n",
    "        if cov0[0][0]==cov0[1][1] and cov0[0][1]==0 and cov0[1][0]==0:\n",
    "            model=multi_case_1(mus,sigmas,priors)\n",
    "        else:\n",
    "            model=multi_case_2(mus,sigmas,priors)\n",
    "    else:\n",
    "        model=multi_case_3(mus,sigmas,priors)\n",
    "        \n",
    "    y_pred=model.predict(X)\n",
    "    print(\"prediction_shape vs y_true shape:\",y_pred.shape, \"   \", y.shape)\n",
    "    \n",
    "    c1_mis,c2_mis,tot_mis=misclf_rate(y_true=y,y_pred=y_pred)\n",
    "    \n",
    "    return c1_mis,c2_mis,tot_mis"
   ]
  },
  {
   "cell_type": "code",
   "execution_count": 21,
   "id": "6da5be2c",
   "metadata": {},
   "outputs": [
    {
     "name": "stdout",
     "output_type": "stream",
     "text": [
      "X0,X1,prior0,prior1 8 12 0.4 0.6\n",
      "mus=[[0.89199261 1.26567805]\n",
      " [3.34740232 3.46935637]]\n",
      "\n",
      ",sigmas=[[[ 1.12063254 -0.18333451]\n",
      "  [-0.18333451  0.83817559]]\n",
      "\n",
      " [[ 3.34349589  1.31361533]\n",
      "  [ 1.31361533  5.7548532 ]]]\n",
      "\n",
      ",priors=[0.4 0.6]\n",
      "(2, 2, 2)\n",
      "Paramter Values calculated: [[-0.46273515 -0.10121426]\n",
      " [-0.10121426 -0.61867235]]\n",
      "[[-0.1642766   0.03749813]\n",
      " [ 0.03749813 -0.09544259]]\n",
      "[1.081722   1.74664478]\n",
      "[0.83961094 0.41120607]\n",
      "-2.7422245942263315\n",
      "-3.906792978315614\n",
      "prediction_shape vs y_true shape: (200000,)     (200000,)\n"
     ]
    },
    {
     "data": {
      "text/plain": [
       "(0.17656666666666668, 0.05275, 0.089895)"
      ]
     },
     "execution_count": 21,
     "metadata": {},
     "output_type": "execute_result"
    }
   ],
   "source": [
    "error_rate_for(percentage=0.01,X=X,y=y)"
   ]
  },
  {
   "cell_type": "code",
   "execution_count": null,
   "id": "3add4c38",
   "metadata": {},
   "outputs": [],
   "source": []
  }
 ],
 "metadata": {
  "kernelspec": {
   "display_name": "Python 3",
   "language": "python",
   "name": "python3"
  },
  "language_info": {
   "codemirror_mode": {
    "name": "ipython",
    "version": 3
   },
   "file_extension": ".py",
   "mimetype": "text/x-python",
   "name": "python",
   "nbconvert_exporter": "python",
   "pygments_lexer": "ipython3",
   "version": "3.7.0"
  }
 },
 "nbformat": 4,
 "nbformat_minor": 5
}
