{
 "cells": [
  {
   "cell_type": "code",
   "execution_count": 1,
   "id": "126275d7",
   "metadata": {},
   "outputs": [],
   "source": [
    "import numpy as np\n",
    "import math\n",
    "import matplotlib.pyplot as plt \n",
    "import matplotlib.patches as mpatches\n",
    "from sklearn.metrics import confusion_matrix\n",
    "import pickle as pkl\n",
    "import random\n",
    "\n",
    "random.seed(42)\n",
    "np.random.seed(42)"
   ]
  },
  {
   "cell_type": "code",
   "execution_count": 2,
   "id": "40741d0e",
   "metadata": {},
   "outputs": [],
   "source": [
    "# mean1 = [1,1]\n",
    "# cov1 = [[1,0],[0,1]]\n",
    "# mean2 = [4,4]\n",
    "# cov2 = [[1,0],[0,1]]\n",
    "\n",
    "\n",
    "# random.seed(35)\n",
    "# np.random.seed(35)\n",
    "# data1 = np.random.multivariate_normal(mean1, cov1, 60000)\n",
    "# y1 = np.zeros(60000)\n",
    "# data2 = np.random.multivariate_normal(mean2, cov2, 140000)\n",
    "# y2 = np.ones(140000)\n",
    "# X =np.vstack((data1,data2))\n",
    "# y =np.hstack((y1,y2))\n",
    "# with open('q1_sec.pickle', 'wb') as handle:\n",
    "#     pkl.dump([X,y], handle, protocol=pkl.HIGHEST_PROTOCOL)"
   ]
  },
  {
   "cell_type": "code",
   "execution_count": 3,
   "id": "3f70c0fe",
   "metadata": {},
   "outputs": [
    {
     "data": {
      "text/plain": [
       "(0.3, 0.7)"
      ]
     },
     "execution_count": 3,
     "metadata": {},
     "output_type": "execute_result"
    }
   ],
   "source": [
    "with open('q1.pickle', 'rb') as handle:\n",
    "    b = pkl.load(handle)\n",
    "    X,y=b\n",
    "    X=np.array(X)\n",
    "    y=np.array(y)\n",
    "\n",
    "X0=np.array([list(X[i]) for i in range(len(y)) if y[i]==0])\n",
    "X1=np.array([list(X[i]) for i in range(len(y)) if y[i]==1])\n",
    "\n",
    "prior0=len(X0)/len(X)\n",
    "prior1=len(X1)/len(X)\n",
    "\n",
    "prior0,prior1"
   ]
  },
  {
   "cell_type": "code",
   "execution_count": 4,
   "id": "78f77fa9",
   "metadata": {},
   "outputs": [
    {
     "data": {
      "text/plain": [
       "(array([[1.00181041, 0.00409282],\n",
       "        [0.00409282, 0.99503845]]),\n",
       " array([[1.00181041, 0.00409282],\n",
       "        [0.00409282, 0.99503845]]))"
      ]
     },
     "execution_count": 4,
     "metadata": {},
     "output_type": "execute_result"
    }
   ],
   "source": [
    "def calculate_cov(X):\n",
    "    X=np.array(X)\n",
    "    N, M = X.shape\n",
    "    # Calculate the covariance matrix\n",
    "    cov = np.zeros((M, M))\n",
    "    for i in range(M):\n",
    "        # Mean of column \"i\"\n",
    "        mean_i = np.sum(X[:, i]) / N\n",
    "        for j in range(M):\n",
    "            # Mean of column \"j\"\n",
    "            mean_j = np.sum(X[:, j]) / N\n",
    "            # Covariance between column \"i\" and column \"j\"\n",
    "            cov[i, j] = np.sum((X[:, i] - mean_i) * (X[:, j] - mean_j)) / (N-1)\n",
    "    return cov\n",
    "\n",
    "cov=calculate_cov(X1)\n",
    "cov,np.cov(X1,rowvar=False)"
   ]
  },
  {
   "cell_type": "code",
   "execution_count": 5,
   "id": "aaa60dcb",
   "metadata": {},
   "outputs": [
    {
     "name": "stdout",
     "output_type": "stream",
     "text": [
      "[[1.00085009 1.0038003 ]\n",
      " [3.99905894 4.00033036]]\n",
      "\n",
      ",[[[ 1.00643946 -0.00193469]\n",
      "  [-0.00193469  0.9966508 ]]\n",
      "\n",
      " [[ 1.00181041  0.00409282]\n",
      "  [ 0.00409282  0.99503845]]]\n",
      "\n",
      ",[0.3 0.7],\n",
      "\n",
      "[-0.26141452  1.98797281]\n"
     ]
    }
   ],
   "source": [
    "def max_likelihood(X):\n",
    "    mean=np.mean(X,axis=0)\n",
    "#     conv=np.cov(X,rowvar=False)\n",
    "    cov=calculate_cov(X)\n",
    "    return mean,cov\n",
    "\n",
    "\n",
    "mean0,cov0=max_likelihood(X0)\n",
    "mean1,cov1=max_likelihood(X1)\n",
    "\n",
    "\n",
    "mus=np.array([mean0,mean1])\n",
    "sigmas=np.array([cov0,cov1])\n",
    "priors=np.array([prior0,prior1])\n",
    "print(f\"{mus}\\n\\n,{sigmas}\\n\\n,{priors},\\n\\n{X[100]}\")"
   ]
  },
  {
   "cell_type": "code",
   "execution_count": 6,
   "id": "b92bbd3a",
   "metadata": {},
   "outputs": [],
   "source": [
    "class multi_case_1():\n",
    "    def __init__ (self,mus,sigmas,priors):\n",
    "        self.mus=mus\n",
    "        self.sigmas=sigmas\n",
    "        self.priors=priors\n",
    "        values=self.calculate_case_1()\n",
    "        print(f\"Paramter Values calculated: \", values)\n",
    "        return None\n",
    "    \n",
    "    def calculate_case_1(self):\n",
    "        mu_diff=(self.mus[0]-self.mus[1])\n",
    "        self.w= mu_diff\n",
    "        self.x0= 1/2 * (self.mus[0]+self.mus[1]) - (self.sigmas[0][0]**2)/((np.linalg.norm(mu_diff))**2)*(math.log(priors[0]/priors[1])*mu_diff)\n",
    "        return self.w,self.x0\n",
    "    \n",
    "    def decision_boundry_fn(self,x):\n",
    "        return np.matmul(self.w.T, (x-self.x0))\n",
    "    \n",
    "    def predict(self,X):\n",
    "        op_data=[np.matmul(self.w.T, (x-self.x0)) for x in X]\n",
    "        to_ret=[0 if x>0 else 1 for x in op_data]\n",
    "        return np.array(to_ret)"
   ]
  },
  {
   "cell_type": "code",
   "execution_count": 7,
   "id": "9117808a",
   "metadata": {
    "scrolled": true
   },
   "outputs": [
    {
     "name": "stdout",
     "output_type": "stream",
     "text": [
      "Paramter Values calculated:  (array([-2.99820885, -2.99653006]), array([2.35674802, 2.5020648 ]))\n"
     ]
    }
   ],
   "source": [
    "model1=multi_case_1(mus,sigmas,priors)"
   ]
  },
  {
   "cell_type": "code",
   "execution_count": 8,
   "id": "06a9a798",
   "metadata": {},
   "outputs": [],
   "source": [
    "sigma_inv=np.linalg.inv(sigmas[0])\n",
    "mu_diff=mus[0]-mus[1]\n"
   ]
  },
  {
   "cell_type": "code",
   "execution_count": 9,
   "id": "f872675b",
   "metadata": {},
   "outputs": [],
   "source": [
    "class multi_case_2():\n",
    "    def __init__ (self,mus,sigmas,priors):\n",
    "        self.mus=mus\n",
    "        self.sigmas=sigmas\n",
    "        self.priors=priors\n",
    "        values=self.calculate_case_2()\n",
    "        print(f\"Paramter Values calculated: \", values)\n",
    "        return None\n",
    "    \n",
    "    def calculate_case_2(self):\n",
    "        sigma_inv=np.linalg.inv(self.sigmas[0])\n",
    "        mu_diff=self.mus[0]-self.mus[1]\n",
    "        self.w=np.dot(sigma_inv,mu_diff)\n",
    "        self.x0=((self.mus[0]+self.mus[1])/2)-np.log(self.priors[0]/priors[1])*mu_diff/(np.matmul(np.matmul(mu_diff.T,sigma_inv),mu_diff))\n",
    "        return self.w,self.x0\n",
    "    \n",
    "    def decision_boundry_fn(self,x):\n",
    "        return np.matmul(self.w.T, (x-self.x0))\n",
    "    \n",
    "    def predict(self,X):\n",
    "        op_data=[np.matmul(self.w.T, (x-self.x0)) for x in X]\n",
    "        to_ret=[0 if x>0 else 1 for x in op_data]\n",
    "        return np.array(to_ret)"
   ]
  },
  {
   "cell_type": "code",
   "execution_count": 10,
   "id": "193803ea",
   "metadata": {},
   "outputs": [
    {
     "name": "stdout",
     "output_type": "stream",
     "text": [
      "Paramter Values calculated:  (array([-2.98481629, -3.01239386]), array([2.35863277, 2.36082271]))\n"
     ]
    }
   ],
   "source": [
    "model2=multi_case_2(mus,sigmas,priors)"
   ]
  },
  {
   "cell_type": "code",
   "execution_count": 11,
   "id": "84b27f52",
   "metadata": {},
   "outputs": [],
   "source": [
    "class multi_case_3():\n",
    "    def __init__ (self,mus,sigmas,priors):\n",
    "        self.mus=mus\n",
    "        self.sigmas=sigmas\n",
    "        self.priors=priors\n",
    "        values=self.calculate_case_3_constants()\n",
    "        print(f\"Paramter Values calculated: {self.W12}\\n{self.W22}\\n{self.w11}\\n{self.w21}\\n{self.w10}\\n{self.w20}\")\n",
    "        \n",
    "        return None\n",
    "    \n",
    "    def calculate_case_3_constants(self):\n",
    "        dimension=len(self.mus[0])\n",
    "        print(self.sigmas.shape)\n",
    "        if (dimension,dimension) != self.sigmas[0].shape:\n",
    "            return NameError(\"Dimension mismatch\")\n",
    "        mu1=self.mus[0]\n",
    "        mu2=self.mus[1]\n",
    "        sigma1=self.sigmas[0]\n",
    "        sigma2=self.sigmas[1]\n",
    "        sigma1_inv=np.linalg.inv(sigma1)\n",
    "        sigma2_inv=np.linalg.inv(sigma2)\n",
    "        prior1=self.priors[0]\n",
    "        prior2=self.priors[1]\n",
    "        self.W12=-1/2*sigma1_inv\n",
    "        self.W22=-1/2*sigma2_inv\n",
    "        self.w11=np.matmul(sigma1_inv,mu1)\n",
    "        self.w21=np.matmul(sigma2_inv,mu2)\n",
    "        self.w10=-1/2*np.matmul(np.matmul(mu1.T,sigma1_inv),mu1) - 1/2*np.log(np.linalg.det(sigma1)) + np.log(priors[0])\n",
    "        self.w20=-1/2*np.matmul(np.matmul(mu2.T,sigma2_inv),mu2) - 1/2*np.log(np.linalg.det(sigma2)) + np.log(priors[1])\n",
    "        return self.W12,self.W22,self.w11,self.w21,self.w10,self.w20\n",
    "    \n",
    "    def decision_boundry_fn(self,x):\n",
    "        return np.matmul(np.matmul(x.T,(self.W12-self.W22)), x) + np.matmul((self.w11.T-self.w21.T),x) + (self.w10-self.w20) \n",
    "    \n",
    "    def predict(self,X):\n",
    "        op_data=[np.matmul(np.matmul(x.T,(self.W12-self.W22)), x) + np.matmul((self.w11.T-self.w21.T),x) + (self.w10-self.w20) for x in X]\n",
    "        to_ret=[0 if x>0 else 1 for x in op_data]\n",
    "        return np.array(to_ret)\n",
    "        "
   ]
  },
  {
   "cell_type": "code",
   "execution_count": 12,
   "id": "3ba25f01",
   "metadata": {},
   "outputs": [
    {
     "name": "stdout",
     "output_type": "stream",
     "text": [
      "(2, 2, 2)\n",
      "Paramter Values calculated: [[-0.49680272 -0.00096439]\n",
      " [-0.00096439 -0.5016821 ]]\n",
      "[[-0.49910482  0.00205293]\n",
      " [ 0.00205293 -0.50250159]]\n",
      "[0.99638621 1.0091077 ]\n",
      "[3.97547436 4.00392514]\n",
      "-2.210590850238254\n",
      "-16.312673762563197\n"
     ]
    }
   ],
   "source": [
    "model3=multi_case_3(mus,sigmas,priors)"
   ]
  },
  {
   "cell_type": "code",
   "execution_count": null,
   "id": "f2c9d5ea",
   "metadata": {},
   "outputs": [],
   "source": []
  },
  {
   "cell_type": "code",
   "execution_count": null,
   "id": "4a02ee30",
   "metadata": {},
   "outputs": [],
   "source": []
  },
  {
   "cell_type": "code",
   "execution_count": 13,
   "id": "26482037",
   "metadata": {},
   "outputs": [
    {
     "name": "stdout",
     "output_type": "stream",
     "text": [
      "(200000,)\n",
      "misclassification is fine\n"
     ]
    },
    {
     "data": {
      "text/plain": [
       "(0.02725, 0.0104, 0.015455)"
      ]
     },
     "execution_count": 13,
     "metadata": {},
     "output_type": "execute_result"
    }
   ],
   "source": [
    "y_true=y\n",
    "y_pred=model3.predict(X)\n",
    "print(y_pred.shape)\n",
    "\n",
    "def misclf_rate(y_true, y_pred):\n",
    "    y_true=list(y_true)\n",
    "    y_pred=list(y_pred)\n",
    "    total_class1 = y_true.count(0)\n",
    "    total_class2 = y_true.count(1)\n",
    "    misclf_class1 = 0\n",
    "    misclf_class2 = 0    \n",
    "    tn, fp, fn, tp = confusion_matrix(y_true,y_pred).ravel()    \n",
    "    total_misclassification_rate = (fp+fn)/(tn+fp+fn+tp)   \n",
    "    for i in range(len(y_true)):\n",
    "        if y_true[i] != y_pred[i]:\n",
    "            if y_true[i] == 0:\n",
    "                misclf_class1 += 1\n",
    "            elif y_true[i] == 1:\n",
    "                misclf_class2 += 1   \n",
    "            \n",
    "    class1_misclf_rate = misclf_class1/total_class1\n",
    "    class2_misclf_rate = misclf_class2/total_class2\n",
    "    full_misclassi=(misclf_class1+misclf_class2)/len(y_true)\n",
    "    if full_misclassi==total_misclassification_rate:\n",
    "        print(\"misclassification is fine\")\n",
    "    return class1_misclf_rate,class2_misclf_rate,total_misclassification_rate\n",
    "\n",
    "c1_mis,c2_mis,tot_mis=misclf_rate(y_true,y_pred)\n",
    "c1_mis,c2_mis,tot_mis"
   ]
  },
  {
   "cell_type": "code",
   "execution_count": null,
   "id": "440afa3a",
   "metadata": {},
   "outputs": [],
   "source": []
  },
  {
   "cell_type": "code",
   "execution_count": null,
   "id": "9c512a61",
   "metadata": {},
   "outputs": [],
   "source": []
  },
  {
   "cell_type": "code",
   "execution_count": 18,
   "id": "a9cedc9e",
   "metadata": {},
   "outputs": [],
   "source": [
    "def error_rate_for(percentage=0.01,X=X,y=y):\n",
    "    np.random.seed(35)\n",
    "    \n",
    "    train_i=np.random.choice(range(len(X)),int(len(X)*0.01*percentage),replace=False)\n",
    "    train_X=[X[i] for i in train_i]\n",
    "    train_y=[y[i] for i in train_i]\n",
    "    X0=np.array([list(train_X[i]) for i in range(len(train_y)) if train_y[i]==0])\n",
    "    X1=np.array([list(train_X[i]) for i in range(len(train_y)) if train_y[i]==1])\n",
    "\n",
    "    \n",
    "#     X0_=np.array([list(X[i]) for i in range(len(y)) if y[i]==0])\n",
    "#     X1_=np.array([list(X[i]) for i in range(len(y)) if y[i]==1])\n",
    "#     print(int(len(X0_)*0.01*percentage),int(len(X1_)*0.01*percentage))\n",
    "    \n",
    "#     train_i0=np.random.choice(range(len(X0_)),int(len(X0_)*0.01*percentage),replace=False)\n",
    "#     train_i1=np.random.choice(range(len(X1_)),int(len(X1_)*0.01*percentage),replace=False)\n",
    "#     X0=[X0_[i] for i in train_i0]\n",
    "#     X1=[X1_[i] for i in train_i1]\n",
    "# #     train_X0,train_X1\n",
    "\n",
    "#     plt.plot(X0[:, 0], X0[:, 1], '.', alpha=0.5, markersize=1)\n",
    "#     plt.plot(X1[:, 0], X1[:, 1], '.', alpha=0.5, markersize=1)\n",
    "#     plt.axis('equal')\n",
    "#     plt.grid()\n",
    "#     plt.show()\n",
    "    \n",
    "    prior0=len(X0)/(len(X0)+len(X1))\n",
    "    prior1=len(X1)/(len(X0)+len(X1))\n",
    "    \n",
    "    mean0,cov0=max_likelihood(X0)\n",
    "    mean1,cov1=max_likelihood(X1)\n",
    "    \n",
    "#     cov0=[[cov0[0][0],0],[0,cov0[1][1]]]\n",
    "#     cov1=[[cov1[0][0],0],[0,cov1[1][1]]]\n",
    "\n",
    "    mean0=[1,1]\n",
    "    mean1=[4,4]\n",
    "    cov0=[[1,0],[0,1]]\n",
    "    cov1=[[1,0],[0,1]]\n",
    "\n",
    "    mus=np.array([mean0,mean1])\n",
    "    sigmas=np.array([cov0,cov1])\n",
    "    priors=np.array([prior0,prior1])\n",
    "    print(f\"mus={mus}\\n\\n,sigmas={sigmas}\\n\\n,priors={priors}\")\n",
    "    \n",
    "#     if np.array_equal(cov0,cov1):\n",
    "#         if cov0[0][0]==cov0[1][1] and cov0[0][1]==0 and cov0[1][0]==0:\n",
    "#             model=multi_case_1(mus,sigmas,priors)\n",
    "#         else:\n",
    "#             model=multi_case_2(mus,sigmas,priors)\n",
    "#     else:\n",
    "    model=multi_case_3(mus,sigmas,priors)\n",
    "        \n",
    "    y_pred=model.predict(X)\n",
    "    print(\"prediction_shape vs y_true shape:\",y_pred.shape, \"   \", y.shape)\n",
    "    \n",
    "    c1_mis,c2_mis,tot_mis=misclf_rate(y_true=y,y_pred=y_pred)\n",
    "    \n",
    "    return c1_mis,c2_mis,tot_mis,model"
   ]
  },
  {
   "cell_type": "code",
   "execution_count": 19,
   "id": "54753b16",
   "metadata": {},
   "outputs": [
    {
     "name": "stdout",
     "output_type": "stream",
     "text": [
      "mus=[[1 1]\n",
      " [4 4]]\n",
      "\n",
      ",sigmas=[[[1 0]\n",
      "  [0 1]]\n",
      "\n",
      " [[1 0]\n",
      "  [0 1]]]\n",
      "\n",
      ",priors=[0.3 0.7]\n",
      "(2, 2, 2)\n",
      "Paramter Values calculated: [[-0.5 -0. ]\n",
      " [-0.  -0.5]]\n",
      "[[-0.5 -0. ]\n",
      " [-0.  -0.5]]\n",
      "[1. 1.]\n",
      "[4. 4.]\n",
      "-2.203972804325936\n",
      "-16.35667494393873\n",
      "prediction_shape vs y_true shape: (200000,)     (200000,)\n",
      "misclassification is fine\n"
     ]
    },
    {
     "data": {
      "text/plain": [
       "(0.0272, 0.010435714285714286, 0.015465)"
      ]
     },
     "execution_count": 19,
     "metadata": {},
     "output_type": "execute_result"
    }
   ],
   "source": [
    "c1_mis,c2_mis,tot_mis,model_f=error_rate_for(percentage=100,X=X,y=y)\n",
    "\n",
    "c1_mis,c2_mis,tot_mis"
   ]
  },
  {
   "cell_type": "code",
   "execution_count": 16,
   "id": "7bf77427",
   "metadata": {},
   "outputs": [
    {
     "data": {
      "text/plain": [
       "(0.021333333333333333, 0.013707142857142857, 0.015995)"
      ]
     },
     "execution_count": 16,
     "metadata": {},
     "output_type": "execute_result"
    }
   ],
   "source": [
    "(0.021333333333333333, 0.013707142857142857, 0.015995)"
   ]
  },
  {
   "cell_type": "code",
   "execution_count": null,
   "id": "c40fc24d",
   "metadata": {},
   "outputs": [],
   "source": []
  },
  {
   "cell_type": "code",
   "execution_count": null,
   "id": "52017e74",
   "metadata": {},
   "outputs": [],
   "source": []
  },
  {
   "cell_type": "code",
   "execution_count": 17,
   "id": "438b5957",
   "metadata": {},
   "outputs": [
    {
     "name": "stdout",
     "output_type": "stream",
     "text": [
      "shape of x_in, (1000000, 2)\n",
      "doing binary classifcation...\n"
     ]
    },
    {
     "data": {
      "image/png": "[encoded data removed]",
      "text/plain": [
       "<Figure size 900x900 with 1 Axes>"
      ]
     },
     "metadata": {
      "needs_background": "light"
     },
     "output_type": "display_data"
    }
   ],
   "source": [
    "def plot_decision_boundary(model, X, y):\n",
    "    # Define the axis boundaries of the plot and create a meshgrid\n",
    "    \n",
    "    x_min, x_max = -11,18\n",
    "    y_min, y_max = -10,18\n",
    "    xx, yy = np.meshgrid(np.linspace(x_min, x_max, 1000),\n",
    "                         np.linspace(y_min, y_max, 1000))\n",
    "    \n",
    "    # Create X values (we're going to predict on all of these)\n",
    "    x_in = np.c_[xx.ravel(), yy.ravel()] \n",
    "    \n",
    "    # Make predictions using the trained model\n",
    "    print(f\"shape of x_in, {x_in.shape}\")\n",
    "    y_pred = model.predict(x_in)\n",
    "    y_pred=[[x] for x in y_pred]\n",
    "    # Check for multi-class\n",
    "    if len(y_pred[0]) > 1:\n",
    "        print(\"doing multiclass classification...\")\n",
    "        # We have to reshape our predictions to get them ready for plotting\n",
    "        y_pred = np.argmax(y_pred, axis=1).reshape(xx.shape)\n",
    "    else:\n",
    "        print(\"doing binary classifcation...\")\n",
    "        y_pred = np.round(y_pred).reshape(xx.shape)\n",
    "        \n",
    "    # Plot decision boundary\n",
    "    plt.figure(figsize=(15,15), dpi=60)\n",
    "    p=np.concatenate((X.T,np.array([y])),axis=0).T\n",
    "    np.random.shuffle(p)\n",
    "    color= ['red' if l == 0 else 'blue' for l in p[:,2]]\n",
    "    plt.scatter(p[:, 0], p[:, 1], s=40, color=color, alpha=0.3)\n",
    "    plt.contourf(xx, yy, y_pred, cmap=plt.cm.RdYlBu, alpha=0.4)\n",
    "#     plt.scatter([1],[1], s=20, color=[\"green\"], alpha=1)\n",
    "#     plt.scatter([4],[4], s=20, color=[\"yellow\"], alpha=1)\n",
    "    plt.axis('equal')\n",
    "    plt.title(\"Spread of the dataset A with the decision boundary created by Bayesian model designed in question 1\")\n",
    "    plt.xlabel(\"X1\")\n",
    "    plt.ylabel(\"X2\")\n",
    "    red_patch = mpatches.Patch(color='red', label='Class 0')\n",
    "    blue_patch = mpatches.Patch(color='blue', label='Class 1')\n",
    "    plt.legend(handles=[red_patch, blue_patch])\n",
    "    plt.grid()\n",
    "    \n",
    "plot_decision_boundary(model_f,X,y)"
   ]
  },
  {
   "cell_type": "code",
   "execution_count": null,
   "id": "91007c4a",
   "metadata": {},
   "outputs": [],
   "source": []
  },
  {
   "cell_type": "code",
   "execution_count": null,
   "id": "7f1e1c4b",
   "metadata": {},
   "outputs": [],
   "source": []
  }
 ],
 "metadata": {
  "kernelspec": {
   "display_name": "Python 3",
   "language": "python",
   "name": "python3"
  },
  "language_info": {
   "codemirror_mode": {
    "name": "ipython",
    "version": 3
   },
   "file_extension": ".py",
   "mimetype": "text/x-python",
   "name": "python",
   "nbconvert_exporter": "python",
   "pygments_lexer": "ipython3",
   "version": "3.7.0"
  }
 },
 "nbformat": 4,
 "nbformat_minor": 5
}
