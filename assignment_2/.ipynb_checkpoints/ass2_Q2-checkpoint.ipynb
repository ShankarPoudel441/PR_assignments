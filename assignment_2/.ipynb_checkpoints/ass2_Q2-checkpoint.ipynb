{
 "cells": [
  {
   "cell_type": "code",
   "execution_count": 2,
   "id": "19852a16",
   "metadata": {},
   "outputs": [],
   "source": [
    "import numpy as np\n",
    "import math\n",
    "import matplotlib.pyplot as plt \n",
    "import matplotlib.patches as mpatches\n",
    "from sklearn.metrics import confusion_matrix\n",
    "import pickle as pkl"
   ]
  },
  {
   "cell_type": "code",
   "execution_count": 13,
   "id": "98bf8212",
   "metadata": {},
   "outputs": [
    {
     "data": {
      "text/plain": [
       "(0.3, 0.7)"
      ]
     },
     "execution_count": 13,
     "metadata": {},
     "output_type": "execute_result"
    }
   ],
   "source": [
    "with open('q1.pickle', 'rb') as handle:\n",
    "    b = pkl.load(handle)\n",
    "    X,y=b\n",
    "    X=np.array(X)\n",
    "    y=np.array(y)\n",
    "\n",
    "X0=np.array([list(X[i]) for i in range(len(y)) if y[i]==0])\n",
    "X1=np.array([list(X[i]) for i in range(len(y)) if y[i]==1])\n",
    "\n",
    "prior0=len(X0)/len(X)\n",
    "prior1=len(X1)/len(X)\n",
    "\n",
    "prior0,prior1"
   ]
  },
  {
   "cell_type": "code",
   "execution_count": 14,
   "id": "083ccb8c",
   "metadata": {},
   "outputs": [
    {
     "data": {
      "text/plain": [
       "array([[ 1.00642269, -0.00193465],\n",
       "       [-0.00193465,  0.99663419]])"
      ]
     },
     "execution_count": 14,
     "metadata": {},
     "output_type": "execute_result"
    }
   ],
   "source": [
    "def calculate_cov(X):\n",
    "    N, M = X.shape\n",
    "    # Calculate the covariance matrix\n",
    "    cov = np.zeros((M, M))\n",
    "    for i in range(M):\n",
    "        # Mean of column \"i\"\n",
    "        mean_i = np.sum(X0[:, i]) / N\n",
    "        for j in range(M):\n",
    "            # Mean of column \"j\"\n",
    "            mean_j = np.sum(X0[:, j]) / N\n",
    "            # Covariance between column \"i\" and column \"j\"\n",
    "            cov[i, j] = np.sum((X0[:, i] - mean_i) * (X0[:, j] - mean_j)) / N\n",
    "    return cov\n",
    "\n",
    "cov=calculate_cov(X0)\n",
    "cov"
   ]
  },
  {
   "cell_type": "code",
   "execution_count": 17,
   "id": "e7ae0786",
   "metadata": {},
   "outputs": [
    {
     "name": "stdout",
     "output_type": "stream",
     "text": [
      "[[1.00085009 1.0038003 ]\n",
      " [3.99905894 4.00033036]]\n",
      "\n",
      ",[[[ 1.00642269 -0.00193465]\n",
      "  [-0.00193465  0.99663419]]\n",
      "\n",
      " [[ 0.57150373  0.13976379]\n",
      "  [ 0.13976379  0.56813629]]]\n",
      "\n",
      ",[0.3 0.7],\n",
      "\n",
      "[-0.26141452  1.98797281]\n"
     ]
    }
   ],
   "source": [
    "def max_likelihood(X):\n",
    "    mean=np.mean(X,axis=0)\n",
    "#     conv=np.cov(X,rowvar=False)\n",
    "    cov=calculate_cov(X)\n",
    "    return mean,cov\n",
    "\n",
    "\n",
    "mean0,cov0=max_likelihood(X0)\n",
    "mean1,cov1=max_likelihood(X1)\n",
    "\n",
    "\n",
    "mus=np.array([mean0,mean1])\n",
    "sigmas=np.array([cov0,cov1])\n",
    "priors=np.array([prior0,prior1])\n",
    "print(f\"{mus}\\n\\n,{sigmas}\\n\\n,{priors},\\n\\n{X[100]}\")"
   ]
  },
  {
   "cell_type": "code",
   "execution_count": 20,
   "id": "51cf7367",
   "metadata": {},
   "outputs": [],
   "source": [
    "class multi_case_1():\n",
    "    def __init__ (self,mus,sigmas,priors):\n",
    "        self.mus=mus\n",
    "        self.sigmas=sigmas\n",
    "        self.priors=priors\n",
    "        values=self.calculate_case_1()\n",
    "        print(f\"Paramter Values calculated: \", values)\n",
    "        return None\n",
    "    \n",
    "    def calculate_case_1(self):\n",
    "        mu_diff=(self.mus[0]-self.mus[1])\n",
    "        self.w= mu_diff\n",
    "        self.x0= 1/2 * (self.mus[0]+self.mus[1]) - (self.sigmas[0][0]**2)/((np.linalg.norm(mu_diff))**2)*(math.log(priors[0]/priors[1])*mu_diff)\n",
    "        return self.w,self.x0\n",
    "    \n",
    "    def decision_boundry_fn(self,x):\n",
    "        return np.matmul(self.w.T, (x-self.x0))\n",
    "    \n",
    "    def predict(self,X):\n",
    "        op_data=[np.matmul(self.w.T, (x-self.x0)) for x in X]\n",
    "        to_ret=[0 if x>0 else 1 for x in op_data]\n",
    "        return np.array(to_ret)"
   ]
  },
  {
   "cell_type": "code",
   "execution_count": 22,
   "id": "09683b42",
   "metadata": {
    "scrolled": true
   },
   "outputs": [
    {
     "name": "stdout",
     "output_type": "stream",
     "text": [
      "Paramter Values calculated:  (array([-2.99820885, -2.99653006]), array([2.35675279, 2.5020648 ]))\n"
     ]
    }
   ],
   "source": [
    "model1=multi_case_1(mus,sigmas,priors)"
   ]
  },
  {
   "cell_type": "code",
   "execution_count": 27,
   "id": "2551029d",
   "metadata": {},
   "outputs": [
    {
     "data": {
      "text/plain": [
       "17.976130984759905"
      ]
     },
     "execution_count": 27,
     "metadata": {},
     "output_type": "execute_result"
    }
   ],
   "source": [
    "sigma_inv=np.linalg.inv(sigmas[0])\n",
    "mu_diff=mus[0]-mus[1]\n"
   ]
  },
  {
   "cell_type": "code",
   "execution_count": 32,
   "id": "0a689867",
   "metadata": {},
   "outputs": [],
   "source": [
    "class multi_case_2():\n",
    "    def __init__ (self,mus,sigmas,priors):\n",
    "        self.mus=mus\n",
    "        self.sigmas=sigmas\n",
    "        self.priors=priors\n",
    "        values=self.calculate_case_2()\n",
    "        print(f\"Paramter Values calculated: \", values)\n",
    "        return None\n",
    "    \n",
    "    def calculate_case_2(self):\n",
    "        sigma_inv=np.linalg.inv(self.sigmas[0])\n",
    "        mu_diff=self.mus[0]-self.mus[1]\n",
    "        self.w=np.dot(sigma_inv,mu_diff)\n",
    "        self.x0=((self.mus[0]+self.mus[1])/2)-np.log(self.priors[0]/priors[1])*mu_diff/(np.matmul(np.matmul(mu_diff.T,sigma_inv),mu_diff))\n",
    "        return self.w,self.x0\n",
    "    \n",
    "    def decision_boundry_fn(self,x):\n",
    "        return np.matmul(self.w.T, (x-self.x0))\n",
    "    \n",
    "    def predict(self,X):\n",
    "        op_data=[np.matmul(self.w.T, (x-self.x0)) for x in X]\n",
    "        to_ret=[0 if x>0 else 1 for x in op_data]\n",
    "        return np.array(to_ret)"
   ]
  },
  {
   "cell_type": "code",
   "execution_count": 33,
   "id": "cff3837f",
   "metadata": {},
   "outputs": [
    {
     "name": "stdout",
     "output_type": "stream",
     "text": [
      "Paramter Values calculated:  (array([-2.98486603, -3.01244407]), array([2.35863512, 2.36082506]))\n"
     ]
    }
   ],
   "source": [
    "model2=multi_case_2(mus,sigmas,priors)"
   ]
  },
  {
   "cell_type": "code",
   "execution_count": 23,
   "id": "b249a59b",
   "metadata": {},
   "outputs": [],
   "source": [
    "class multi_case_3():\n",
    "    def __init__ (self,mus,sigmas,priors):\n",
    "        self.mus=mus\n",
    "        self.sigmas=sigmas\n",
    "        self.priors=priors\n",
    "        values=self.calculate_case_3_constants()\n",
    "        print(f\"Paramter Values calculated: {self.W12}\\n{self.W22}\\n{self.w11}\\n{self.w21}\\n{self.w10}\\n{self.w20}\")\n",
    "        \n",
    "        return None\n",
    "    \n",
    "    def calculate_case_3_constants(self):\n",
    "        dimension=len(self.mus[0])\n",
    "        print(self.sigmas.shape)\n",
    "        if (dimension,dimension) != self.sigmas[0].shape:\n",
    "            return NameError(\"Dimension mismatch\")\n",
    "        mu1=self.mus[0]\n",
    "        mu2=self.mus[1]\n",
    "        sigma1=self.sigmas[0]\n",
    "        sigma2=self.sigmas[1]\n",
    "        sigma1_inv=np.linalg.inv(sigma1)\n",
    "        sigma2_inv=np.linalg.inv(sigma2)\n",
    "        prior1=self.priors[0]\n",
    "        prior2=self.priors[1]\n",
    "        self.W12=-1/2*sigma1_inv\n",
    "        self.W22=-1/2*sigma2_inv\n",
    "        self.w11=np.matmul(sigma1_inv,mu1)\n",
    "        self.w21=np.matmul(sigma2_inv,mu2)\n",
    "        self.w10=-1/2*np.matmul(np.matmul(mu1.T,sigma1_inv),mu1) - 1/2*np.log(np.linalg.det(sigma1)) + np.log(priors[0])\n",
    "        self.w20=-1/2*np.matmul(np.matmul(mu2.T,sigma2_inv),mu2) - 1/2*np.log(np.linalg.det(sigma2)) + np.log(priors[1])\n",
    "        return self.W12,self.W22,self.w11,self.w21,self.w10,self.w20\n",
    "    \n",
    "    def decision_boundry_fn(self,x):\n",
    "        return np.matmul(np.matmul(x.T,(self.W12-self.W22)), x) + np.matmul((self.w11.T-self.w21.T),x) + (self.w10-self.w20) \n",
    "    \n",
    "    def predict(self,X):\n",
    "        op_data=[np.matmul(np.matmul(x.T,(self.W12-self.W22)), x) + np.matmul((self.w11.T-self.w21.T),x) + (self.w10-self.w20) for x in X]\n",
    "        to_ret=[0 if x>0 else 1 for x in op_data]\n",
    "        return np.array(to_ret)\n",
    "        "
   ]
  },
  {
   "cell_type": "code",
   "execution_count": 24,
   "id": "08e45b6b",
   "metadata": {},
   "outputs": [
    {
     "name": "stdout",
     "output_type": "stream",
     "text": [
      "(2, 2, 2)\n",
      "Paramter Values calculated: [[-0.496811   -0.0009644 ]\n",
      " [-0.0009644  -0.50169046]]\n",
      "[[-0.93088846  0.22900227]\n",
      " [ 0.22900227 -0.93640599]]\n",
      "[0.99640281 1.00912452]\n",
      "[5.61318621 5.6602795 ]\n",
      "-2.210590935177157\n",
      "-22.308437503503598\n"
     ]
    }
   ],
   "source": [
    "model3=multi_case_3(mus,sigmas,priors)"
   ]
  },
  {
   "cell_type": "code",
   "execution_count": null,
   "id": "17fab2a6",
   "metadata": {},
   "outputs": [],
   "source": []
  }
 ],
 "metadata": {
  "kernelspec": {
   "display_name": "Python 3",
   "language": "python",
   "name": "python3"
  },
  "language_info": {
   "codemirror_mode": {
    "name": "ipython",
    "version": 3
   },
   "file_extension": ".py",
   "mimetype": "text/x-python",
   "name": "python",
   "nbconvert_exporter": "python",
   "pygments_lexer": "ipython3",
   "version": "3.7.0"
  }
 },
 "nbformat": 4,
 "nbformat_minor": 5
}
